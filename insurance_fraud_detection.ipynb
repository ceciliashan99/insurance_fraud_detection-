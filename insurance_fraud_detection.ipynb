{
  "nbformat": 4,
  "nbformat_minor": 0,
  "metadata": {
    "colab": {
      "provenance": [],
      "toc_visible": true
    },
    "kernelspec": {
      "name": "python3",
      "display_name": "Python 3"
    },
    "language_info": {
      "name": "python"
    }
  },
  "cells": [
    {
      "cell_type": "markdown",
      "source": [
        "# CIS545 Group Project"
      ],
      "metadata": {
        "id": "0uV3vUIfa301"
      }
    },
    {
      "cell_type": "markdown",
      "source": [
        "By Liancheng Gong, Yuxuan Hu, Jinyun Shan <br>\n",
        "December 2022"
      ],
      "metadata": {
        "id": "ZoJBT1PLa8Um"
      }
    },
    {
      "cell_type": "markdown",
      "source": [
        "# Overview"
      ],
      "metadata": {
        "id": "4JciQ-e_bqIF"
      }
    },
    {
      "cell_type": "markdown",
      "source": [
        "There are several motivations for detecting insurance fraud. One of the main reasons is to prevent individuals and organizations from taking advantage of the insurance system and making fraudulent claims. This helps to keep insurance costs under control and ensures that premiums remain affordable for legitimate policyholders. Additionally, detecting and preventing insurance fraud can help to protect the reputation of the insurance company and maintain trust with its customers. Insurance fraud can also have negative effects on the economy, as it can lead to higher prices for goods and services that are insured. By detecting and preventing fraud, insurance companies can help to ensure that the insurance system is fair and sustainable for everyone.\n",
        "\n",
        "In this project, we utilized data of automobile accidents and whether they are insurance frauds, trying to create a predictive model based on these data. We intend to study and analyze the data of insurance claims of automobiles, policy details, vehicle details, claim details and also the customer demographic information, etc. \n",
        "\n",
        "In this notebook, we classify whether the insurance is fraud or not via data preprocessing and modeling. We use scikit learning packages, including Logistic Regression, Decision Tree Classification, Random Forest Classification, AdaBoost Classification, and Neural Network, to fit the data. By constructing models and comparing the performances of different models, we select one main model with the highest accuracy score as our final model. In this case, we chose Random Forest as our final model for the data. "
      ],
      "metadata": {
        "id": "8tJfmIF3T6Sa"
      }
    },
    {
      "cell_type": "markdown",
      "source": [
        "# Imports"
      ],
      "metadata": {
        "id": "nG_REQ_idx9s"
      }
    },
    {
      "cell_type": "code",
      "execution_count": null,
      "metadata": {
        "id": "jDXrI1lquP05"
      },
      "outputs": [],
      "source": [
        "# Imports and Setups\n",
        "import numpy as np\n",
        "import os\n",
        "import pandas as pd\n",
        "import matplotlib.pyplot as plt\n",
        "import seaborn as sns\n",
        "import sklearn "
      ]
    },
    {
      "cell_type": "markdown",
      "source": [
        "# Data Loading and Preprocessiong"
      ],
      "metadata": {
        "id": "qOHjwoc96-ap"
      }
    },
    {
      "cell_type": "markdown",
      "source": [
        "Link to CSVs: (NEED TO LOAD TO RUN NOTEBOOK)  \n",
        "https://drive.google.com/drive/folders/1GgqybnmCDSFkl7aAU6zuaqoACqzDYcVK?usp=sharing"
      ],
      "metadata": {
        "id": "H6eywqI_efLn"
      }
    },
    {
      "cell_type": "markdown",
      "source": [
        "We have in total five CSVs, including claim, demographics, policy, vehicle, and dataTarget. In this section, we merges those datasets and get to know about the detailed columns and distributions of values. \n",
        "\n",
        "First, let's load 5 csv files."
      ],
      "metadata": {
        "id": "62W5T863YxnO"
      }
    },
    {
      "cell_type": "code",
      "source": [
        "# display all columns\n",
        "pd.set_option('display.max_columns', None) "
      ],
      "metadata": {
        "id": "DNDuTX0-PpmH"
      },
      "execution_count": null,
      "outputs": []
    },
    {
      "cell_type": "code",
      "source": [
        "# Load 5 csv files\n",
        "claim = pd.read_csv('Claim.csv')\n",
        "demographics= pd.read_csv('Demographics.csv')\n",
        "policy = pd.read_csv('Policy.csv')\n",
        "vehicle = pd.read_csv('Vehicle.csv')\n",
        "dataTarget = pd.read_csv('data_with_Target.csv')"
      ],
      "metadata": {
        "id": "vRuxDwNnNt7k"
      },
      "execution_count": null,
      "outputs": []
    },
    {
      "cell_type": "code",
      "source": [
        "# shape of all files\n",
        "(claim.shape),(demographics.shape),(policy.shape),(vehicle.shape),(dataTarget.shape)"
      ],
      "metadata": {
        "colab": {
          "base_uri": "https://localhost:8080/"
        },
        "id": "5AdByze4wz1z",
        "outputId": "f5bdc33b-cf0f-42e7-dcc2-4fef5df9983d"
      },
      "execution_count": null,
      "outputs": [
        {
          "output_type": "execute_result",
          "data": {
            "text/plain": [
              "((28836, 19), (28836, 10), (28836, 10), (115344, 3), (28836, 2))"
            ]
          },
          "metadata": {},
          "execution_count": 10
        }
      ]
    },
    {
      "cell_type": "markdown",
      "source": [
        "#### Combine dataframes"
      ],
      "metadata": {
        "id": "Z69pJsQYO7-V"
      }
    },
    {
      "cell_type": "markdown",
      "source": [
        "Noticing that vehicle has four rows (VehicleID, VehicleModel, VehicleMake, VehicleYOM) for one Customer, we reconstruct the dataframe into one row for each customerID."
      ],
      "metadata": {
        "id": "QRH9a6J4Ulgk"
      }
    },
    {
      "cell_type": "code",
      "source": [
        "vehicle.head()"
      ],
      "metadata": {
        "colab": {
          "base_uri": "https://localhost:8080/",
          "height": 206
        },
        "id": "rwwySZLaw4wN",
        "outputId": "d23f1529-2a97-4bf7-ddd5-2df3630a4f07"
      },
      "execution_count": null,
      "outputs": [
        {
          "output_type": "execute_result",
          "data": {
            "text/plain": [
              "  CustomerID VehicleAttribute VehicleAttributeDetails\n",
              "0  Cust20179        VehicleID             Vehicle8898\n",
              "1  Cust21384     VehicleModel                  Malibu\n",
              "2  Cust33335      VehicleMake                  Toyota\n",
              "3  Cust27118     VehicleModel                    Neon\n",
              "4  Cust13038        VehicleID            Vehicle30212"
            ],
            "text/html": [
              "\n",
              "  <div id=\"df-e31c26dd-ae19-49ab-9310-6d6d3a0733d8\">\n",
              "    <div class=\"colab-df-container\">\n",
              "      <div>\n",
              "<style scoped>\n",
              "    .dataframe tbody tr th:only-of-type {\n",
              "        vertical-align: middle;\n",
              "    }\n",
              "\n",
              "    .dataframe tbody tr th {\n",
              "        vertical-align: top;\n",
              "    }\n",
              "\n",
              "    .dataframe thead th {\n",
              "        text-align: right;\n",
              "    }\n",
              "</style>\n",
              "<table border=\"1\" class=\"dataframe\">\n",
              "  <thead>\n",
              "    <tr style=\"text-align: right;\">\n",
              "      <th></th>\n",
              "      <th>CustomerID</th>\n",
              "      <th>VehicleAttribute</th>\n",
              "      <th>VehicleAttributeDetails</th>\n",
              "    </tr>\n",
              "  </thead>\n",
              "  <tbody>\n",
              "    <tr>\n",
              "      <th>0</th>\n",
              "      <td>Cust20179</td>\n",
              "      <td>VehicleID</td>\n",
              "      <td>Vehicle8898</td>\n",
              "    </tr>\n",
              "    <tr>\n",
              "      <th>1</th>\n",
              "      <td>Cust21384</td>\n",
              "      <td>VehicleModel</td>\n",
              "      <td>Malibu</td>\n",
              "    </tr>\n",
              "    <tr>\n",
              "      <th>2</th>\n",
              "      <td>Cust33335</td>\n",
              "      <td>VehicleMake</td>\n",
              "      <td>Toyota</td>\n",
              "    </tr>\n",
              "    <tr>\n",
              "      <th>3</th>\n",
              "      <td>Cust27118</td>\n",
              "      <td>VehicleModel</td>\n",
              "      <td>Neon</td>\n",
              "    </tr>\n",
              "    <tr>\n",
              "      <th>4</th>\n",
              "      <td>Cust13038</td>\n",
              "      <td>VehicleID</td>\n",
              "      <td>Vehicle30212</td>\n",
              "    </tr>\n",
              "  </tbody>\n",
              "</table>\n",
              "</div>\n",
              "      <button class=\"colab-df-convert\" onclick=\"convertToInteractive('df-e31c26dd-ae19-49ab-9310-6d6d3a0733d8')\"\n",
              "              title=\"Convert this dataframe to an interactive table.\"\n",
              "              style=\"display:none;\">\n",
              "        \n",
              "  <svg xmlns=\"http://www.w3.org/2000/svg\" height=\"24px\"viewBox=\"0 0 24 24\"\n",
              "       width=\"24px\">\n",
              "    <path d=\"M0 0h24v24H0V0z\" fill=\"none\"/>\n",
              "    <path d=\"M18.56 5.44l.94 2.06.94-2.06 2.06-.94-2.06-.94-.94-2.06-.94 2.06-2.06.94zm-11 1L8.5 8.5l.94-2.06 2.06-.94-2.06-.94L8.5 2.5l-.94 2.06-2.06.94zm10 10l.94 2.06.94-2.06 2.06-.94-2.06-.94-.94-2.06-.94 2.06-2.06.94z\"/><path d=\"M17.41 7.96l-1.37-1.37c-.4-.4-.92-.59-1.43-.59-.52 0-1.04.2-1.43.59L10.3 9.45l-7.72 7.72c-.78.78-.78 2.05 0 2.83L4 21.41c.39.39.9.59 1.41.59.51 0 1.02-.2 1.41-.59l7.78-7.78 2.81-2.81c.8-.78.8-2.07 0-2.86zM5.41 20L4 18.59l7.72-7.72 1.47 1.35L5.41 20z\"/>\n",
              "  </svg>\n",
              "      </button>\n",
              "      \n",
              "  <style>\n",
              "    .colab-df-container {\n",
              "      display:flex;\n",
              "      flex-wrap:wrap;\n",
              "      gap: 12px;\n",
              "    }\n",
              "\n",
              "    .colab-df-convert {\n",
              "      background-color: #E8F0FE;\n",
              "      border: none;\n",
              "      border-radius: 50%;\n",
              "      cursor: pointer;\n",
              "      display: none;\n",
              "      fill: #1967D2;\n",
              "      height: 32px;\n",
              "      padding: 0 0 0 0;\n",
              "      width: 32px;\n",
              "    }\n",
              "\n",
              "    .colab-df-convert:hover {\n",
              "      background-color: #E2EBFA;\n",
              "      box-shadow: 0px 1px 2px rgba(60, 64, 67, 0.3), 0px 1px 3px 1px rgba(60, 64, 67, 0.15);\n",
              "      fill: #174EA6;\n",
              "    }\n",
              "\n",
              "    [theme=dark] .colab-df-convert {\n",
              "      background-color: #3B4455;\n",
              "      fill: #D2E3FC;\n",
              "    }\n",
              "\n",
              "    [theme=dark] .colab-df-convert:hover {\n",
              "      background-color: #434B5C;\n",
              "      box-shadow: 0px 1px 3px 1px rgba(0, 0, 0, 0.15);\n",
              "      filter: drop-shadow(0px 1px 2px rgba(0, 0, 0, 0.3));\n",
              "      fill: #FFFFFF;\n",
              "    }\n",
              "  </style>\n",
              "\n",
              "      <script>\n",
              "        const buttonEl =\n",
              "          document.querySelector('#df-e31c26dd-ae19-49ab-9310-6d6d3a0733d8 button.colab-df-convert');\n",
              "        buttonEl.style.display =\n",
              "          google.colab.kernel.accessAllowed ? 'block' : 'none';\n",
              "\n",
              "        async function convertToInteractive(key) {\n",
              "          const element = document.querySelector('#df-e31c26dd-ae19-49ab-9310-6d6d3a0733d8');\n",
              "          const dataTable =\n",
              "            await google.colab.kernel.invokeFunction('convertToInteractive',\n",
              "                                                     [key], {});\n",
              "          if (!dataTable) return;\n",
              "\n",
              "          const docLinkHtml = 'Like what you see? Visit the ' +\n",
              "            '<a target=\"_blank\" href=https://colab.research.google.com/notebooks/data_table.ipynb>data table notebook</a>'\n",
              "            + ' to learn more about interactive tables.';\n",
              "          element.innerHTML = '';\n",
              "          dataTable['output_type'] = 'display_data';\n",
              "          await google.colab.output.renderOutput(dataTable, element);\n",
              "          const docLink = document.createElement('div');\n",
              "          docLink.innerHTML = docLinkHtml;\n",
              "          element.appendChild(docLink);\n",
              "        }\n",
              "      </script>\n",
              "    </div>\n",
              "  </div>\n",
              "  "
            ]
          },
          "metadata": {},
          "execution_count": 11
        }
      ]
    },
    {
      "cell_type": "code",
      "source": [
        "vehicle['VehicleAttribute'].value_counts()"
      ],
      "metadata": {
        "colab": {
          "base_uri": "https://localhost:8080/"
        },
        "id": "dIpeZ841w-QF",
        "outputId": "4762c14b-22f5-410d-a96e-37212be58506"
      },
      "execution_count": null,
      "outputs": [
        {
          "output_type": "execute_result",
          "data": {
            "text/plain": [
              "VehicleID       28836\n",
              "VehicleModel    28836\n",
              "VehicleMake     28836\n",
              "VehicleYOM      28836\n",
              "Name: VehicleAttribute, dtype: int64"
            ]
          },
          "metadata": {},
          "execution_count": 12
        }
      ]
    },
    {
      "cell_type": "code",
      "source": [
        "# Rename Columns\n",
        "vehicleid = vehicle[vehicle['VehicleAttribute']=='VehicleID'][['CustomerID','VehicleAttributeDetails']].rename(columns={'VehicleAttributeDetails':'VehicleID'})\n",
        "vehiclemodel = vehicle[vehicle['VehicleAttribute']=='VehicleModel'][['CustomerID','VehicleAttributeDetails']].rename(columns={'VehicleAttributeDetails':'VehicleModel'})\n",
        "vehiclemake = vehicle[vehicle['VehicleAttribute']=='VehicleMake'][['CustomerID','VehicleAttributeDetails']].rename(columns={'VehicleAttributeDetails':'VehicleMake'})\n",
        "vehicleyom = vehicle[vehicle['VehicleAttribute']=='VehicleYOM'][['CustomerID','VehicleAttributeDetails']].rename(columns={'VehicleAttributeDetails':'VehicleYOM'})"
      ],
      "metadata": {
        "id": "_JklXCEYOAE_"
      },
      "execution_count": null,
      "outputs": []
    },
    {
      "cell_type": "code",
      "source": [
        "# Merge all our dataframes based on Customer ID\n",
        "df1 = pd.merge(dataTarget,claim, on = ['CustomerID'], how='inner')\n",
        "df2 = pd.merge(df1,demographics,on = ['CustomerID'], how='inner')\n",
        "df3 = pd.merge(df2,policy,on = ['CustomerID'], how='inner')\n",
        "df4 = pd.merge(df3,vehicleid,on = ['CustomerID'], how='inner')\n",
        "df5 = pd.merge(df4,vehiclemodel,on = ['CustomerID'], how='inner')\n",
        "df6 = pd.merge(df5,vehiclemake,on = ['CustomerID'], how='inner')\n",
        "df = pd.merge(df6,vehicleyom,on = ['CustomerID'], how='inner')"
      ],
      "metadata": {
        "id": "mjB-_IX2ydP1"
      },
      "execution_count": null,
      "outputs": []
    },
    {
      "cell_type": "code",
      "source": [
        "df.head()"
      ],
      "metadata": {
        "colab": {
          "base_uri": "https://localhost:8080/",
          "height": 357
        },
        "id": "H8WaEOA_xm7U",
        "outputId": "e9cd97c5-649b-424d-ade2-0c12774d7b06"
      },
      "execution_count": null,
      "outputs": [
        {
          "output_type": "execute_result",
          "data": {
            "text/plain": [
              "  CustomerID ReportedFraud DateOfIncident            TypeOfIncident  \\\n",
              "0  Cust20065             N     2015-01-09   Multi-vehicle Collision   \n",
              "1  Cust37589             N     2015-02-20  Single Vehicle Collision   \n",
              "2  Cust24312             N     2015-01-14   Multi-vehicle Collision   \n",
              "3   Cust5493             Y     2015-01-07   Multi-vehicle Collision   \n",
              "4   Cust7704             Y     2015-02-26   Multi-vehicle Collision   \n",
              "\n",
              "  TypeOfCollission SeverityOfIncident AuthoritiesContacted IncidentState  \\\n",
              "0   Rear Collision         Total Loss                Other        State9   \n",
              "1   Side Collision       Minor Damage            Ambulance        State4   \n",
              "2   Side Collision       Major Damage            Ambulance        State5   \n",
              "3   Side Collision       Major Damage            Ambulance        State7   \n",
              "4   Side Collision       Major Damage                Other        State4   \n",
              "\n",
              "  IncidentCity IncidentAddress  IncidentTime  NumberOfVehicles PropertyDamage  \\\n",
              "0        City4   Location 1404            19                 3              ?   \n",
              "1        City3   Location 1675            14                 1              ?   \n",
              "2        City2   Location 1546            21                 3              ?   \n",
              "3        City4   Location 1413            12                 3            YES   \n",
              "4        City6   Location 1367             3                 3             NO   \n",
              "\n",
              "   BodilyInjuries Witnesses PoliceReport AmountOfTotalClaim  \\\n",
              "0               1         1            ?              43973   \n",
              "1               1         1          YES              62310   \n",
              "2               0         0            ?              42824   \n",
              "3               2         0            ?              45672   \n",
              "4               1         2           NO              81472   \n",
              "\n",
              "   AmountOfInjuryClaim  AmountOfPropertyClaim  AmountOfVehicleDamage  \\\n",
              "0                 9396                   4698                  29879   \n",
              "1                 6539                   6539                  49232   \n",
              "2                 6069                   6069                  30686   \n",
              "3                  253                   5741                  39678   \n",
              "4                 7407                  14813                  59252   \n",
              "\n",
              "   InsuredAge  InsuredZipCode InsuredGender InsuredEducationLevel  \\\n",
              "0          58          471784          MALE                    JD   \n",
              "1          34          431937        FEMALE           High School   \n",
              "2          52          479320        FEMALE                   PhD   \n",
              "3          25          607763        FEMALE               College   \n",
              "4          27          441783          MALE               Masters   \n",
              "\n",
              "   InsuredOccupation InsuredHobbies  CapitalGains  CapitalLoss Country  \\\n",
              "0              sales    video-games             0       -42700   India   \n",
              "1   transport-moving           polo         51300            0   India   \n",
              "2  machine-op-inspct       exercise             0            0   India   \n",
              "3    exec-managerial       exercise         47400       -56100   India   \n",
              "4              sales          chess             0            0   India   \n",
              "\n",
              "   InsurancePolicyNumber  CustomerLoyaltyPeriod DateOfPolicyCoverage  \\\n",
              "0                 129186                    432           1998-11-14   \n",
              "1                 146710                    128           2000-08-19   \n",
              "2                 133433                    346           2000-06-23   \n",
              "3                 114614                     42           1992-01-15   \n",
              "4                 116825                    109           2001-09-23   \n",
              "\n",
              "  InsurancePolicyState Policy_CombinedSingleLimit  Policy_Deductible  \\\n",
              "0               State2                    250/500               2000   \n",
              "1               State2                    100/300               1000   \n",
              "2               State1                   500/1000                745   \n",
              "3               State2                    100/300                986   \n",
              "4               State3                    250/500                576   \n",
              "\n",
              "   PolicyAnnualPremium  UmbrellaLimit InsuredRelationship     VehicleID  \\\n",
              "0              1142.87              0           own-child  Vehicle30662   \n",
              "1              1274.38        2857344           own-child  Vehicle17183   \n",
              "2              1269.93              0      other-relative  Vehicle33982   \n",
              "3              1218.60              0      other-relative  Vehicle12299   \n",
              "4              1431.02        4235779           unmarried  Vehicle30447   \n",
              "\n",
              "  VehicleModel VehicleMake VehicleYOM  \n",
              "0         E400    Mercedes       2005  \n",
              "1   Highlander      Toyota       2010  \n",
              "2       Passat  Volkswagen       2002  \n",
              "3   Highlander      Toyota       2011  \n",
              "4     Wrangler        Ford       2010  "
            ],
            "text/html": [
              "\n",
              "  <div id=\"df-1d8cc855-5980-4e2f-ae17-d93c36364051\">\n",
              "    <div class=\"colab-df-container\">\n",
              "      <div>\n",
              "<style scoped>\n",
              "    .dataframe tbody tr th:only-of-type {\n",
              "        vertical-align: middle;\n",
              "    }\n",
              "\n",
              "    .dataframe tbody tr th {\n",
              "        vertical-align: top;\n",
              "    }\n",
              "\n",
              "    .dataframe thead th {\n",
              "        text-align: right;\n",
              "    }\n",
              "</style>\n",
              "<table border=\"1\" class=\"dataframe\">\n",
              "  <thead>\n",
              "    <tr style=\"text-align: right;\">\n",
              "      <th></th>\n",
              "      <th>CustomerID</th>\n",
              "      <th>ReportedFraud</th>\n",
              "      <th>DateOfIncident</th>\n",
              "      <th>TypeOfIncident</th>\n",
              "      <th>TypeOfCollission</th>\n",
              "      <th>SeverityOfIncident</th>\n",
              "      <th>AuthoritiesContacted</th>\n",
              "      <th>IncidentState</th>\n",
              "      <th>IncidentCity</th>\n",
              "      <th>IncidentAddress</th>\n",
              "      <th>IncidentTime</th>\n",
              "      <th>NumberOfVehicles</th>\n",
              "      <th>PropertyDamage</th>\n",
              "      <th>BodilyInjuries</th>\n",
              "      <th>Witnesses</th>\n",
              "      <th>PoliceReport</th>\n",
              "      <th>AmountOfTotalClaim</th>\n",
              "      <th>AmountOfInjuryClaim</th>\n",
              "      <th>AmountOfPropertyClaim</th>\n",
              "      <th>AmountOfVehicleDamage</th>\n",
              "      <th>InsuredAge</th>\n",
              "      <th>InsuredZipCode</th>\n",
              "      <th>InsuredGender</th>\n",
              "      <th>InsuredEducationLevel</th>\n",
              "      <th>InsuredOccupation</th>\n",
              "      <th>InsuredHobbies</th>\n",
              "      <th>CapitalGains</th>\n",
              "      <th>CapitalLoss</th>\n",
              "      <th>Country</th>\n",
              "      <th>InsurancePolicyNumber</th>\n",
              "      <th>CustomerLoyaltyPeriod</th>\n",
              "      <th>DateOfPolicyCoverage</th>\n",
              "      <th>InsurancePolicyState</th>\n",
              "      <th>Policy_CombinedSingleLimit</th>\n",
              "      <th>Policy_Deductible</th>\n",
              "      <th>PolicyAnnualPremium</th>\n",
              "      <th>UmbrellaLimit</th>\n",
              "      <th>InsuredRelationship</th>\n",
              "      <th>VehicleID</th>\n",
              "      <th>VehicleModel</th>\n",
              "      <th>VehicleMake</th>\n",
              "      <th>VehicleYOM</th>\n",
              "    </tr>\n",
              "  </thead>\n",
              "  <tbody>\n",
              "    <tr>\n",
              "      <th>0</th>\n",
              "      <td>Cust20065</td>\n",
              "      <td>N</td>\n",
              "      <td>2015-01-09</td>\n",
              "      <td>Multi-vehicle Collision</td>\n",
              "      <td>Rear Collision</td>\n",
              "      <td>Total Loss</td>\n",
              "      <td>Other</td>\n",
              "      <td>State9</td>\n",
              "      <td>City4</td>\n",
              "      <td>Location 1404</td>\n",
              "      <td>19</td>\n",
              "      <td>3</td>\n",
              "      <td>?</td>\n",
              "      <td>1</td>\n",
              "      <td>1</td>\n",
              "      <td>?</td>\n",
              "      <td>43973</td>\n",
              "      <td>9396</td>\n",
              "      <td>4698</td>\n",
              "      <td>29879</td>\n",
              "      <td>58</td>\n",
              "      <td>471784</td>\n",
              "      <td>MALE</td>\n",
              "      <td>JD</td>\n",
              "      <td>sales</td>\n",
              "      <td>video-games</td>\n",
              "      <td>0</td>\n",
              "      <td>-42700</td>\n",
              "      <td>India</td>\n",
              "      <td>129186</td>\n",
              "      <td>432</td>\n",
              "      <td>1998-11-14</td>\n",
              "      <td>State2</td>\n",
              "      <td>250/500</td>\n",
              "      <td>2000</td>\n",
              "      <td>1142.87</td>\n",
              "      <td>0</td>\n",
              "      <td>own-child</td>\n",
              "      <td>Vehicle30662</td>\n",
              "      <td>E400</td>\n",
              "      <td>Mercedes</td>\n",
              "      <td>2005</td>\n",
              "    </tr>\n",
              "    <tr>\n",
              "      <th>1</th>\n",
              "      <td>Cust37589</td>\n",
              "      <td>N</td>\n",
              "      <td>2015-02-20</td>\n",
              "      <td>Single Vehicle Collision</td>\n",
              "      <td>Side Collision</td>\n",
              "      <td>Minor Damage</td>\n",
              "      <td>Ambulance</td>\n",
              "      <td>State4</td>\n",
              "      <td>City3</td>\n",
              "      <td>Location 1675</td>\n",
              "      <td>14</td>\n",
              "      <td>1</td>\n",
              "      <td>?</td>\n",
              "      <td>1</td>\n",
              "      <td>1</td>\n",
              "      <td>YES</td>\n",
              "      <td>62310</td>\n",
              "      <td>6539</td>\n",
              "      <td>6539</td>\n",
              "      <td>49232</td>\n",
              "      <td>34</td>\n",
              "      <td>431937</td>\n",
              "      <td>FEMALE</td>\n",
              "      <td>High School</td>\n",
              "      <td>transport-moving</td>\n",
              "      <td>polo</td>\n",
              "      <td>51300</td>\n",
              "      <td>0</td>\n",
              "      <td>India</td>\n",
              "      <td>146710</td>\n",
              "      <td>128</td>\n",
              "      <td>2000-08-19</td>\n",
              "      <td>State2</td>\n",
              "      <td>100/300</td>\n",
              "      <td>1000</td>\n",
              "      <td>1274.38</td>\n",
              "      <td>2857344</td>\n",
              "      <td>own-child</td>\n",
              "      <td>Vehicle17183</td>\n",
              "      <td>Highlander</td>\n",
              "      <td>Toyota</td>\n",
              "      <td>2010</td>\n",
              "    </tr>\n",
              "    <tr>\n",
              "      <th>2</th>\n",
              "      <td>Cust24312</td>\n",
              "      <td>N</td>\n",
              "      <td>2015-01-14</td>\n",
              "      <td>Multi-vehicle Collision</td>\n",
              "      <td>Side Collision</td>\n",
              "      <td>Major Damage</td>\n",
              "      <td>Ambulance</td>\n",
              "      <td>State5</td>\n",
              "      <td>City2</td>\n",
              "      <td>Location 1546</td>\n",
              "      <td>21</td>\n",
              "      <td>3</td>\n",
              "      <td>?</td>\n",
              "      <td>0</td>\n",
              "      <td>0</td>\n",
              "      <td>?</td>\n",
              "      <td>42824</td>\n",
              "      <td>6069</td>\n",
              "      <td>6069</td>\n",
              "      <td>30686</td>\n",
              "      <td>52</td>\n",
              "      <td>479320</td>\n",
              "      <td>FEMALE</td>\n",
              "      <td>PhD</td>\n",
              "      <td>machine-op-inspct</td>\n",
              "      <td>exercise</td>\n",
              "      <td>0</td>\n",
              "      <td>0</td>\n",
              "      <td>India</td>\n",
              "      <td>133433</td>\n",
              "      <td>346</td>\n",
              "      <td>2000-06-23</td>\n",
              "      <td>State1</td>\n",
              "      <td>500/1000</td>\n",
              "      <td>745</td>\n",
              "      <td>1269.93</td>\n",
              "      <td>0</td>\n",
              "      <td>other-relative</td>\n",
              "      <td>Vehicle33982</td>\n",
              "      <td>Passat</td>\n",
              "      <td>Volkswagen</td>\n",
              "      <td>2002</td>\n",
              "    </tr>\n",
              "    <tr>\n",
              "      <th>3</th>\n",
              "      <td>Cust5493</td>\n",
              "      <td>Y</td>\n",
              "      <td>2015-01-07</td>\n",
              "      <td>Multi-vehicle Collision</td>\n",
              "      <td>Side Collision</td>\n",
              "      <td>Major Damage</td>\n",
              "      <td>Ambulance</td>\n",
              "      <td>State7</td>\n",
              "      <td>City4</td>\n",
              "      <td>Location 1413</td>\n",
              "      <td>12</td>\n",
              "      <td>3</td>\n",
              "      <td>YES</td>\n",
              "      <td>2</td>\n",
              "      <td>0</td>\n",
              "      <td>?</td>\n",
              "      <td>45672</td>\n",
              "      <td>253</td>\n",
              "      <td>5741</td>\n",
              "      <td>39678</td>\n",
              "      <td>25</td>\n",
              "      <td>607763</td>\n",
              "      <td>FEMALE</td>\n",
              "      <td>College</td>\n",
              "      <td>exec-managerial</td>\n",
              "      <td>exercise</td>\n",
              "      <td>47400</td>\n",
              "      <td>-56100</td>\n",
              "      <td>India</td>\n",
              "      <td>114614</td>\n",
              "      <td>42</td>\n",
              "      <td>1992-01-15</td>\n",
              "      <td>State2</td>\n",
              "      <td>100/300</td>\n",
              "      <td>986</td>\n",
              "      <td>1218.60</td>\n",
              "      <td>0</td>\n",
              "      <td>other-relative</td>\n",
              "      <td>Vehicle12299</td>\n",
              "      <td>Highlander</td>\n",
              "      <td>Toyota</td>\n",
              "      <td>2011</td>\n",
              "    </tr>\n",
              "    <tr>\n",
              "      <th>4</th>\n",
              "      <td>Cust7704</td>\n",
              "      <td>Y</td>\n",
              "      <td>2015-02-26</td>\n",
              "      <td>Multi-vehicle Collision</td>\n",
              "      <td>Side Collision</td>\n",
              "      <td>Major Damage</td>\n",
              "      <td>Other</td>\n",
              "      <td>State4</td>\n",
              "      <td>City6</td>\n",
              "      <td>Location 1367</td>\n",
              "      <td>3</td>\n",
              "      <td>3</td>\n",
              "      <td>NO</td>\n",
              "      <td>1</td>\n",
              "      <td>2</td>\n",
              "      <td>NO</td>\n",
              "      <td>81472</td>\n",
              "      <td>7407</td>\n",
              "      <td>14813</td>\n",
              "      <td>59252</td>\n",
              "      <td>27</td>\n",
              "      <td>441783</td>\n",
              "      <td>MALE</td>\n",
              "      <td>Masters</td>\n",
              "      <td>sales</td>\n",
              "      <td>chess</td>\n",
              "      <td>0</td>\n",
              "      <td>0</td>\n",
              "      <td>India</td>\n",
              "      <td>116825</td>\n",
              "      <td>109</td>\n",
              "      <td>2001-09-23</td>\n",
              "      <td>State3</td>\n",
              "      <td>250/500</td>\n",
              "      <td>576</td>\n",
              "      <td>1431.02</td>\n",
              "      <td>4235779</td>\n",
              "      <td>unmarried</td>\n",
              "      <td>Vehicle30447</td>\n",
              "      <td>Wrangler</td>\n",
              "      <td>Ford</td>\n",
              "      <td>2010</td>\n",
              "    </tr>\n",
              "  </tbody>\n",
              "</table>\n",
              "</div>\n",
              "      <button class=\"colab-df-convert\" onclick=\"convertToInteractive('df-1d8cc855-5980-4e2f-ae17-d93c36364051')\"\n",
              "              title=\"Convert this dataframe to an interactive table.\"\n",
              "              style=\"display:none;\">\n",
              "        \n",
              "  <svg xmlns=\"http://www.w3.org/2000/svg\" height=\"24px\"viewBox=\"0 0 24 24\"\n",
              "       width=\"24px\">\n",
              "    <path d=\"M0 0h24v24H0V0z\" fill=\"none\"/>\n",
              "    <path d=\"M18.56 5.44l.94 2.06.94-2.06 2.06-.94-2.06-.94-.94-2.06-.94 2.06-2.06.94zm-11 1L8.5 8.5l.94-2.06 2.06-.94-2.06-.94L8.5 2.5l-.94 2.06-2.06.94zm10 10l.94 2.06.94-2.06 2.06-.94-2.06-.94-.94-2.06-.94 2.06-2.06.94z\"/><path d=\"M17.41 7.96l-1.37-1.37c-.4-.4-.92-.59-1.43-.59-.52 0-1.04.2-1.43.59L10.3 9.45l-7.72 7.72c-.78.78-.78 2.05 0 2.83L4 21.41c.39.39.9.59 1.41.59.51 0 1.02-.2 1.41-.59l7.78-7.78 2.81-2.81c.8-.78.8-2.07 0-2.86zM5.41 20L4 18.59l7.72-7.72 1.47 1.35L5.41 20z\"/>\n",
              "  </svg>\n",
              "      </button>\n",
              "      \n",
              "  <style>\n",
              "    .colab-df-container {\n",
              "      display:flex;\n",
              "      flex-wrap:wrap;\n",
              "      gap: 12px;\n",
              "    }\n",
              "\n",
              "    .colab-df-convert {\n",
              "      background-color: #E8F0FE;\n",
              "      border: none;\n",
              "      border-radius: 50%;\n",
              "      cursor: pointer;\n",
              "      display: none;\n",
              "      fill: #1967D2;\n",
              "      height: 32px;\n",
              "      padding: 0 0 0 0;\n",
              "      width: 32px;\n",
              "    }\n",
              "\n",
              "    .colab-df-convert:hover {\n",
              "      background-color: #E2EBFA;\n",
              "      box-shadow: 0px 1px 2px rgba(60, 64, 67, 0.3), 0px 1px 3px 1px rgba(60, 64, 67, 0.15);\n",
              "      fill: #174EA6;\n",
              "    }\n",
              "\n",
              "    [theme=dark] .colab-df-convert {\n",
              "      background-color: #3B4455;\n",
              "      fill: #D2E3FC;\n",
              "    }\n",
              "\n",
              "    [theme=dark] .colab-df-convert:hover {\n",
              "      background-color: #434B5C;\n",
              "      box-shadow: 0px 1px 3px 1px rgba(0, 0, 0, 0.15);\n",
              "      filter: drop-shadow(0px 1px 2px rgba(0, 0, 0, 0.3));\n",
              "      fill: #FFFFFF;\n",
              "    }\n",
              "  </style>\n",
              "\n",
              "      <script>\n",
              "        const buttonEl =\n",
              "          document.querySelector('#df-1d8cc855-5980-4e2f-ae17-d93c36364051 button.colab-df-convert');\n",
              "        buttonEl.style.display =\n",
              "          google.colab.kernel.accessAllowed ? 'block' : 'none';\n",
              "\n",
              "        async function convertToInteractive(key) {\n",
              "          const element = document.querySelector('#df-1d8cc855-5980-4e2f-ae17-d93c36364051');\n",
              "          const dataTable =\n",
              "            await google.colab.kernel.invokeFunction('convertToInteractive',\n",
              "                                                     [key], {});\n",
              "          if (!dataTable) return;\n",
              "\n",
              "          const docLinkHtml = 'Like what you see? Visit the ' +\n",
              "            '<a target=\"_blank\" href=https://colab.research.google.com/notebooks/data_table.ipynb>data table notebook</a>'\n",
              "            + ' to learn more about interactive tables.';\n",
              "          element.innerHTML = '';\n",
              "          dataTable['output_type'] = 'display_data';\n",
              "          await google.colab.output.renderOutput(dataTable, element);\n",
              "          const docLink = document.createElement('div');\n",
              "          docLink.innerHTML = docLinkHtml;\n",
              "          element.appendChild(docLink);\n",
              "        }\n",
              "      </script>\n",
              "    </div>\n",
              "  </div>\n",
              "  "
            ]
          },
          "metadata": {},
          "execution_count": 15
        }
      ]
    },
    {
      "cell_type": "markdown",
      "source": [
        "#### Check basic information"
      ],
      "metadata": {
        "id": "xfkV5_-u89PT"
      }
    },
    {
      "cell_type": "code",
      "source": [
        "df.shape"
      ],
      "metadata": {
        "colab": {
          "base_uri": "https://localhost:8080/"
        },
        "id": "5B3cCBnczMPW",
        "outputId": "89fc2d39-3bbf-4604-f410-78aa5570525f"
      },
      "execution_count": null,
      "outputs": [
        {
          "output_type": "execute_result",
          "data": {
            "text/plain": [
              "(28836, 42)"
            ]
          },
          "metadata": {},
          "execution_count": 16
        }
      ]
    },
    {
      "cell_type": "code",
      "source": [
        "df.describe()"
      ],
      "metadata": {
        "colab": {
          "base_uri": "https://localhost:8080/",
          "height": 364
        },
        "id": "4Dnv6zzlytW8",
        "outputId": "ef6ccfc4-fb11-41e2-acee-0c4aab8d0f1f"
      },
      "execution_count": null,
      "outputs": [
        {
          "output_type": "execute_result",
          "data": {
            "text/plain": [
              "       IncidentTime  NumberOfVehicles  BodilyInjuries  AmountOfInjuryClaim  \\\n",
              "count  28836.000000      28836.000000    28836.000000         28836.000000   \n",
              "mean      11.746047          1.823207        0.985782          7337.118428   \n",
              "std        6.170069          0.980099        0.784764          4427.638593   \n",
              "min       -5.000000          1.000000        0.000000             0.000000   \n",
              "25%        6.000000          1.000000        0.000000          4743.750000   \n",
              "50%       12.000000          1.000000        1.000000          7147.000000   \n",
              "75%       17.000000          3.000000        2.000000         10571.250000   \n",
              "max       23.000000          4.000000        2.000000         21450.000000   \n",
              "\n",
              "       AmountOfPropertyClaim  AmountOfVehicleDamage    InsuredAge  \\\n",
              "count           28836.000000           28836.000000  28836.000000   \n",
              "mean             7283.870197           37687.129387     38.815370   \n",
              "std              4375.842738           17977.048232      7.996377   \n",
              "min                 0.000000             109.000000     19.000000   \n",
              "25%              4862.000000           32193.250000     33.000000   \n",
              "50%              7051.000000           42457.500000     38.000000   \n",
              "75%             10327.000000           49535.750000     44.000000   \n",
              "max             23670.000000           79560.000000     64.000000   \n",
              "\n",
              "       InsuredZipCode   CapitalGains    CapitalLoss  InsurancePolicyNumber  \\\n",
              "count    28836.000000   28836.000000   28836.000000           28836.000000   \n",
              "mean    502436.579068   23066.569566  -24940.612429          129312.517097   \n",
              "std      72250.868871   27637.813724   27913.209608           11114.060267   \n",
              "min     430104.000000       0.000000 -111100.000000          110122.000000   \n",
              "25%     448603.000000       0.000000  -50000.000000          119698.750000   \n",
              "50%     466691.000000       0.000000       0.000000          129278.500000   \n",
              "75%     603848.000000   49000.000000       0.000000          138933.250000   \n",
              "max     620962.000000  100500.000000       0.000000          148619.000000   \n",
              "\n",
              "       CustomerLoyaltyPeriod  Policy_Deductible  PolicyAnnualPremium  \\\n",
              "count           28836.000000       28836.000000         28836.000000   \n",
              "mean              203.067867        1114.282529          1255.528382   \n",
              "std                99.932951         546.632816           223.013899   \n",
              "min                 1.000000         500.000000            -1.000000   \n",
              "25%               126.000000         622.000000          1122.007500   \n",
              "50%               199.000000        1000.000000          1265.205000   \n",
              "75%               267.000000        1627.000000          1396.605000   \n",
              "max               479.000000        2000.000000          2047.590000   \n",
              "\n",
              "       UmbrellaLimit  \n",
              "count   2.883600e+04  \n",
              "mean    9.836680e+05  \n",
              "std     1.969282e+06  \n",
              "min    -1.000000e+06  \n",
              "25%     0.000000e+00  \n",
              "50%     0.000000e+00  \n",
              "75%     4.859610e+05  \n",
              "max     1.000000e+07  "
            ],
            "text/html": [
              "\n",
              "  <div id=\"df-3109c22d-e291-4f03-bb6f-b8d6be529825\">\n",
              "    <div class=\"colab-df-container\">\n",
              "      <div>\n",
              "<style scoped>\n",
              "    .dataframe tbody tr th:only-of-type {\n",
              "        vertical-align: middle;\n",
              "    }\n",
              "\n",
              "    .dataframe tbody tr th {\n",
              "        vertical-align: top;\n",
              "    }\n",
              "\n",
              "    .dataframe thead th {\n",
              "        text-align: right;\n",
              "    }\n",
              "</style>\n",
              "<table border=\"1\" class=\"dataframe\">\n",
              "  <thead>\n",
              "    <tr style=\"text-align: right;\">\n",
              "      <th></th>\n",
              "      <th>IncidentTime</th>\n",
              "      <th>NumberOfVehicles</th>\n",
              "      <th>BodilyInjuries</th>\n",
              "      <th>AmountOfInjuryClaim</th>\n",
              "      <th>AmountOfPropertyClaim</th>\n",
              "      <th>AmountOfVehicleDamage</th>\n",
              "      <th>InsuredAge</th>\n",
              "      <th>InsuredZipCode</th>\n",
              "      <th>CapitalGains</th>\n",
              "      <th>CapitalLoss</th>\n",
              "      <th>InsurancePolicyNumber</th>\n",
              "      <th>CustomerLoyaltyPeriod</th>\n",
              "      <th>Policy_Deductible</th>\n",
              "      <th>PolicyAnnualPremium</th>\n",
              "      <th>UmbrellaLimit</th>\n",
              "    </tr>\n",
              "  </thead>\n",
              "  <tbody>\n",
              "    <tr>\n",
              "      <th>count</th>\n",
              "      <td>28836.000000</td>\n",
              "      <td>28836.000000</td>\n",
              "      <td>28836.000000</td>\n",
              "      <td>28836.000000</td>\n",
              "      <td>28836.000000</td>\n",
              "      <td>28836.000000</td>\n",
              "      <td>28836.000000</td>\n",
              "      <td>28836.000000</td>\n",
              "      <td>28836.000000</td>\n",
              "      <td>28836.000000</td>\n",
              "      <td>28836.000000</td>\n",
              "      <td>28836.000000</td>\n",
              "      <td>28836.000000</td>\n",
              "      <td>28836.000000</td>\n",
              "      <td>2.883600e+04</td>\n",
              "    </tr>\n",
              "    <tr>\n",
              "      <th>mean</th>\n",
              "      <td>11.746047</td>\n",
              "      <td>1.823207</td>\n",
              "      <td>0.985782</td>\n",
              "      <td>7337.118428</td>\n",
              "      <td>7283.870197</td>\n",
              "      <td>37687.129387</td>\n",
              "      <td>38.815370</td>\n",
              "      <td>502436.579068</td>\n",
              "      <td>23066.569566</td>\n",
              "      <td>-24940.612429</td>\n",
              "      <td>129312.517097</td>\n",
              "      <td>203.067867</td>\n",
              "      <td>1114.282529</td>\n",
              "      <td>1255.528382</td>\n",
              "      <td>9.836680e+05</td>\n",
              "    </tr>\n",
              "    <tr>\n",
              "      <th>std</th>\n",
              "      <td>6.170069</td>\n",
              "      <td>0.980099</td>\n",
              "      <td>0.784764</td>\n",
              "      <td>4427.638593</td>\n",
              "      <td>4375.842738</td>\n",
              "      <td>17977.048232</td>\n",
              "      <td>7.996377</td>\n",
              "      <td>72250.868871</td>\n",
              "      <td>27637.813724</td>\n",
              "      <td>27913.209608</td>\n",
              "      <td>11114.060267</td>\n",
              "      <td>99.932951</td>\n",
              "      <td>546.632816</td>\n",
              "      <td>223.013899</td>\n",
              "      <td>1.969282e+06</td>\n",
              "    </tr>\n",
              "    <tr>\n",
              "      <th>min</th>\n",
              "      <td>-5.000000</td>\n",
              "      <td>1.000000</td>\n",
              "      <td>0.000000</td>\n",
              "      <td>0.000000</td>\n",
              "      <td>0.000000</td>\n",
              "      <td>109.000000</td>\n",
              "      <td>19.000000</td>\n",
              "      <td>430104.000000</td>\n",
              "      <td>0.000000</td>\n",
              "      <td>-111100.000000</td>\n",
              "      <td>110122.000000</td>\n",
              "      <td>1.000000</td>\n",
              "      <td>500.000000</td>\n",
              "      <td>-1.000000</td>\n",
              "      <td>-1.000000e+06</td>\n",
              "    </tr>\n",
              "    <tr>\n",
              "      <th>25%</th>\n",
              "      <td>6.000000</td>\n",
              "      <td>1.000000</td>\n",
              "      <td>0.000000</td>\n",
              "      <td>4743.750000</td>\n",
              "      <td>4862.000000</td>\n",
              "      <td>32193.250000</td>\n",
              "      <td>33.000000</td>\n",
              "      <td>448603.000000</td>\n",
              "      <td>0.000000</td>\n",
              "      <td>-50000.000000</td>\n",
              "      <td>119698.750000</td>\n",
              "      <td>126.000000</td>\n",
              "      <td>622.000000</td>\n",
              "      <td>1122.007500</td>\n",
              "      <td>0.000000e+00</td>\n",
              "    </tr>\n",
              "    <tr>\n",
              "      <th>50%</th>\n",
              "      <td>12.000000</td>\n",
              "      <td>1.000000</td>\n",
              "      <td>1.000000</td>\n",
              "      <td>7147.000000</td>\n",
              "      <td>7051.000000</td>\n",
              "      <td>42457.500000</td>\n",
              "      <td>38.000000</td>\n",
              "      <td>466691.000000</td>\n",
              "      <td>0.000000</td>\n",
              "      <td>0.000000</td>\n",
              "      <td>129278.500000</td>\n",
              "      <td>199.000000</td>\n",
              "      <td>1000.000000</td>\n",
              "      <td>1265.205000</td>\n",
              "      <td>0.000000e+00</td>\n",
              "    </tr>\n",
              "    <tr>\n",
              "      <th>75%</th>\n",
              "      <td>17.000000</td>\n",
              "      <td>3.000000</td>\n",
              "      <td>2.000000</td>\n",
              "      <td>10571.250000</td>\n",
              "      <td>10327.000000</td>\n",
              "      <td>49535.750000</td>\n",
              "      <td>44.000000</td>\n",
              "      <td>603848.000000</td>\n",
              "      <td>49000.000000</td>\n",
              "      <td>0.000000</td>\n",
              "      <td>138933.250000</td>\n",
              "      <td>267.000000</td>\n",
              "      <td>1627.000000</td>\n",
              "      <td>1396.605000</td>\n",
              "      <td>4.859610e+05</td>\n",
              "    </tr>\n",
              "    <tr>\n",
              "      <th>max</th>\n",
              "      <td>23.000000</td>\n",
              "      <td>4.000000</td>\n",
              "      <td>2.000000</td>\n",
              "      <td>21450.000000</td>\n",
              "      <td>23670.000000</td>\n",
              "      <td>79560.000000</td>\n",
              "      <td>64.000000</td>\n",
              "      <td>620962.000000</td>\n",
              "      <td>100500.000000</td>\n",
              "      <td>0.000000</td>\n",
              "      <td>148619.000000</td>\n",
              "      <td>479.000000</td>\n",
              "      <td>2000.000000</td>\n",
              "      <td>2047.590000</td>\n",
              "      <td>1.000000e+07</td>\n",
              "    </tr>\n",
              "  </tbody>\n",
              "</table>\n",
              "</div>\n",
              "      <button class=\"colab-df-convert\" onclick=\"convertToInteractive('df-3109c22d-e291-4f03-bb6f-b8d6be529825')\"\n",
              "              title=\"Convert this dataframe to an interactive table.\"\n",
              "              style=\"display:none;\">\n",
              "        \n",
              "  <svg xmlns=\"http://www.w3.org/2000/svg\" height=\"24px\"viewBox=\"0 0 24 24\"\n",
              "       width=\"24px\">\n",
              "    <path d=\"M0 0h24v24H0V0z\" fill=\"none\"/>\n",
              "    <path d=\"M18.56 5.44l.94 2.06.94-2.06 2.06-.94-2.06-.94-.94-2.06-.94 2.06-2.06.94zm-11 1L8.5 8.5l.94-2.06 2.06-.94-2.06-.94L8.5 2.5l-.94 2.06-2.06.94zm10 10l.94 2.06.94-2.06 2.06-.94-2.06-.94-.94-2.06-.94 2.06-2.06.94z\"/><path d=\"M17.41 7.96l-1.37-1.37c-.4-.4-.92-.59-1.43-.59-.52 0-1.04.2-1.43.59L10.3 9.45l-7.72 7.72c-.78.78-.78 2.05 0 2.83L4 21.41c.39.39.9.59 1.41.59.51 0 1.02-.2 1.41-.59l7.78-7.78 2.81-2.81c.8-.78.8-2.07 0-2.86zM5.41 20L4 18.59l7.72-7.72 1.47 1.35L5.41 20z\"/>\n",
              "  </svg>\n",
              "      </button>\n",
              "      \n",
              "  <style>\n",
              "    .colab-df-container {\n",
              "      display:flex;\n",
              "      flex-wrap:wrap;\n",
              "      gap: 12px;\n",
              "    }\n",
              "\n",
              "    .colab-df-convert {\n",
              "      background-color: #E8F0FE;\n",
              "      border: none;\n",
              "      border-radius: 50%;\n",
              "      cursor: pointer;\n",
              "      display: none;\n",
              "      fill: #1967D2;\n",
              "      height: 32px;\n",
              "      padding: 0 0 0 0;\n",
              "      width: 32px;\n",
              "    }\n",
              "\n",
              "    .colab-df-convert:hover {\n",
              "      background-color: #E2EBFA;\n",
              "      box-shadow: 0px 1px 2px rgba(60, 64, 67, 0.3), 0px 1px 3px 1px rgba(60, 64, 67, 0.15);\n",
              "      fill: #174EA6;\n",
              "    }\n",
              "\n",
              "    [theme=dark] .colab-df-convert {\n",
              "      background-color: #3B4455;\n",
              "      fill: #D2E3FC;\n",
              "    }\n",
              "\n",
              "    [theme=dark] .colab-df-convert:hover {\n",
              "      background-color: #434B5C;\n",
              "      box-shadow: 0px 1px 3px 1px rgba(0, 0, 0, 0.15);\n",
              "      filter: drop-shadow(0px 1px 2px rgba(0, 0, 0, 0.3));\n",
              "      fill: #FFFFFF;\n",
              "    }\n",
              "  </style>\n",
              "\n",
              "      <script>\n",
              "        const buttonEl =\n",
              "          document.querySelector('#df-3109c22d-e291-4f03-bb6f-b8d6be529825 button.colab-df-convert');\n",
              "        buttonEl.style.display =\n",
              "          google.colab.kernel.accessAllowed ? 'block' : 'none';\n",
              "\n",
              "        async function convertToInteractive(key) {\n",
              "          const element = document.querySelector('#df-3109c22d-e291-4f03-bb6f-b8d6be529825');\n",
              "          const dataTable =\n",
              "            await google.colab.kernel.invokeFunction('convertToInteractive',\n",
              "                                                     [key], {});\n",
              "          if (!dataTable) return;\n",
              "\n",
              "          const docLinkHtml = 'Like what you see? Visit the ' +\n",
              "            '<a target=\"_blank\" href=https://colab.research.google.com/notebooks/data_table.ipynb>data table notebook</a>'\n",
              "            + ' to learn more about interactive tables.';\n",
              "          element.innerHTML = '';\n",
              "          dataTable['output_type'] = 'display_data';\n",
              "          await google.colab.output.renderOutput(dataTable, element);\n",
              "          const docLink = document.createElement('div');\n",
              "          docLink.innerHTML = docLinkHtml;\n",
              "          element.appendChild(docLink);\n",
              "        }\n",
              "      </script>\n",
              "    </div>\n",
              "  </div>\n",
              "  "
            ]
          },
          "metadata": {},
          "execution_count": 17
        }
      ]
    },
    {
      "cell_type": "code",
      "source": [
        "df.nunique()"
      ],
      "metadata": {
        "colab": {
          "base_uri": "https://localhost:8080/"
        },
        "id": "NV1oyNGpyzft",
        "outputId": "14fc2168-85e0-4e83-d75a-4c243c3ddba7"
      },
      "execution_count": null,
      "outputs": [
        {
          "output_type": "execute_result",
          "data": {
            "text/plain": [
              "CustomerID                    28836\n",
              "ReportedFraud                     2\n",
              "DateOfIncident                   72\n",
              "TypeOfIncident                    4\n",
              "TypeOfCollission                  4\n",
              "SeverityOfIncident                4\n",
              "AuthoritiesContacted              5\n",
              "IncidentState                     7\n",
              "IncidentCity                      7\n",
              "IncidentAddress                1000\n",
              "IncidentTime                     25\n",
              "NumberOfVehicles                  4\n",
              "PropertyDamage                    3\n",
              "BodilyInjuries                    3\n",
              "Witnesses                         5\n",
              "PoliceReport                      3\n",
              "AmountOfTotalClaim            21976\n",
              "AmountOfInjuryClaim           11958\n",
              "AmountOfPropertyClaim         11785\n",
              "AmountOfVehicleDamage         20041\n",
              "InsuredAge                       46\n",
              "InsuredZipCode                  995\n",
              "InsuredGender                     2\n",
              "InsuredEducationLevel             7\n",
              "InsuredOccupation                14\n",
              "InsuredHobbies                   20\n",
              "CapitalGains                    338\n",
              "CapitalLoss                     354\n",
              "Country                           1\n",
              "InsurancePolicyNumber         28836\n",
              "CustomerLoyaltyPeriod           479\n",
              "DateOfPolicyCoverage           6779\n",
              "InsurancePolicyState              3\n",
              "Policy_CombinedSingleLimit        9\n",
              "Policy_Deductible              1496\n",
              "PolicyAnnualPremium           23852\n",
              "UmbrellaLimit                  7089\n",
              "InsuredRelationship               6\n",
              "VehicleID                     28836\n",
              "VehicleModel                     39\n",
              "VehicleMake                      15\n",
              "VehicleYOM                       21\n",
              "dtype: int64"
            ]
          },
          "metadata": {},
          "execution_count": 18
        }
      ]
    },
    {
      "cell_type": "code",
      "source": [
        "df.dtypes"
      ],
      "metadata": {
        "colab": {
          "base_uri": "https://localhost:8080/"
        },
        "id": "Y23sOxcxzomn",
        "outputId": "4b159dc9-1dc4-4790-e242-5877260579e8"
      },
      "execution_count": null,
      "outputs": [
        {
          "output_type": "execute_result",
          "data": {
            "text/plain": [
              "CustomerID                     object\n",
              "ReportedFraud                  object\n",
              "DateOfIncident                 object\n",
              "TypeOfIncident                 object\n",
              "TypeOfCollission               object\n",
              "SeverityOfIncident             object\n",
              "AuthoritiesContacted           object\n",
              "IncidentState                  object\n",
              "IncidentCity                   object\n",
              "IncidentAddress                object\n",
              "IncidentTime                    int64\n",
              "NumberOfVehicles                int64\n",
              "PropertyDamage                 object\n",
              "BodilyInjuries                  int64\n",
              "Witnesses                      object\n",
              "PoliceReport                   object\n",
              "AmountOfTotalClaim             object\n",
              "AmountOfInjuryClaim             int64\n",
              "AmountOfPropertyClaim           int64\n",
              "AmountOfVehicleDamage           int64\n",
              "InsuredAge                      int64\n",
              "InsuredZipCode                  int64\n",
              "InsuredGender                  object\n",
              "InsuredEducationLevel          object\n",
              "InsuredOccupation              object\n",
              "InsuredHobbies                 object\n",
              "CapitalGains                    int64\n",
              "CapitalLoss                     int64\n",
              "Country                        object\n",
              "InsurancePolicyNumber           int64\n",
              "CustomerLoyaltyPeriod           int64\n",
              "DateOfPolicyCoverage           object\n",
              "InsurancePolicyState           object\n",
              "Policy_CombinedSingleLimit     object\n",
              "Policy_Deductible               int64\n",
              "PolicyAnnualPremium           float64\n",
              "UmbrellaLimit                   int64\n",
              "InsuredRelationship            object\n",
              "VehicleID                      object\n",
              "VehicleModel                   object\n",
              "VehicleMake                    object\n",
              "VehicleYOM                     object\n",
              "dtype: object"
            ]
          },
          "metadata": {},
          "execution_count": 19
        }
      ]
    },
    {
      "cell_type": "code",
      "source": [
        "# null counts\n",
        "df.isna().sum().sort_values(ascending=False)"
      ],
      "metadata": {
        "colab": {
          "base_uri": "https://localhost:8080/"
        },
        "id": "pigzAB7Czklv",
        "outputId": "55680670-28b3-4896-902c-9eea774f5de2"
      },
      "execution_count": null,
      "outputs": [
        {
          "output_type": "execute_result",
          "data": {
            "text/plain": [
              "InsuredGender                 30\n",
              "Country                        2\n",
              "DateOfPolicyCoverage           0\n",
              "InsuredEducationLevel          0\n",
              "InsuredOccupation              0\n",
              "InsuredHobbies                 0\n",
              "CapitalGains                   0\n",
              "CapitalLoss                    0\n",
              "InsurancePolicyNumber          0\n",
              "CustomerLoyaltyPeriod          0\n",
              "CustomerID                     0\n",
              "ReportedFraud                  0\n",
              "Policy_CombinedSingleLimit     0\n",
              "Policy_Deductible              0\n",
              "PolicyAnnualPremium            0\n",
              "UmbrellaLimit                  0\n",
              "InsuredRelationship            0\n",
              "VehicleID                      0\n",
              "VehicleModel                   0\n",
              "VehicleMake                    0\n",
              "InsurancePolicyState           0\n",
              "InsuredZipCode                 0\n",
              "InsuredAge                     0\n",
              "AmountOfVehicleDamage          0\n",
              "DateOfIncident                 0\n",
              "TypeOfIncident                 0\n",
              "TypeOfCollission               0\n",
              "SeverityOfIncident             0\n",
              "AuthoritiesContacted           0\n",
              "IncidentState                  0\n",
              "IncidentCity                   0\n",
              "IncidentAddress                0\n",
              "IncidentTime                   0\n",
              "NumberOfVehicles               0\n",
              "PropertyDamage                 0\n",
              "BodilyInjuries                 0\n",
              "Witnesses                      0\n",
              "PoliceReport                   0\n",
              "AmountOfTotalClaim             0\n",
              "AmountOfInjuryClaim            0\n",
              "AmountOfPropertyClaim          0\n",
              "VehicleYOM                     0\n",
              "dtype: int64"
            ]
          },
          "metadata": {},
          "execution_count": 20
        }
      ]
    },
    {
      "cell_type": "markdown",
      "source": [
        "#### Drop columns"
      ],
      "metadata": {
        "id": "W8TFAVBbWT_h"
      }
    },
    {
      "cell_type": "markdown",
      "source": [
        "Then we want to drop columns with bad quality or very loose correlation with the target."
      ],
      "metadata": {
        "id": "jMb_eUmPgZay"
      }
    },
    {
      "cell_type": "code",
      "source": [
        "df.head()"
      ],
      "metadata": {
        "colab": {
          "base_uri": "https://localhost:8080/",
          "height": 357
        },
        "id": "UOha0kmPWg8q",
        "outputId": "635fca6d-f9c2-4bc0-9184-90aa78aa9781"
      },
      "execution_count": null,
      "outputs": [
        {
          "output_type": "execute_result",
          "data": {
            "text/plain": [
              "  CustomerID ReportedFraud DateOfIncident            TypeOfIncident  \\\n",
              "0  Cust20065             N     2015-01-09   Multi-vehicle Collision   \n",
              "1  Cust37589             N     2015-02-20  Single Vehicle Collision   \n",
              "2  Cust24312             N     2015-01-14   Multi-vehicle Collision   \n",
              "3   Cust5493             Y     2015-01-07   Multi-vehicle Collision   \n",
              "4   Cust7704             Y     2015-02-26   Multi-vehicle Collision   \n",
              "\n",
              "  TypeOfCollission SeverityOfIncident AuthoritiesContacted IncidentState  \\\n",
              "0   Rear Collision         Total Loss                Other        State9   \n",
              "1   Side Collision       Minor Damage            Ambulance        State4   \n",
              "2   Side Collision       Major Damage            Ambulance        State5   \n",
              "3   Side Collision       Major Damage            Ambulance        State7   \n",
              "4   Side Collision       Major Damage                Other        State4   \n",
              "\n",
              "  IncidentCity IncidentAddress  IncidentTime  NumberOfVehicles PropertyDamage  \\\n",
              "0        City4   Location 1404            19                 3              ?   \n",
              "1        City3   Location 1675            14                 1              ?   \n",
              "2        City2   Location 1546            21                 3              ?   \n",
              "3        City4   Location 1413            12                 3            YES   \n",
              "4        City6   Location 1367             3                 3             NO   \n",
              "\n",
              "   BodilyInjuries Witnesses PoliceReport AmountOfTotalClaim  \\\n",
              "0               1         1            ?              43973   \n",
              "1               1         1          YES              62310   \n",
              "2               0         0            ?              42824   \n",
              "3               2         0            ?              45672   \n",
              "4               1         2           NO              81472   \n",
              "\n",
              "   AmountOfInjuryClaim  AmountOfPropertyClaim  AmountOfVehicleDamage  \\\n",
              "0                 9396                   4698                  29879   \n",
              "1                 6539                   6539                  49232   \n",
              "2                 6069                   6069                  30686   \n",
              "3                  253                   5741                  39678   \n",
              "4                 7407                  14813                  59252   \n",
              "\n",
              "   InsuredAge  InsuredZipCode InsuredGender InsuredEducationLevel  \\\n",
              "0          58          471784          MALE                    JD   \n",
              "1          34          431937        FEMALE           High School   \n",
              "2          52          479320        FEMALE                   PhD   \n",
              "3          25          607763        FEMALE               College   \n",
              "4          27          441783          MALE               Masters   \n",
              "\n",
              "   InsuredOccupation InsuredHobbies  CapitalGains  CapitalLoss Country  \\\n",
              "0              sales    video-games             0       -42700   India   \n",
              "1   transport-moving           polo         51300            0   India   \n",
              "2  machine-op-inspct       exercise             0            0   India   \n",
              "3    exec-managerial       exercise         47400       -56100   India   \n",
              "4              sales          chess             0            0   India   \n",
              "\n",
              "   InsurancePolicyNumber  CustomerLoyaltyPeriod DateOfPolicyCoverage  \\\n",
              "0                 129186                    432           1998-11-14   \n",
              "1                 146710                    128           2000-08-19   \n",
              "2                 133433                    346           2000-06-23   \n",
              "3                 114614                     42           1992-01-15   \n",
              "4                 116825                    109           2001-09-23   \n",
              "\n",
              "  InsurancePolicyState Policy_CombinedSingleLimit  Policy_Deductible  \\\n",
              "0               State2                    250/500               2000   \n",
              "1               State2                    100/300               1000   \n",
              "2               State1                   500/1000                745   \n",
              "3               State2                    100/300                986   \n",
              "4               State3                    250/500                576   \n",
              "\n",
              "   PolicyAnnualPremium  UmbrellaLimit InsuredRelationship     VehicleID  \\\n",
              "0              1142.87              0           own-child  Vehicle30662   \n",
              "1              1274.38        2857344           own-child  Vehicle17183   \n",
              "2              1269.93              0      other-relative  Vehicle33982   \n",
              "3              1218.60              0      other-relative  Vehicle12299   \n",
              "4              1431.02        4235779           unmarried  Vehicle30447   \n",
              "\n",
              "  VehicleModel VehicleMake VehicleYOM  \n",
              "0         E400    Mercedes       2005  \n",
              "1   Highlander      Toyota       2010  \n",
              "2       Passat  Volkswagen       2002  \n",
              "3   Highlander      Toyota       2011  \n",
              "4     Wrangler        Ford       2010  "
            ],
            "text/html": [
              "\n",
              "  <div id=\"df-84346ea6-808e-4525-9c30-2bc819d0f3bf\">\n",
              "    <div class=\"colab-df-container\">\n",
              "      <div>\n",
              "<style scoped>\n",
              "    .dataframe tbody tr th:only-of-type {\n",
              "        vertical-align: middle;\n",
              "    }\n",
              "\n",
              "    .dataframe tbody tr th {\n",
              "        vertical-align: top;\n",
              "    }\n",
              "\n",
              "    .dataframe thead th {\n",
              "        text-align: right;\n",
              "    }\n",
              "</style>\n",
              "<table border=\"1\" class=\"dataframe\">\n",
              "  <thead>\n",
              "    <tr style=\"text-align: right;\">\n",
              "      <th></th>\n",
              "      <th>CustomerID</th>\n",
              "      <th>ReportedFraud</th>\n",
              "      <th>DateOfIncident</th>\n",
              "      <th>TypeOfIncident</th>\n",
              "      <th>TypeOfCollission</th>\n",
              "      <th>SeverityOfIncident</th>\n",
              "      <th>AuthoritiesContacted</th>\n",
              "      <th>IncidentState</th>\n",
              "      <th>IncidentCity</th>\n",
              "      <th>IncidentAddress</th>\n",
              "      <th>IncidentTime</th>\n",
              "      <th>NumberOfVehicles</th>\n",
              "      <th>PropertyDamage</th>\n",
              "      <th>BodilyInjuries</th>\n",
              "      <th>Witnesses</th>\n",
              "      <th>PoliceReport</th>\n",
              "      <th>AmountOfTotalClaim</th>\n",
              "      <th>AmountOfInjuryClaim</th>\n",
              "      <th>AmountOfPropertyClaim</th>\n",
              "      <th>AmountOfVehicleDamage</th>\n",
              "      <th>InsuredAge</th>\n",
              "      <th>InsuredZipCode</th>\n",
              "      <th>InsuredGender</th>\n",
              "      <th>InsuredEducationLevel</th>\n",
              "      <th>InsuredOccupation</th>\n",
              "      <th>InsuredHobbies</th>\n",
              "      <th>CapitalGains</th>\n",
              "      <th>CapitalLoss</th>\n",
              "      <th>Country</th>\n",
              "      <th>InsurancePolicyNumber</th>\n",
              "      <th>CustomerLoyaltyPeriod</th>\n",
              "      <th>DateOfPolicyCoverage</th>\n",
              "      <th>InsurancePolicyState</th>\n",
              "      <th>Policy_CombinedSingleLimit</th>\n",
              "      <th>Policy_Deductible</th>\n",
              "      <th>PolicyAnnualPremium</th>\n",
              "      <th>UmbrellaLimit</th>\n",
              "      <th>InsuredRelationship</th>\n",
              "      <th>VehicleID</th>\n",
              "      <th>VehicleModel</th>\n",
              "      <th>VehicleMake</th>\n",
              "      <th>VehicleYOM</th>\n",
              "    </tr>\n",
              "  </thead>\n",
              "  <tbody>\n",
              "    <tr>\n",
              "      <th>0</th>\n",
              "      <td>Cust20065</td>\n",
              "      <td>N</td>\n",
              "      <td>2015-01-09</td>\n",
              "      <td>Multi-vehicle Collision</td>\n",
              "      <td>Rear Collision</td>\n",
              "      <td>Total Loss</td>\n",
              "      <td>Other</td>\n",
              "      <td>State9</td>\n",
              "      <td>City4</td>\n",
              "      <td>Location 1404</td>\n",
              "      <td>19</td>\n",
              "      <td>3</td>\n",
              "      <td>?</td>\n",
              "      <td>1</td>\n",
              "      <td>1</td>\n",
              "      <td>?</td>\n",
              "      <td>43973</td>\n",
              "      <td>9396</td>\n",
              "      <td>4698</td>\n",
              "      <td>29879</td>\n",
              "      <td>58</td>\n",
              "      <td>471784</td>\n",
              "      <td>MALE</td>\n",
              "      <td>JD</td>\n",
              "      <td>sales</td>\n",
              "      <td>video-games</td>\n",
              "      <td>0</td>\n",
              "      <td>-42700</td>\n",
              "      <td>India</td>\n",
              "      <td>129186</td>\n",
              "      <td>432</td>\n",
              "      <td>1998-11-14</td>\n",
              "      <td>State2</td>\n",
              "      <td>250/500</td>\n",
              "      <td>2000</td>\n",
              "      <td>1142.87</td>\n",
              "      <td>0</td>\n",
              "      <td>own-child</td>\n",
              "      <td>Vehicle30662</td>\n",
              "      <td>E400</td>\n",
              "      <td>Mercedes</td>\n",
              "      <td>2005</td>\n",
              "    </tr>\n",
              "    <tr>\n",
              "      <th>1</th>\n",
              "      <td>Cust37589</td>\n",
              "      <td>N</td>\n",
              "      <td>2015-02-20</td>\n",
              "      <td>Single Vehicle Collision</td>\n",
              "      <td>Side Collision</td>\n",
              "      <td>Minor Damage</td>\n",
              "      <td>Ambulance</td>\n",
              "      <td>State4</td>\n",
              "      <td>City3</td>\n",
              "      <td>Location 1675</td>\n",
              "      <td>14</td>\n",
              "      <td>1</td>\n",
              "      <td>?</td>\n",
              "      <td>1</td>\n",
              "      <td>1</td>\n",
              "      <td>YES</td>\n",
              "      <td>62310</td>\n",
              "      <td>6539</td>\n",
              "      <td>6539</td>\n",
              "      <td>49232</td>\n",
              "      <td>34</td>\n",
              "      <td>431937</td>\n",
              "      <td>FEMALE</td>\n",
              "      <td>High School</td>\n",
              "      <td>transport-moving</td>\n",
              "      <td>polo</td>\n",
              "      <td>51300</td>\n",
              "      <td>0</td>\n",
              "      <td>India</td>\n",
              "      <td>146710</td>\n",
              "      <td>128</td>\n",
              "      <td>2000-08-19</td>\n",
              "      <td>State2</td>\n",
              "      <td>100/300</td>\n",
              "      <td>1000</td>\n",
              "      <td>1274.38</td>\n",
              "      <td>2857344</td>\n",
              "      <td>own-child</td>\n",
              "      <td>Vehicle17183</td>\n",
              "      <td>Highlander</td>\n",
              "      <td>Toyota</td>\n",
              "      <td>2010</td>\n",
              "    </tr>\n",
              "    <tr>\n",
              "      <th>2</th>\n",
              "      <td>Cust24312</td>\n",
              "      <td>N</td>\n",
              "      <td>2015-01-14</td>\n",
              "      <td>Multi-vehicle Collision</td>\n",
              "      <td>Side Collision</td>\n",
              "      <td>Major Damage</td>\n",
              "      <td>Ambulance</td>\n",
              "      <td>State5</td>\n",
              "      <td>City2</td>\n",
              "      <td>Location 1546</td>\n",
              "      <td>21</td>\n",
              "      <td>3</td>\n",
              "      <td>?</td>\n",
              "      <td>0</td>\n",
              "      <td>0</td>\n",
              "      <td>?</td>\n",
              "      <td>42824</td>\n",
              "      <td>6069</td>\n",
              "      <td>6069</td>\n",
              "      <td>30686</td>\n",
              "      <td>52</td>\n",
              "      <td>479320</td>\n",
              "      <td>FEMALE</td>\n",
              "      <td>PhD</td>\n",
              "      <td>machine-op-inspct</td>\n",
              "      <td>exercise</td>\n",
              "      <td>0</td>\n",
              "      <td>0</td>\n",
              "      <td>India</td>\n",
              "      <td>133433</td>\n",
              "      <td>346</td>\n",
              "      <td>2000-06-23</td>\n",
              "      <td>State1</td>\n",
              "      <td>500/1000</td>\n",
              "      <td>745</td>\n",
              "      <td>1269.93</td>\n",
              "      <td>0</td>\n",
              "      <td>other-relative</td>\n",
              "      <td>Vehicle33982</td>\n",
              "      <td>Passat</td>\n",
              "      <td>Volkswagen</td>\n",
              "      <td>2002</td>\n",
              "    </tr>\n",
              "    <tr>\n",
              "      <th>3</th>\n",
              "      <td>Cust5493</td>\n",
              "      <td>Y</td>\n",
              "      <td>2015-01-07</td>\n",
              "      <td>Multi-vehicle Collision</td>\n",
              "      <td>Side Collision</td>\n",
              "      <td>Major Damage</td>\n",
              "      <td>Ambulance</td>\n",
              "      <td>State7</td>\n",
              "      <td>City4</td>\n",
              "      <td>Location 1413</td>\n",
              "      <td>12</td>\n",
              "      <td>3</td>\n",
              "      <td>YES</td>\n",
              "      <td>2</td>\n",
              "      <td>0</td>\n",
              "      <td>?</td>\n",
              "      <td>45672</td>\n",
              "      <td>253</td>\n",
              "      <td>5741</td>\n",
              "      <td>39678</td>\n",
              "      <td>25</td>\n",
              "      <td>607763</td>\n",
              "      <td>FEMALE</td>\n",
              "      <td>College</td>\n",
              "      <td>exec-managerial</td>\n",
              "      <td>exercise</td>\n",
              "      <td>47400</td>\n",
              "      <td>-56100</td>\n",
              "      <td>India</td>\n",
              "      <td>114614</td>\n",
              "      <td>42</td>\n",
              "      <td>1992-01-15</td>\n",
              "      <td>State2</td>\n",
              "      <td>100/300</td>\n",
              "      <td>986</td>\n",
              "      <td>1218.60</td>\n",
              "      <td>0</td>\n",
              "      <td>other-relative</td>\n",
              "      <td>Vehicle12299</td>\n",
              "      <td>Highlander</td>\n",
              "      <td>Toyota</td>\n",
              "      <td>2011</td>\n",
              "    </tr>\n",
              "    <tr>\n",
              "      <th>4</th>\n",
              "      <td>Cust7704</td>\n",
              "      <td>Y</td>\n",
              "      <td>2015-02-26</td>\n",
              "      <td>Multi-vehicle Collision</td>\n",
              "      <td>Side Collision</td>\n",
              "      <td>Major Damage</td>\n",
              "      <td>Other</td>\n",
              "      <td>State4</td>\n",
              "      <td>City6</td>\n",
              "      <td>Location 1367</td>\n",
              "      <td>3</td>\n",
              "      <td>3</td>\n",
              "      <td>NO</td>\n",
              "      <td>1</td>\n",
              "      <td>2</td>\n",
              "      <td>NO</td>\n",
              "      <td>81472</td>\n",
              "      <td>7407</td>\n",
              "      <td>14813</td>\n",
              "      <td>59252</td>\n",
              "      <td>27</td>\n",
              "      <td>441783</td>\n",
              "      <td>MALE</td>\n",
              "      <td>Masters</td>\n",
              "      <td>sales</td>\n",
              "      <td>chess</td>\n",
              "      <td>0</td>\n",
              "      <td>0</td>\n",
              "      <td>India</td>\n",
              "      <td>116825</td>\n",
              "      <td>109</td>\n",
              "      <td>2001-09-23</td>\n",
              "      <td>State3</td>\n",
              "      <td>250/500</td>\n",
              "      <td>576</td>\n",
              "      <td>1431.02</td>\n",
              "      <td>4235779</td>\n",
              "      <td>unmarried</td>\n",
              "      <td>Vehicle30447</td>\n",
              "      <td>Wrangler</td>\n",
              "      <td>Ford</td>\n",
              "      <td>2010</td>\n",
              "    </tr>\n",
              "  </tbody>\n",
              "</table>\n",
              "</div>\n",
              "      <button class=\"colab-df-convert\" onclick=\"convertToInteractive('df-84346ea6-808e-4525-9c30-2bc819d0f3bf')\"\n",
              "              title=\"Convert this dataframe to an interactive table.\"\n",
              "              style=\"display:none;\">\n",
              "        \n",
              "  <svg xmlns=\"http://www.w3.org/2000/svg\" height=\"24px\"viewBox=\"0 0 24 24\"\n",
              "       width=\"24px\">\n",
              "    <path d=\"M0 0h24v24H0V0z\" fill=\"none\"/>\n",
              "    <path d=\"M18.56 5.44l.94 2.06.94-2.06 2.06-.94-2.06-.94-.94-2.06-.94 2.06-2.06.94zm-11 1L8.5 8.5l.94-2.06 2.06-.94-2.06-.94L8.5 2.5l-.94 2.06-2.06.94zm10 10l.94 2.06.94-2.06 2.06-.94-2.06-.94-.94-2.06-.94 2.06-2.06.94z\"/><path d=\"M17.41 7.96l-1.37-1.37c-.4-.4-.92-.59-1.43-.59-.52 0-1.04.2-1.43.59L10.3 9.45l-7.72 7.72c-.78.78-.78 2.05 0 2.83L4 21.41c.39.39.9.59 1.41.59.51 0 1.02-.2 1.41-.59l7.78-7.78 2.81-2.81c.8-.78.8-2.07 0-2.86zM5.41 20L4 18.59l7.72-7.72 1.47 1.35L5.41 20z\"/>\n",
              "  </svg>\n",
              "      </button>\n",
              "      \n",
              "  <style>\n",
              "    .colab-df-container {\n",
              "      display:flex;\n",
              "      flex-wrap:wrap;\n",
              "      gap: 12px;\n",
              "    }\n",
              "\n",
              "    .colab-df-convert {\n",
              "      background-color: #E8F0FE;\n",
              "      border: none;\n",
              "      border-radius: 50%;\n",
              "      cursor: pointer;\n",
              "      display: none;\n",
              "      fill: #1967D2;\n",
              "      height: 32px;\n",
              "      padding: 0 0 0 0;\n",
              "      width: 32px;\n",
              "    }\n",
              "\n",
              "    .colab-df-convert:hover {\n",
              "      background-color: #E2EBFA;\n",
              "      box-shadow: 0px 1px 2px rgba(60, 64, 67, 0.3), 0px 1px 3px 1px rgba(60, 64, 67, 0.15);\n",
              "      fill: #174EA6;\n",
              "    }\n",
              "\n",
              "    [theme=dark] .colab-df-convert {\n",
              "      background-color: #3B4455;\n",
              "      fill: #D2E3FC;\n",
              "    }\n",
              "\n",
              "    [theme=dark] .colab-df-convert:hover {\n",
              "      background-color: #434B5C;\n",
              "      box-shadow: 0px 1px 3px 1px rgba(0, 0, 0, 0.15);\n",
              "      filter: drop-shadow(0px 1px 2px rgba(0, 0, 0, 0.3));\n",
              "      fill: #FFFFFF;\n",
              "    }\n",
              "  </style>\n",
              "\n",
              "      <script>\n",
              "        const buttonEl =\n",
              "          document.querySelector('#df-84346ea6-808e-4525-9c30-2bc819d0f3bf button.colab-df-convert');\n",
              "        buttonEl.style.display =\n",
              "          google.colab.kernel.accessAllowed ? 'block' : 'none';\n",
              "\n",
              "        async function convertToInteractive(key) {\n",
              "          const element = document.querySelector('#df-84346ea6-808e-4525-9c30-2bc819d0f3bf');\n",
              "          const dataTable =\n",
              "            await google.colab.kernel.invokeFunction('convertToInteractive',\n",
              "                                                     [key], {});\n",
              "          if (!dataTable) return;\n",
              "\n",
              "          const docLinkHtml = 'Like what you see? Visit the ' +\n",
              "            '<a target=\"_blank\" href=https://colab.research.google.com/notebooks/data_table.ipynb>data table notebook</a>'\n",
              "            + ' to learn more about interactive tables.';\n",
              "          element.innerHTML = '';\n",
              "          dataTable['output_type'] = 'display_data';\n",
              "          await google.colab.output.renderOutput(dataTable, element);\n",
              "          const docLink = document.createElement('div');\n",
              "          docLink.innerHTML = docLinkHtml;\n",
              "          element.appendChild(docLink);\n",
              "        }\n",
              "      </script>\n",
              "    </div>\n",
              "  </div>\n",
              "  "
            ]
          },
          "metadata": {},
          "execution_count": 21
        }
      ]
    },
    {
      "cell_type": "code",
      "source": [
        "df['Country'].value_counts()"
      ],
      "metadata": {
        "colab": {
          "base_uri": "https://localhost:8080/"
        },
        "id": "Br2xVQLhWuJB",
        "outputId": "4731c9e6-97a5-4fff-e397-9665a56ee27b"
      },
      "execution_count": null,
      "outputs": [
        {
          "output_type": "execute_result",
          "data": {
            "text/plain": [
              "India    28834\n",
              "Name: Country, dtype: int64"
            ]
          },
          "metadata": {},
          "execution_count": 22
        }
      ]
    },
    {
      "cell_type": "markdown",
      "source": [
        "All rows has Country of India. Thus, we drop the column \"Country\"."
      ],
      "metadata": {
        "id": "aDF_n4lNBcCR"
      }
    },
    {
      "cell_type": "code",
      "source": [
        "# Drop irrelavant or unhelpful columns\n",
        "df.drop(columns=['InsuredHobbies', 'Country'],inplace=True)"
      ],
      "metadata": {
        "id": "I9qcDZpZWWcN"
      },
      "execution_count": null,
      "outputs": []
    },
    {
      "cell_type": "markdown",
      "source": [
        "#### Clean columns"
      ],
      "metadata": {
        "id": "Mdtyz4cUPhHT"
      }
    },
    {
      "cell_type": "markdown",
      "source": [
        "We want to fill null values and change column types for some columns so our dataframe is easy to be analyzed and to be fitted with various models."
      ],
      "metadata": {
        "id": "oKqOSDsHg12I"
      }
    },
    {
      "cell_type": "code",
      "source": [
        "# Change some columns to numbers only\n",
        "df['CustomerID'] = df['CustomerID'].str.replace('Cust','')\n",
        "df['IncidentAddress'] = df['IncidentAddress'].str.replace('Location ','')\n",
        "df['VehicleID'] = df['VehicleID'].str.replace('Vehicle','')\n",
        "df['IncidentState'] = df['IncidentState'].str.replace('State','')\n",
        "df['IncidentCity'] = df['IncidentCity'].str.replace('City','')\n",
        "df['InsurancePolicyState'] = df['InsurancePolicyState'].str.replace('State','')"
      ],
      "metadata": {
        "id": "OPyZtYFQ0qUX"
      },
      "execution_count": null,
      "outputs": []
    },
    {
      "cell_type": "code",
      "source": [
        "# Fill nulls\n",
        "df['AmountOfTotalClaim'] = df['AmountOfTotalClaim'].replace('MISSEDDATA',0)"
      ],
      "metadata": {
        "id": "uKD2GOlX0vuq"
      },
      "execution_count": null,
      "outputs": []
    },
    {
      "cell_type": "code",
      "source": [
        "# Change column types\n",
        "df[['CustomerID', 'IncidentAddress', 'VehicleID', 'AmountOfTotalClaim', 'InsurancePolicyState','VehicleYOM']] \\\n",
        "= df[['CustomerID', 'IncidentAddress', 'VehicleID', 'AmountOfTotalClaim','InsurancePolicyState','VehicleYOM']].astype('int')"
      ],
      "metadata": {
        "id": "_avyuK2K0H_B"
      },
      "execution_count": null,
      "outputs": []
    },
    {
      "cell_type": "code",
      "source": [
        "# Change some categorical columns to numerical columns\n",
        "df.replace({'YES':1,'Y':1,'NO':0,'N':0,'MALE':0,'FEMALE':1},inplace=True)\n",
        "df['SeverityOfIncident'] = df['SeverityOfIncident'].replace({'Trivial Damage':1,'Minor Damage':2,'Major Damage':3,'Total Loss':4})"
      ],
      "metadata": {
        "id": "0JYXlwtl6nQq"
      },
      "execution_count": null,
      "outputs": []
    },
    {
      "cell_type": "code",
      "source": [
        "df.head()"
      ],
      "metadata": {
        "colab": {
          "base_uri": "https://localhost:8080/",
          "height": 357
        },
        "id": "vWjA6pkY0lFo",
        "outputId": "2fb0e343-91d4-42e1-9a90-6fe15bca5087"
      },
      "execution_count": null,
      "outputs": [
        {
          "output_type": "execute_result",
          "data": {
            "text/plain": [
              "   CustomerID  ReportedFraud DateOfIncident            TypeOfIncident  \\\n",
              "0       20065              0     2015-01-09   Multi-vehicle Collision   \n",
              "1       37589              0     2015-02-20  Single Vehicle Collision   \n",
              "2       24312              0     2015-01-14   Multi-vehicle Collision   \n",
              "3        5493              1     2015-01-07   Multi-vehicle Collision   \n",
              "4        7704              1     2015-02-26   Multi-vehicle Collision   \n",
              "\n",
              "  TypeOfCollission  SeverityOfIncident AuthoritiesContacted IncidentState  \\\n",
              "0   Rear Collision                   4                Other             9   \n",
              "1   Side Collision                   2            Ambulance             4   \n",
              "2   Side Collision                   3            Ambulance             5   \n",
              "3   Side Collision                   3            Ambulance             7   \n",
              "4   Side Collision                   3                Other             4   \n",
              "\n",
              "  IncidentCity  IncidentAddress  IncidentTime  NumberOfVehicles  \\\n",
              "0            4             1404            19                 3   \n",
              "1            3             1675            14                 1   \n",
              "2            2             1546            21                 3   \n",
              "3            4             1413            12                 3   \n",
              "4            6             1367             3                 3   \n",
              "\n",
              "  PropertyDamage  BodilyInjuries Witnesses PoliceReport  AmountOfTotalClaim  \\\n",
              "0              ?               1         1            ?               43973   \n",
              "1              ?               1         1            1               62310   \n",
              "2              ?               0         0            ?               42824   \n",
              "3              1               2         0            ?               45672   \n",
              "4              0               1         2            0               81472   \n",
              "\n",
              "   AmountOfInjuryClaim  AmountOfPropertyClaim  AmountOfVehicleDamage  \\\n",
              "0                 9396                   4698                  29879   \n",
              "1                 6539                   6539                  49232   \n",
              "2                 6069                   6069                  30686   \n",
              "3                  253                   5741                  39678   \n",
              "4                 7407                  14813                  59252   \n",
              "\n",
              "   InsuredAge  InsuredZipCode  InsuredGender InsuredEducationLevel  \\\n",
              "0          58          471784            0.0                    JD   \n",
              "1          34          431937            1.0           High School   \n",
              "2          52          479320            1.0                   PhD   \n",
              "3          25          607763            1.0               College   \n",
              "4          27          441783            0.0               Masters   \n",
              "\n",
              "   InsuredOccupation  CapitalGains  CapitalLoss  InsurancePolicyNumber  \\\n",
              "0              sales             0       -42700                 129186   \n",
              "1   transport-moving         51300            0                 146710   \n",
              "2  machine-op-inspct             0            0                 133433   \n",
              "3    exec-managerial         47400       -56100                 114614   \n",
              "4              sales             0            0                 116825   \n",
              "\n",
              "   CustomerLoyaltyPeriod DateOfPolicyCoverage  InsurancePolicyState  \\\n",
              "0                    432           1998-11-14                     2   \n",
              "1                    128           2000-08-19                     2   \n",
              "2                    346           2000-06-23                     1   \n",
              "3                     42           1992-01-15                     2   \n",
              "4                    109           2001-09-23                     3   \n",
              "\n",
              "  Policy_CombinedSingleLimit  Policy_Deductible  PolicyAnnualPremium  \\\n",
              "0                    250/500               2000              1142.87   \n",
              "1                    100/300               1000              1274.38   \n",
              "2                   500/1000                745              1269.93   \n",
              "3                    100/300                986              1218.60   \n",
              "4                    250/500                576              1431.02   \n",
              "\n",
              "   UmbrellaLimit InsuredRelationship  VehicleID VehicleModel VehicleMake  \\\n",
              "0              0           own-child      30662         E400    Mercedes   \n",
              "1        2857344           own-child      17183   Highlander      Toyota   \n",
              "2              0      other-relative      33982       Passat  Volkswagen   \n",
              "3              0      other-relative      12299   Highlander      Toyota   \n",
              "4        4235779           unmarried      30447     Wrangler        Ford   \n",
              "\n",
              "   VehicleYOM  \n",
              "0        2005  \n",
              "1        2010  \n",
              "2        2002  \n",
              "3        2011  \n",
              "4        2010  "
            ],
            "text/html": [
              "\n",
              "  <div id=\"df-042ca527-7f0a-4d48-b035-fd6504927ab0\">\n",
              "    <div class=\"colab-df-container\">\n",
              "      <div>\n",
              "<style scoped>\n",
              "    .dataframe tbody tr th:only-of-type {\n",
              "        vertical-align: middle;\n",
              "    }\n",
              "\n",
              "    .dataframe tbody tr th {\n",
              "        vertical-align: top;\n",
              "    }\n",
              "\n",
              "    .dataframe thead th {\n",
              "        text-align: right;\n",
              "    }\n",
              "</style>\n",
              "<table border=\"1\" class=\"dataframe\">\n",
              "  <thead>\n",
              "    <tr style=\"text-align: right;\">\n",
              "      <th></th>\n",
              "      <th>CustomerID</th>\n",
              "      <th>ReportedFraud</th>\n",
              "      <th>DateOfIncident</th>\n",
              "      <th>TypeOfIncident</th>\n",
              "      <th>TypeOfCollission</th>\n",
              "      <th>SeverityOfIncident</th>\n",
              "      <th>AuthoritiesContacted</th>\n",
              "      <th>IncidentState</th>\n",
              "      <th>IncidentCity</th>\n",
              "      <th>IncidentAddress</th>\n",
              "      <th>IncidentTime</th>\n",
              "      <th>NumberOfVehicles</th>\n",
              "      <th>PropertyDamage</th>\n",
              "      <th>BodilyInjuries</th>\n",
              "      <th>Witnesses</th>\n",
              "      <th>PoliceReport</th>\n",
              "      <th>AmountOfTotalClaim</th>\n",
              "      <th>AmountOfInjuryClaim</th>\n",
              "      <th>AmountOfPropertyClaim</th>\n",
              "      <th>AmountOfVehicleDamage</th>\n",
              "      <th>InsuredAge</th>\n",
              "      <th>InsuredZipCode</th>\n",
              "      <th>InsuredGender</th>\n",
              "      <th>InsuredEducationLevel</th>\n",
              "      <th>InsuredOccupation</th>\n",
              "      <th>CapitalGains</th>\n",
              "      <th>CapitalLoss</th>\n",
              "      <th>InsurancePolicyNumber</th>\n",
              "      <th>CustomerLoyaltyPeriod</th>\n",
              "      <th>DateOfPolicyCoverage</th>\n",
              "      <th>InsurancePolicyState</th>\n",
              "      <th>Policy_CombinedSingleLimit</th>\n",
              "      <th>Policy_Deductible</th>\n",
              "      <th>PolicyAnnualPremium</th>\n",
              "      <th>UmbrellaLimit</th>\n",
              "      <th>InsuredRelationship</th>\n",
              "      <th>VehicleID</th>\n",
              "      <th>VehicleModel</th>\n",
              "      <th>VehicleMake</th>\n",
              "      <th>VehicleYOM</th>\n",
              "    </tr>\n",
              "  </thead>\n",
              "  <tbody>\n",
              "    <tr>\n",
              "      <th>0</th>\n",
              "      <td>20065</td>\n",
              "      <td>0</td>\n",
              "      <td>2015-01-09</td>\n",
              "      <td>Multi-vehicle Collision</td>\n",
              "      <td>Rear Collision</td>\n",
              "      <td>4</td>\n",
              "      <td>Other</td>\n",
              "      <td>9</td>\n",
              "      <td>4</td>\n",
              "      <td>1404</td>\n",
              "      <td>19</td>\n",
              "      <td>3</td>\n",
              "      <td>?</td>\n",
              "      <td>1</td>\n",
              "      <td>1</td>\n",
              "      <td>?</td>\n",
              "      <td>43973</td>\n",
              "      <td>9396</td>\n",
              "      <td>4698</td>\n",
              "      <td>29879</td>\n",
              "      <td>58</td>\n",
              "      <td>471784</td>\n",
              "      <td>0.0</td>\n",
              "      <td>JD</td>\n",
              "      <td>sales</td>\n",
              "      <td>0</td>\n",
              "      <td>-42700</td>\n",
              "      <td>129186</td>\n",
              "      <td>432</td>\n",
              "      <td>1998-11-14</td>\n",
              "      <td>2</td>\n",
              "      <td>250/500</td>\n",
              "      <td>2000</td>\n",
              "      <td>1142.87</td>\n",
              "      <td>0</td>\n",
              "      <td>own-child</td>\n",
              "      <td>30662</td>\n",
              "      <td>E400</td>\n",
              "      <td>Mercedes</td>\n",
              "      <td>2005</td>\n",
              "    </tr>\n",
              "    <tr>\n",
              "      <th>1</th>\n",
              "      <td>37589</td>\n",
              "      <td>0</td>\n",
              "      <td>2015-02-20</td>\n",
              "      <td>Single Vehicle Collision</td>\n",
              "      <td>Side Collision</td>\n",
              "      <td>2</td>\n",
              "      <td>Ambulance</td>\n",
              "      <td>4</td>\n",
              "      <td>3</td>\n",
              "      <td>1675</td>\n",
              "      <td>14</td>\n",
              "      <td>1</td>\n",
              "      <td>?</td>\n",
              "      <td>1</td>\n",
              "      <td>1</td>\n",
              "      <td>1</td>\n",
              "      <td>62310</td>\n",
              "      <td>6539</td>\n",
              "      <td>6539</td>\n",
              "      <td>49232</td>\n",
              "      <td>34</td>\n",
              "      <td>431937</td>\n",
              "      <td>1.0</td>\n",
              "      <td>High School</td>\n",
              "      <td>transport-moving</td>\n",
              "      <td>51300</td>\n",
              "      <td>0</td>\n",
              "      <td>146710</td>\n",
              "      <td>128</td>\n",
              "      <td>2000-08-19</td>\n",
              "      <td>2</td>\n",
              "      <td>100/300</td>\n",
              "      <td>1000</td>\n",
              "      <td>1274.38</td>\n",
              "      <td>2857344</td>\n",
              "      <td>own-child</td>\n",
              "      <td>17183</td>\n",
              "      <td>Highlander</td>\n",
              "      <td>Toyota</td>\n",
              "      <td>2010</td>\n",
              "    </tr>\n",
              "    <tr>\n",
              "      <th>2</th>\n",
              "      <td>24312</td>\n",
              "      <td>0</td>\n",
              "      <td>2015-01-14</td>\n",
              "      <td>Multi-vehicle Collision</td>\n",
              "      <td>Side Collision</td>\n",
              "      <td>3</td>\n",
              "      <td>Ambulance</td>\n",
              "      <td>5</td>\n",
              "      <td>2</td>\n",
              "      <td>1546</td>\n",
              "      <td>21</td>\n",
              "      <td>3</td>\n",
              "      <td>?</td>\n",
              "      <td>0</td>\n",
              "      <td>0</td>\n",
              "      <td>?</td>\n",
              "      <td>42824</td>\n",
              "      <td>6069</td>\n",
              "      <td>6069</td>\n",
              "      <td>30686</td>\n",
              "      <td>52</td>\n",
              "      <td>479320</td>\n",
              "      <td>1.0</td>\n",
              "      <td>PhD</td>\n",
              "      <td>machine-op-inspct</td>\n",
              "      <td>0</td>\n",
              "      <td>0</td>\n",
              "      <td>133433</td>\n",
              "      <td>346</td>\n",
              "      <td>2000-06-23</td>\n",
              "      <td>1</td>\n",
              "      <td>500/1000</td>\n",
              "      <td>745</td>\n",
              "      <td>1269.93</td>\n",
              "      <td>0</td>\n",
              "      <td>other-relative</td>\n",
              "      <td>33982</td>\n",
              "      <td>Passat</td>\n",
              "      <td>Volkswagen</td>\n",
              "      <td>2002</td>\n",
              "    </tr>\n",
              "    <tr>\n",
              "      <th>3</th>\n",
              "      <td>5493</td>\n",
              "      <td>1</td>\n",
              "      <td>2015-01-07</td>\n",
              "      <td>Multi-vehicle Collision</td>\n",
              "      <td>Side Collision</td>\n",
              "      <td>3</td>\n",
              "      <td>Ambulance</td>\n",
              "      <td>7</td>\n",
              "      <td>4</td>\n",
              "      <td>1413</td>\n",
              "      <td>12</td>\n",
              "      <td>3</td>\n",
              "      <td>1</td>\n",
              "      <td>2</td>\n",
              "      <td>0</td>\n",
              "      <td>?</td>\n",
              "      <td>45672</td>\n",
              "      <td>253</td>\n",
              "      <td>5741</td>\n",
              "      <td>39678</td>\n",
              "      <td>25</td>\n",
              "      <td>607763</td>\n",
              "      <td>1.0</td>\n",
              "      <td>College</td>\n",
              "      <td>exec-managerial</td>\n",
              "      <td>47400</td>\n",
              "      <td>-56100</td>\n",
              "      <td>114614</td>\n",
              "      <td>42</td>\n",
              "      <td>1992-01-15</td>\n",
              "      <td>2</td>\n",
              "      <td>100/300</td>\n",
              "      <td>986</td>\n",
              "      <td>1218.60</td>\n",
              "      <td>0</td>\n",
              "      <td>other-relative</td>\n",
              "      <td>12299</td>\n",
              "      <td>Highlander</td>\n",
              "      <td>Toyota</td>\n",
              "      <td>2011</td>\n",
              "    </tr>\n",
              "    <tr>\n",
              "      <th>4</th>\n",
              "      <td>7704</td>\n",
              "      <td>1</td>\n",
              "      <td>2015-02-26</td>\n",
              "      <td>Multi-vehicle Collision</td>\n",
              "      <td>Side Collision</td>\n",
              "      <td>3</td>\n",
              "      <td>Other</td>\n",
              "      <td>4</td>\n",
              "      <td>6</td>\n",
              "      <td>1367</td>\n",
              "      <td>3</td>\n",
              "      <td>3</td>\n",
              "      <td>0</td>\n",
              "      <td>1</td>\n",
              "      <td>2</td>\n",
              "      <td>0</td>\n",
              "      <td>81472</td>\n",
              "      <td>7407</td>\n",
              "      <td>14813</td>\n",
              "      <td>59252</td>\n",
              "      <td>27</td>\n",
              "      <td>441783</td>\n",
              "      <td>0.0</td>\n",
              "      <td>Masters</td>\n",
              "      <td>sales</td>\n",
              "      <td>0</td>\n",
              "      <td>0</td>\n",
              "      <td>116825</td>\n",
              "      <td>109</td>\n",
              "      <td>2001-09-23</td>\n",
              "      <td>3</td>\n",
              "      <td>250/500</td>\n",
              "      <td>576</td>\n",
              "      <td>1431.02</td>\n",
              "      <td>4235779</td>\n",
              "      <td>unmarried</td>\n",
              "      <td>30447</td>\n",
              "      <td>Wrangler</td>\n",
              "      <td>Ford</td>\n",
              "      <td>2010</td>\n",
              "    </tr>\n",
              "  </tbody>\n",
              "</table>\n",
              "</div>\n",
              "      <button class=\"colab-df-convert\" onclick=\"convertToInteractive('df-042ca527-7f0a-4d48-b035-fd6504927ab0')\"\n",
              "              title=\"Convert this dataframe to an interactive table.\"\n",
              "              style=\"display:none;\">\n",
              "        \n",
              "  <svg xmlns=\"http://www.w3.org/2000/svg\" height=\"24px\"viewBox=\"0 0 24 24\"\n",
              "       width=\"24px\">\n",
              "    <path d=\"M0 0h24v24H0V0z\" fill=\"none\"/>\n",
              "    <path d=\"M18.56 5.44l.94 2.06.94-2.06 2.06-.94-2.06-.94-.94-2.06-.94 2.06-2.06.94zm-11 1L8.5 8.5l.94-2.06 2.06-.94-2.06-.94L8.5 2.5l-.94 2.06-2.06.94zm10 10l.94 2.06.94-2.06 2.06-.94-2.06-.94-.94-2.06-.94 2.06-2.06.94z\"/><path d=\"M17.41 7.96l-1.37-1.37c-.4-.4-.92-.59-1.43-.59-.52 0-1.04.2-1.43.59L10.3 9.45l-7.72 7.72c-.78.78-.78 2.05 0 2.83L4 21.41c.39.39.9.59 1.41.59.51 0 1.02-.2 1.41-.59l7.78-7.78 2.81-2.81c.8-.78.8-2.07 0-2.86zM5.41 20L4 18.59l7.72-7.72 1.47 1.35L5.41 20z\"/>\n",
              "  </svg>\n",
              "      </button>\n",
              "      \n",
              "  <style>\n",
              "    .colab-df-container {\n",
              "      display:flex;\n",
              "      flex-wrap:wrap;\n",
              "      gap: 12px;\n",
              "    }\n",
              "\n",
              "    .colab-df-convert {\n",
              "      background-color: #E8F0FE;\n",
              "      border: none;\n",
              "      border-radius: 50%;\n",
              "      cursor: pointer;\n",
              "      display: none;\n",
              "      fill: #1967D2;\n",
              "      height: 32px;\n",
              "      padding: 0 0 0 0;\n",
              "      width: 32px;\n",
              "    }\n",
              "\n",
              "    .colab-df-convert:hover {\n",
              "      background-color: #E2EBFA;\n",
              "      box-shadow: 0px 1px 2px rgba(60, 64, 67, 0.3), 0px 1px 3px 1px rgba(60, 64, 67, 0.15);\n",
              "      fill: #174EA6;\n",
              "    }\n",
              "\n",
              "    [theme=dark] .colab-df-convert {\n",
              "      background-color: #3B4455;\n",
              "      fill: #D2E3FC;\n",
              "    }\n",
              "\n",
              "    [theme=dark] .colab-df-convert:hover {\n",
              "      background-color: #434B5C;\n",
              "      box-shadow: 0px 1px 3px 1px rgba(0, 0, 0, 0.15);\n",
              "      filter: drop-shadow(0px 1px 2px rgba(0, 0, 0, 0.3));\n",
              "      fill: #FFFFFF;\n",
              "    }\n",
              "  </style>\n",
              "\n",
              "      <script>\n",
              "        const buttonEl =\n",
              "          document.querySelector('#df-042ca527-7f0a-4d48-b035-fd6504927ab0 button.colab-df-convert');\n",
              "        buttonEl.style.display =\n",
              "          google.colab.kernel.accessAllowed ? 'block' : 'none';\n",
              "\n",
              "        async function convertToInteractive(key) {\n",
              "          const element = document.querySelector('#df-042ca527-7f0a-4d48-b035-fd6504927ab0');\n",
              "          const dataTable =\n",
              "            await google.colab.kernel.invokeFunction('convertToInteractive',\n",
              "                                                     [key], {});\n",
              "          if (!dataTable) return;\n",
              "\n",
              "          const docLinkHtml = 'Like what you see? Visit the ' +\n",
              "            '<a target=\"_blank\" href=https://colab.research.google.com/notebooks/data_table.ipynb>data table notebook</a>'\n",
              "            + ' to learn more about interactive tables.';\n",
              "          element.innerHTML = '';\n",
              "          dataTable['output_type'] = 'display_data';\n",
              "          await google.colab.output.renderOutput(dataTable, element);\n",
              "          const docLink = document.createElement('div');\n",
              "          docLink.innerHTML = docLinkHtml;\n",
              "          element.appendChild(docLink);\n",
              "        }\n",
              "      </script>\n",
              "    </div>\n",
              "  </div>\n",
              "  "
            ]
          },
          "metadata": {},
          "execution_count": 28
        }
      ]
    },
    {
      "cell_type": "markdown",
      "source": [
        "Now our dataframe is nice, clean, and ready to be used. "
      ],
      "metadata": {
        "id": "b9tO5UfOgslN"
      }
    },
    {
      "cell_type": "markdown",
      "source": [
        "### Data Visualization"
      ],
      "metadata": {
        "id": "D0_-5YfZyDbg"
      }
    },
    {
      "cell_type": "markdown",
      "source": [
        "In this part, we want to visualized the pre-processed data to check columns' patterns, dependency, trends, and distribution of values in some columns. From graphs, we can do further EDA on the dataset."
      ],
      "metadata": {
        "id": "Pri6J3PIZq61"
      }
    },
    {
      "cell_type": "markdown",
      "source": [
        "#### Correlation heat map"
      ],
      "metadata": {
        "id": "PsHla_bHyeN6"
      }
    },
    {
      "cell_type": "markdown",
      "source": [
        "We first use correlation heat map to identify strongly correlated variables and potential multicollinearity issues."
      ],
      "metadata": {
        "id": "zspZ3i95a9wO"
      }
    },
    {
      "cell_type": "code",
      "source": [
        "# correlation heatmap\n",
        "plt.figure(figsize=(10, 8))\n",
        "plt.title('Correlation Heat Map')\n",
        "sns.heatmap(df.corr(),cmap='RdBu', vmin=-1, vmax=1)"
      ],
      "metadata": {
        "id": "XriginvElJoM",
        "colab": {
          "base_uri": "https://localhost:8080/",
          "height": 635
        },
        "outputId": "2739b485-3088-4ebb-fb75-764b3dced2d0"
      },
      "execution_count": null,
      "outputs": [
        {
          "output_type": "execute_result",
          "data": {
            "text/plain": [
              "<matplotlib.axes._subplots.AxesSubplot at 0x7ff4ca928d90>"
            ]
          },
          "metadata": {},
          "execution_count": 29
        },
        {
          "output_type": "display_data",
          "data": {
            "text/plain": [
              "<Figure size 720x576 with 2 Axes>"
            ],
            "image/png": "[encoded data removed]"
          },
          "metadata": {
            "needs_background": "light"
          }
        }
      ]
    },
    {
      "cell_type": "markdown",
      "source": [
        "From the above heatmap, we can conclude that Customer Loyalty Period is positively correlated with Insured Age. Amount of total claim, Injury claim, property claim, vehicle damage are related with each other. Our target Reported Fraud have no obviously correlation with other features except CustomerID and Insurance Policy Number. Since we will not use CustomerID and Policy Number to predict Fraud, there is no multicollinearity issue."
      ],
      "metadata": {
        "id": "vC7ce9zyXg8z"
      }
    },
    {
      "cell_type": "code",
      "source": [
        "df.drop(columns=['CustomerID', 'InsurancePolicyNumber'],inplace=True)"
      ],
      "metadata": {
        "id": "5GWUBpjbbkHL"
      },
      "execution_count": null,
      "outputs": []
    },
    {
      "cell_type": "markdown",
      "source": [
        "#### Barplot"
      ],
      "metadata": {
        "id": "Hh7eO-Mxyh17"
      }
    },
    {
      "cell_type": "code",
      "source": [
        "# plot the distribution of Reported Fraud\n",
        "sns.countplot(df['ReportedFraud']).set(title = 'Distribution of Reported Fraud')"
      ],
      "metadata": {
        "colab": {
          "base_uri": "https://localhost:8080/",
          "height": 370
        },
        "id": "xZhUb5knbL9q",
        "outputId": "dd31e969-3f3d-45cc-e0cf-00ec84573cc4"
      },
      "execution_count": null,
      "outputs": [
        {
          "output_type": "stream",
          "name": "stderr",
          "text": [
            "/usr/local/lib/python3.8/dist-packages/seaborn/_decorators.py:36: FutureWarning: Pass the following variable as a keyword arg: x. From version 0.12, the only valid positional argument will be `data`, and passing other arguments without an explicit keyword will result in an error or misinterpretation.\n",
            "  warnings.warn(\n"
          ]
        },
        {
          "output_type": "execute_result",
          "data": {
            "text/plain": [
              "[Text(0.5, 1.0, 'Distribution of Reported Fraud')]"
            ]
          },
          "metadata": {},
          "execution_count": 31
        },
        {
          "output_type": "display_data",
          "data": {
            "text/plain": [
              "<Figure size 432x288 with 1 Axes>"
            ],
            "image/png": "[encoded data removed]"
          },
          "metadata": {
            "needs_background": "light"
          }
        }
      ]
    },
    {
      "cell_type": "markdown",
      "source": [
        "Our targets are in highly imbalance. In the section Feature Engineering, we fix this problem with oversampling."
      ],
      "metadata": {
        "id": "fLETdKsYbUQm"
      }
    },
    {
      "cell_type": "code",
      "source": [
        "# plot the distribution of Type Of Incidents\n",
        "plt.xticks(rotation=15)\n",
        "sns.countplot(x='TypeOfIncident',hue='ReportedFraud',data=df).set(title = 'Distribution of Type of Incidents')"
      ],
      "metadata": {
        "id": "yTq8LzqVktAm",
        "colab": {
          "base_uri": "https://localhost:8080/",
          "height": 343
        },
        "outputId": "47aac401-b776-4ad6-e110-5bb9246ad7dc"
      },
      "execution_count": null,
      "outputs": [
        {
          "output_type": "execute_result",
          "data": {
            "text/plain": [
              "[Text(0.5, 1.0, 'Distribution of Type of Incidents')]"
            ]
          },
          "metadata": {},
          "execution_count": 32
        },
        {
          "output_type": "display_data",
          "data": {
            "text/plain": [
              "<Figure size 432x288 with 1 Axes>"
            ],
            "image/png": "[encoded data removed]"
          },
          "metadata": {
            "needs_background": "light"
          }
        }
      ]
    },
    {
      "cell_type": "markdown",
      "source": [
        "More incidents are collision including multi-vehicle collision and single vehicle collision. The Reported Fraud rate of collision is higher than vehicle theft and parked car."
      ],
      "metadata": {
        "id": "liif7GegZLT-"
      }
    },
    {
      "cell_type": "code",
      "source": [
        "# plot the distribution of Authorities Contacted\n",
        "# plt.xticks(rotation=15)\n",
        "sns.countplot(x='AuthoritiesContacted',hue='ReportedFraud',data=df).set(title = 'Distribution of Authorities Contacted')"
      ],
      "metadata": {
        "id": "qjMK3ArJpmDJ",
        "colab": {
          "base_uri": "https://localhost:8080/",
          "height": 313
        },
        "outputId": "ce54e74b-aa53-4108-e407-e41ac7e7fbc2"
      },
      "execution_count": null,
      "outputs": [
        {
          "output_type": "execute_result",
          "data": {
            "text/plain": [
              "[Text(0.5, 1.0, 'Distribution of Authorities Contacted')]"
            ]
          },
          "metadata": {},
          "execution_count": 33
        },
        {
          "output_type": "display_data",
          "data": {
            "text/plain": [
              "<Figure size 432x288 with 1 Axes>"
            ],
            "image/png": "[encoded data removed]"
          },
          "metadata": {
            "needs_background": "light"
          }
        }
      ]
    },
    {
      "cell_type": "markdown",
      "source": [
        "Police are the most authorities that are contacted. The ReportedFraud are similar for known Authorities Contacted except for None."
      ],
      "metadata": {
        "id": "UEw6soiFZWFy"
      }
    },
    {
      "cell_type": "code",
      "source": [
        "# plot the distribution of Insured Education Level\n",
        "plt.xticks(rotation=15)\n",
        "sns.countplot(x='InsuredEducationLevel',hue='ReportedFraud',data=df).set(title = 'Distribution of Insured Education Level')"
      ],
      "metadata": {
        "id": "PsjO30vgpoYM",
        "colab": {
          "base_uri": "https://localhost:8080/",
          "height": 328
        },
        "outputId": "2df30ea1-f53f-4600-a322-d888494e1d02"
      },
      "execution_count": null,
      "outputs": [
        {
          "output_type": "execute_result",
          "data": {
            "text/plain": [
              "[Text(0.5, 1.0, 'Distribution of Insured Education Level')]"
            ]
          },
          "metadata": {},
          "execution_count": 34
        },
        {
          "output_type": "display_data",
          "data": {
            "text/plain": [
              "<Figure size 432x288 with 1 Axes>"
            ],
            "image/png": "[encoded data removed]"
          },
          "metadata": {
            "needs_background": "light"
          }
        }
      ]
    },
    {
      "cell_type": "markdown",
      "source": [
        "Though the numbers of each education level are different, the total reported fraud are similar among all education level. The overall trend are similar."
      ],
      "metadata": {
        "id": "NyD7Lw9nhB2l"
      }
    },
    {
      "cell_type": "code",
      "source": [
        "# plot the distribution os Insured Occupation\n",
        "plt.xticks(rotation=40)\n",
        "sns.countplot(x='InsuredOccupation',hue='ReportedFraud',data=df).set(title = 'Distribution of Insured Occupation')"
      ],
      "metadata": {
        "id": "Qns3glCYpo_q",
        "colab": {
          "base_uri": "https://localhost:8080/",
          "height": 371
        },
        "outputId": "63fe991f-6c49-4a60-e05a-ef8fa7de9947"
      },
      "execution_count": null,
      "outputs": [
        {
          "output_type": "execute_result",
          "data": {
            "text/plain": [
              "[Text(0.5, 1.0, 'Distribution of Insured Occupation')]"
            ]
          },
          "metadata": {},
          "execution_count": 35
        },
        {
          "output_type": "display_data",
          "data": {
            "text/plain": [
              "<Figure size 432x288 with 1 Axes>"
            ],
            "image/png": "[encoded data removed]"
          },
          "metadata": {
            "needs_background": "light"
          }
        }
      ]
    },
    {
      "cell_type": "markdown",
      "source": [
        "Machine-op-inspct has large total number but less Reported Fraud, we can reasonably guess that they have a sharper sense when selecting insurance because they know more about cars. Exec-managerial has the most Reported Fraud number but with less total number."
      ],
      "metadata": {
        "id": "1qowjKNkhnGP"
      }
    },
    {
      "cell_type": "code",
      "source": [
        "# plot the distribution of Insured Relationship\n",
        "plt.xticks(rotation=15)\n",
        "sns.countplot(x='InsuredRelationship',hue='ReportedFraud',data=df).set(title = 'Distribution of Insured Relationship')"
      ],
      "metadata": {
        "id": "zCNF4Ktupp-X",
        "colab": {
          "base_uri": "https://localhost:8080/",
          "height": 330
        },
        "outputId": "1bf5ec16-6faf-4d04-86df-fe8bd34663f2"
      },
      "execution_count": null,
      "outputs": [
        {
          "output_type": "execute_result",
          "data": {
            "text/plain": [
              "[Text(0.5, 1.0, 'Distribution of Insured Relationship')]"
            ]
          },
          "metadata": {},
          "execution_count": 36
        },
        {
          "output_type": "display_data",
          "data": {
            "text/plain": [
              "<Figure size 432x288 with 1 Axes>"
            ],
            "image/png": "[encoded data removed]"
          },
          "metadata": {
            "needs_background": "light"
          }
        }
      ]
    },
    {
      "cell_type": "markdown",
      "source": [
        "We can see from the graph that those unmarried have a larger percentage to report Fraud. While those own child have a lower rate to report Fraud."
      ],
      "metadata": {
        "id": "J57hHQoUiZ7A"
      }
    },
    {
      "cell_type": "markdown",
      "source": [
        "#### Daily and weekly trend of reported fraud\n",
        "\n",
        "In this part, we aggregate the data daily and weekly to track the trend of Report Fraud. By correlate with other trend, we can check whether some factors influence the Reported Fraud."
      ],
      "metadata": {
        "id": "2vImfZz1ymPY"
      }
    },
    {
      "cell_type": "code",
      "source": [
        "# change string to datetime\n",
        "from datetime import datetime\n",
        "df['DateOfIncident'] = df['DateOfIncident'].apply(lambda x: pd.to_datetime(x))"
      ],
      "metadata": {
        "id": "4lCMd1cyqkhP"
      },
      "execution_count": null,
      "outputs": []
    },
    {
      "cell_type": "code",
      "source": [
        "train_daily_groupby = df.groupby('DateOfIncident').sum().reset_index()\n",
        "train_daily_groupby"
      ],
      "metadata": {
        "colab": {
          "base_uri": "https://localhost:8080/",
          "height": 488
        },
        "id": "0_3sk9sWw_yv",
        "outputId": "5a3ca3a0-b483-4bd4-c9e3-605400f10863"
      },
      "execution_count": null,
      "outputs": [
        {
          "output_type": "execute_result",
          "data": {
            "text/plain": [
              "   DateOfIncident  ReportedFraud  SeverityOfIncident  IncidentAddress  \\\n",
              "0      2015-01-01             33                 312           223017   \n",
              "1      2015-01-02             89                 718           468225   \n",
              "2      2015-01-03             99                 944           566385   \n",
              "3      2015-01-04             69                 839           522593   \n",
              "4      2015-01-05             93                 984           566345   \n",
              "..            ...            ...                 ...              ...   \n",
              "67     2015-03-09              0                   6             2809   \n",
              "68     2015-03-10              1                   4             1746   \n",
              "69     2015-03-11              1                   9             4428   \n",
              "70     2015-03-12              1                   4             1563   \n",
              "71     2015-03-14              0                   2             1032   \n",
              "\n",
              "    IncidentTime  NumberOfVehicles  BodilyInjuries  AmountOfTotalClaim  \\\n",
              "0           1417               230             122             5575648   \n",
              "1           3364               491             277            12415966   \n",
              "2           4113               587             383            18642314   \n",
              "3           3808               568             338            16910343   \n",
              "4           4257               626             373            19583778   \n",
              "..           ...               ...             ...                 ...   \n",
              "67            18                 7               2               88673   \n",
              "68            22                 3               2               63019   \n",
              "69            51                 7               4              169136   \n",
              "70            22                 3               2               61476   \n",
              "71            14                 2               1               38302   \n",
              "\n",
              "    AmountOfInjuryClaim  AmountOfPropertyClaim  AmountOfVehicleDamage  \\\n",
              "0                779306                 837663                3958679   \n",
              "1               1800426                1624808                8990732   \n",
              "2               2611026                2486746               13616678   \n",
              "3               2423591                2436181               12050571   \n",
              "4               2757789                2908446               13996622   \n",
              "..                  ...                    ...                    ...   \n",
              "67                10197                   8104                  70372   \n",
              "68                10760                   5380                  46879   \n",
              "69                24704                  20305                 124127   \n",
              "70                10572                   5286                  45618   \n",
              "71                 6690                   4256                  27356   \n",
              "\n",
              "    InsuredAge  InsuredZipCode  InsuredGender  CapitalGains  CapitalLoss  \\\n",
              "0         5382        69315967           63.0       3428500     -3447800   \n",
              "1        11273       149506790          118.0       6406200     -6894400   \n",
              "2        14496       182424410          164.0       8400200     -7845200   \n",
              "3        13969       170125022          185.0       7749900     -6868100   \n",
              "4        14752       184914003          170.0      10440600     -7748300   \n",
              "..         ...             ...            ...           ...          ...   \n",
              "67         100          879003            1.0        124000      -123300   \n",
              "68          37          474771            1.0             0       -60300   \n",
              "69         113         1425336            3.0        103100       -57000   \n",
              "70          36          477373            1.0             0            0   \n",
              "71          44          457875            1.0             0            0   \n",
              "\n",
              "    CustomerLoyaltyPeriod  InsurancePolicyState  Policy_Deductible  \\\n",
              "0                   27074                   271             150416   \n",
              "1                   58059                   627             320091   \n",
              "2                   79934                   712             430294   \n",
              "3                   79064                   688             392015   \n",
              "4                   80657                   767             459917   \n",
              "..                    ...                   ...                ...   \n",
              "67                    657                     6               1748   \n",
              "68                    186                     3               1505   \n",
              "69                    570                     6               4835   \n",
              "70                    186                     3               1372   \n",
              "71                    238                     1               1490   \n",
              "\n",
              "    PolicyAnnualPremium  UmbrellaLimit  VehicleID  VehicleYOM  \n",
              "0             166598.59       88289673    2776402      279010  \n",
              "1             343900.05      138729906    5961346      586003  \n",
              "2             443459.76      299371412    7375562      723910  \n",
              "3             426342.77      268206123    7002998      679804  \n",
              "4             450291.90      343192138    7298081      737821  \n",
              "..                  ...            ...        ...         ...  \n",
              "67              2072.09              0      51116        3997  \n",
              "68              1231.37              0      39280        1999  \n",
              "69              3856.85              0      55029        6012  \n",
              "70              1234.81              0      12125        1999  \n",
              "71              1257.04              0      17210        2008  \n",
              "\n",
              "[72 rows x 23 columns]"
            ],
            "text/html": [
              "\n",
              "  <div id=\"df-ca2c67a1-fc5e-4e8f-914d-109264f9f890\">\n",
              "    <div class=\"colab-df-container\">\n",
              "      <div>\n",
              "<style scoped>\n",
              "    .dataframe tbody tr th:only-of-type {\n",
              "        vertical-align: middle;\n",
              "    }\n",
              "\n",
              "    .dataframe tbody tr th {\n",
              "        vertical-align: top;\n",
              "    }\n",
              "\n",
              "    .dataframe thead th {\n",
              "        text-align: right;\n",
              "    }\n",
              "</style>\n",
              "<table border=\"1\" class=\"dataframe\">\n",
              "  <thead>\n",
              "    <tr style=\"text-align: right;\">\n",
              "      <th></th>\n",
              "      <th>DateOfIncident</th>\n",
              "      <th>ReportedFraud</th>\n",
              "      <th>SeverityOfIncident</th>\n",
              "      <th>IncidentAddress</th>\n",
              "      <th>IncidentTime</th>\n",
              "      <th>NumberOfVehicles</th>\n",
              "      <th>BodilyInjuries</th>\n",
              "      <th>AmountOfTotalClaim</th>\n",
              "      <th>AmountOfInjuryClaim</th>\n",
              "      <th>AmountOfPropertyClaim</th>\n",
              "      <th>AmountOfVehicleDamage</th>\n",
              "      <th>InsuredAge</th>\n",
              "      <th>InsuredZipCode</th>\n",
              "      <th>InsuredGender</th>\n",
              "      <th>CapitalGains</th>\n",
              "      <th>CapitalLoss</th>\n",
              "      <th>CustomerLoyaltyPeriod</th>\n",
              "      <th>InsurancePolicyState</th>\n",
              "      <th>Policy_Deductible</th>\n",
              "      <th>PolicyAnnualPremium</th>\n",
              "      <th>UmbrellaLimit</th>\n",
              "      <th>VehicleID</th>\n",
              "      <th>VehicleYOM</th>\n",
              "    </tr>\n",
              "  </thead>\n",
              "  <tbody>\n",
              "    <tr>\n",
              "      <th>0</th>\n",
              "      <td>2015-01-01</td>\n",
              "      <td>33</td>\n",
              "      <td>312</td>\n",
              "      <td>223017</td>\n",
              "      <td>1417</td>\n",
              "      <td>230</td>\n",
              "      <td>122</td>\n",
              "      <td>5575648</td>\n",
              "      <td>779306</td>\n",
              "      <td>837663</td>\n",
              "      <td>3958679</td>\n",
              "      <td>5382</td>\n",
              "      <td>69315967</td>\n",
              "      <td>63.0</td>\n",
              "      <td>3428500</td>\n",
              "      <td>-3447800</td>\n",
              "      <td>27074</td>\n",
              "      <td>271</td>\n",
              "      <td>150416</td>\n",
              "      <td>166598.59</td>\n",
              "      <td>88289673</td>\n",
              "      <td>2776402</td>\n",
              "      <td>279010</td>\n",
              "    </tr>\n",
              "    <tr>\n",
              "      <th>1</th>\n",
              "      <td>2015-01-02</td>\n",
              "      <td>89</td>\n",
              "      <td>718</td>\n",
              "      <td>468225</td>\n",
              "      <td>3364</td>\n",
              "      <td>491</td>\n",
              "      <td>277</td>\n",
              "      <td>12415966</td>\n",
              "      <td>1800426</td>\n",
              "      <td>1624808</td>\n",
              "      <td>8990732</td>\n",
              "      <td>11273</td>\n",
              "      <td>149506790</td>\n",
              "      <td>118.0</td>\n",
              "      <td>6406200</td>\n",
              "      <td>-6894400</td>\n",
              "      <td>58059</td>\n",
              "      <td>627</td>\n",
              "      <td>320091</td>\n",
              "      <td>343900.05</td>\n",
              "      <td>138729906</td>\n",
              "      <td>5961346</td>\n",
              "      <td>586003</td>\n",
              "    </tr>\n",
              "    <tr>\n",
              "      <th>2</th>\n",
              "      <td>2015-01-03</td>\n",
              "      <td>99</td>\n",
              "      <td>944</td>\n",
              "      <td>566385</td>\n",
              "      <td>4113</td>\n",
              "      <td>587</td>\n",
              "      <td>383</td>\n",
              "      <td>18642314</td>\n",
              "      <td>2611026</td>\n",
              "      <td>2486746</td>\n",
              "      <td>13616678</td>\n",
              "      <td>14496</td>\n",
              "      <td>182424410</td>\n",
              "      <td>164.0</td>\n",
              "      <td>8400200</td>\n",
              "      <td>-7845200</td>\n",
              "      <td>79934</td>\n",
              "      <td>712</td>\n",
              "      <td>430294</td>\n",
              "      <td>443459.76</td>\n",
              "      <td>299371412</td>\n",
              "      <td>7375562</td>\n",
              "      <td>723910</td>\n",
              "    </tr>\n",
              "    <tr>\n",
              "      <th>3</th>\n",
              "      <td>2015-01-04</td>\n",
              "      <td>69</td>\n",
              "      <td>839</td>\n",
              "      <td>522593</td>\n",
              "      <td>3808</td>\n",
              "      <td>568</td>\n",
              "      <td>338</td>\n",
              "      <td>16910343</td>\n",
              "      <td>2423591</td>\n",
              "      <td>2436181</td>\n",
              "      <td>12050571</td>\n",
              "      <td>13969</td>\n",
              "      <td>170125022</td>\n",
              "      <td>185.0</td>\n",
              "      <td>7749900</td>\n",
              "      <td>-6868100</td>\n",
              "      <td>79064</td>\n",
              "      <td>688</td>\n",
              "      <td>392015</td>\n",
              "      <td>426342.77</td>\n",
              "      <td>268206123</td>\n",
              "      <td>7002998</td>\n",
              "      <td>679804</td>\n",
              "    </tr>\n",
              "    <tr>\n",
              "      <th>4</th>\n",
              "      <td>2015-01-05</td>\n",
              "      <td>93</td>\n",
              "      <td>984</td>\n",
              "      <td>566345</td>\n",
              "      <td>4257</td>\n",
              "      <td>626</td>\n",
              "      <td>373</td>\n",
              "      <td>19583778</td>\n",
              "      <td>2757789</td>\n",
              "      <td>2908446</td>\n",
              "      <td>13996622</td>\n",
              "      <td>14752</td>\n",
              "      <td>184914003</td>\n",
              "      <td>170.0</td>\n",
              "      <td>10440600</td>\n",
              "      <td>-7748300</td>\n",
              "      <td>80657</td>\n",
              "      <td>767</td>\n",
              "      <td>459917</td>\n",
              "      <td>450291.90</td>\n",
              "      <td>343192138</td>\n",
              "      <td>7298081</td>\n",
              "      <td>737821</td>\n",
              "    </tr>\n",
              "    <tr>\n",
              "      <th>...</th>\n",
              "      <td>...</td>\n",
              "      <td>...</td>\n",
              "      <td>...</td>\n",
              "      <td>...</td>\n",
              "      <td>...</td>\n",
              "      <td>...</td>\n",
              "      <td>...</td>\n",
              "      <td>...</td>\n",
              "      <td>...</td>\n",
              "      <td>...</td>\n",
              "      <td>...</td>\n",
              "      <td>...</td>\n",
              "      <td>...</td>\n",
              "      <td>...</td>\n",
              "      <td>...</td>\n",
              "      <td>...</td>\n",
              "      <td>...</td>\n",
              "      <td>...</td>\n",
              "      <td>...</td>\n",
              "      <td>...</td>\n",
              "      <td>...</td>\n",
              "      <td>...</td>\n",
              "      <td>...</td>\n",
              "    </tr>\n",
              "    <tr>\n",
              "      <th>67</th>\n",
              "      <td>2015-03-09</td>\n",
              "      <td>0</td>\n",
              "      <td>6</td>\n",
              "      <td>2809</td>\n",
              "      <td>18</td>\n",
              "      <td>7</td>\n",
              "      <td>2</td>\n",
              "      <td>88673</td>\n",
              "      <td>10197</td>\n",
              "      <td>8104</td>\n",
              "      <td>70372</td>\n",
              "      <td>100</td>\n",
              "      <td>879003</td>\n",
              "      <td>1.0</td>\n",
              "      <td>124000</td>\n",
              "      <td>-123300</td>\n",
              "      <td>657</td>\n",
              "      <td>6</td>\n",
              "      <td>1748</td>\n",
              "      <td>2072.09</td>\n",
              "      <td>0</td>\n",
              "      <td>51116</td>\n",
              "      <td>3997</td>\n",
              "    </tr>\n",
              "    <tr>\n",
              "      <th>68</th>\n",
              "      <td>2015-03-10</td>\n",
              "      <td>1</td>\n",
              "      <td>4</td>\n",
              "      <td>1746</td>\n",
              "      <td>22</td>\n",
              "      <td>3</td>\n",
              "      <td>2</td>\n",
              "      <td>63019</td>\n",
              "      <td>10760</td>\n",
              "      <td>5380</td>\n",
              "      <td>46879</td>\n",
              "      <td>37</td>\n",
              "      <td>474771</td>\n",
              "      <td>1.0</td>\n",
              "      <td>0</td>\n",
              "      <td>-60300</td>\n",
              "      <td>186</td>\n",
              "      <td>3</td>\n",
              "      <td>1505</td>\n",
              "      <td>1231.37</td>\n",
              "      <td>0</td>\n",
              "      <td>39280</td>\n",
              "      <td>1999</td>\n",
              "    </tr>\n",
              "    <tr>\n",
              "      <th>69</th>\n",
              "      <td>2015-03-11</td>\n",
              "      <td>1</td>\n",
              "      <td>9</td>\n",
              "      <td>4428</td>\n",
              "      <td>51</td>\n",
              "      <td>7</td>\n",
              "      <td>4</td>\n",
              "      <td>169136</td>\n",
              "      <td>24704</td>\n",
              "      <td>20305</td>\n",
              "      <td>124127</td>\n",
              "      <td>113</td>\n",
              "      <td>1425336</td>\n",
              "      <td>3.0</td>\n",
              "      <td>103100</td>\n",
              "      <td>-57000</td>\n",
              "      <td>570</td>\n",
              "      <td>6</td>\n",
              "      <td>4835</td>\n",
              "      <td>3856.85</td>\n",
              "      <td>0</td>\n",
              "      <td>55029</td>\n",
              "      <td>6012</td>\n",
              "    </tr>\n",
              "    <tr>\n",
              "      <th>70</th>\n",
              "      <td>2015-03-12</td>\n",
              "      <td>1</td>\n",
              "      <td>4</td>\n",
              "      <td>1563</td>\n",
              "      <td>22</td>\n",
              "      <td>3</td>\n",
              "      <td>2</td>\n",
              "      <td>61476</td>\n",
              "      <td>10572</td>\n",
              "      <td>5286</td>\n",
              "      <td>45618</td>\n",
              "      <td>36</td>\n",
              "      <td>477373</td>\n",
              "      <td>1.0</td>\n",
              "      <td>0</td>\n",
              "      <td>0</td>\n",
              "      <td>186</td>\n",
              "      <td>3</td>\n",
              "      <td>1372</td>\n",
              "      <td>1234.81</td>\n",
              "      <td>0</td>\n",
              "      <td>12125</td>\n",
              "      <td>1999</td>\n",
              "    </tr>\n",
              "    <tr>\n",
              "      <th>71</th>\n",
              "      <td>2015-03-14</td>\n",
              "      <td>0</td>\n",
              "      <td>2</td>\n",
              "      <td>1032</td>\n",
              "      <td>14</td>\n",
              "      <td>2</td>\n",
              "      <td>1</td>\n",
              "      <td>38302</td>\n",
              "      <td>6690</td>\n",
              "      <td>4256</td>\n",
              "      <td>27356</td>\n",
              "      <td>44</td>\n",
              "      <td>457875</td>\n",
              "      <td>1.0</td>\n",
              "      <td>0</td>\n",
              "      <td>0</td>\n",
              "      <td>238</td>\n",
              "      <td>1</td>\n",
              "      <td>1490</td>\n",
              "      <td>1257.04</td>\n",
              "      <td>0</td>\n",
              "      <td>17210</td>\n",
              "      <td>2008</td>\n",
              "    </tr>\n",
              "  </tbody>\n",
              "</table>\n",
              "<p>72 rows × 23 columns</p>\n",
              "</div>\n",
              "      <button class=\"colab-df-convert\" onclick=\"convertToInteractive('df-ca2c67a1-fc5e-4e8f-914d-109264f9f890')\"\n",
              "              title=\"Convert this dataframe to an interactive table.\"\n",
              "              style=\"display:none;\">\n",
              "        \n",
              "  <svg xmlns=\"http://www.w3.org/2000/svg\" height=\"24px\"viewBox=\"0 0 24 24\"\n",
              "       width=\"24px\">\n",
              "    <path d=\"M0 0h24v24H0V0z\" fill=\"none\"/>\n",
              "    <path d=\"M18.56 5.44l.94 2.06.94-2.06 2.06-.94-2.06-.94-.94-2.06-.94 2.06-2.06.94zm-11 1L8.5 8.5l.94-2.06 2.06-.94-2.06-.94L8.5 2.5l-.94 2.06-2.06.94zm10 10l.94 2.06.94-2.06 2.06-.94-2.06-.94-.94-2.06-.94 2.06-2.06.94z\"/><path d=\"M17.41 7.96l-1.37-1.37c-.4-.4-.92-.59-1.43-.59-.52 0-1.04.2-1.43.59L10.3 9.45l-7.72 7.72c-.78.78-.78 2.05 0 2.83L4 21.41c.39.39.9.59 1.41.59.51 0 1.02-.2 1.41-.59l7.78-7.78 2.81-2.81c.8-.78.8-2.07 0-2.86zM5.41 20L4 18.59l7.72-7.72 1.47 1.35L5.41 20z\"/>\n",
              "  </svg>\n",
              "      </button>\n",
              "      \n",
              "  <style>\n",
              "    .colab-df-container {\n",
              "      display:flex;\n",
              "      flex-wrap:wrap;\n",
              "      gap: 12px;\n",
              "    }\n",
              "\n",
              "    .colab-df-convert {\n",
              "      background-color: #E8F0FE;\n",
              "      border: none;\n",
              "      border-radius: 50%;\n",
              "      cursor: pointer;\n",
              "      display: none;\n",
              "      fill: #1967D2;\n",
              "      height: 32px;\n",
              "      padding: 0 0 0 0;\n",
              "      width: 32px;\n",
              "    }\n",
              "\n",
              "    .colab-df-convert:hover {\n",
              "      background-color: #E2EBFA;\n",
              "      box-shadow: 0px 1px 2px rgba(60, 64, 67, 0.3), 0px 1px 3px 1px rgba(60, 64, 67, 0.15);\n",
              "      fill: #174EA6;\n",
              "    }\n",
              "\n",
              "    [theme=dark] .colab-df-convert {\n",
              "      background-color: #3B4455;\n",
              "      fill: #D2E3FC;\n",
              "    }\n",
              "\n",
              "    [theme=dark] .colab-df-convert:hover {\n",
              "      background-color: #434B5C;\n",
              "      box-shadow: 0px 1px 3px 1px rgba(0, 0, 0, 0.15);\n",
              "      filter: drop-shadow(0px 1px 2px rgba(0, 0, 0, 0.3));\n",
              "      fill: #FFFFFF;\n",
              "    }\n",
              "  </style>\n",
              "\n",
              "      <script>\n",
              "        const buttonEl =\n",
              "          document.querySelector('#df-ca2c67a1-fc5e-4e8f-914d-109264f9f890 button.colab-df-convert');\n",
              "        buttonEl.style.display =\n",
              "          google.colab.kernel.accessAllowed ? 'block' : 'none';\n",
              "\n",
              "        async function convertToInteractive(key) {\n",
              "          const element = document.querySelector('#df-ca2c67a1-fc5e-4e8f-914d-109264f9f890');\n",
              "          const dataTable =\n",
              "            await google.colab.kernel.invokeFunction('convertToInteractive',\n",
              "                                                     [key], {});\n",
              "          if (!dataTable) return;\n",
              "\n",
              "          const docLinkHtml = 'Like what you see? Visit the ' +\n",
              "            '<a target=\"_blank\" href=https://colab.research.google.com/notebooks/data_table.ipynb>data table notebook</a>'\n",
              "            + ' to learn more about interactive tables.';\n",
              "          element.innerHTML = '';\n",
              "          dataTable['output_type'] = 'display_data';\n",
              "          await google.colab.output.renderOutput(dataTable, element);\n",
              "          const docLink = document.createElement('div');\n",
              "          docLink.innerHTML = docLinkHtml;\n",
              "          element.appendChild(docLink);\n",
              "        }\n",
              "      </script>\n",
              "    </div>\n",
              "  </div>\n",
              "  "
            ]
          },
          "metadata": {},
          "execution_count": 38
        }
      ]
    },
    {
      "cell_type": "code",
      "source": [
        "# daily trend of Reported Fraud\n",
        "plt.rcParams[\"figure.figsize\"] = (10,8)\n",
        "ax = train_daily_groupby.plot(x=\"DateOfIncident\", y=\"ReportedFraud\", label='Reported Fraud', legend=False)\n",
        "ax2 = ax.twinx()\n",
        "train_daily_groupby.plot(x=\"DateOfIncident\", y=\"SeverityOfIncident\", ax=ax2, label='Severity Of Incident', legend=False, color=\"r\")\n",
        "ax.figure.legend(loc='best')\n",
        "ax.set_ylabel('number of Reported Fraud')\n",
        "ax2.set_ylabel('sum of Severity Of Incident')\n",
        "plt.title('Reported Fraud VS Severity Of Incident (daily)')\n",
        "plt.show()"
      ],
      "metadata": {
        "colab": {
          "base_uri": "https://localhost:8080/",
          "height": 602
        },
        "id": "4gMOLBCWxMvW",
        "outputId": "cfe9989b-9065-400f-d248-418945955034"
      },
      "execution_count": null,
      "outputs": [
        {
          "output_type": "stream",
          "name": "stderr",
          "text": [
            "<ipython-input-41-3f4d1397193a>:6: MatplotlibDeprecationWarning: Automatic legend placement (loc='best') not implemented for figure legend. Falling back on 'upper right'. This will raise an exception in 3.3.\n",
            "  ax.figure.legend(loc='best')\n"
          ]
        },
        {
          "output_type": "display_data",
          "data": {
            "text/plain": [
              "<Figure size 720x576 with 2 Axes>"
            ],
            "image/png": "[encoded data removed]"
          },
          "metadata": {
            "needs_background": "light"
          }
        }
      ]
    },
    {
      "cell_type": "markdown",
      "source": [
        "The trend of Reported Fraud and the trend of Severity Of Incident are correlated with each other. We will then check the correlation among all the trends."
      ],
      "metadata": {
        "id": "2flaoWecaQeC"
      }
    },
    {
      "cell_type": "code",
      "source": [
        "plt.figure(figsize=(10, 8))\n",
        "sns.heatmap(train_daily_groupby.corr(),cmap='RdBu', vmin=-1, vmax=1)"
      ],
      "metadata": {
        "id": "D6jakvJ1yXTZ",
        "colab": {
          "base_uri": "https://localhost:8080/",
          "height": 623
        },
        "outputId": "ad4e6346-3052-432b-f004-b8fc90ce68fc"
      },
      "execution_count": null,
      "outputs": [
        {
          "output_type": "execute_result",
          "data": {
            "text/plain": [
              "<matplotlib.axes._subplots.AxesSubplot at 0x7ff4ca687640>"
            ]
          },
          "metadata": {},
          "execution_count": 42
        },
        {
          "output_type": "display_data",
          "data": {
            "text/plain": [
              "<Figure size 720x576 with 2 Axes>"
            ],
            "image/png": "[encoded data removed]"
          },
          "metadata": {
            "needs_background": "light"
          }
        }
      ]
    },
    {
      "cell_type": "markdown",
      "source": [
        "The heatmap are covered with dark red and dark blue, which indicates the trend are of high similarities. In other words, we can use those features to detect the insurance fraud."
      ],
      "metadata": {
        "id": "hENscJU_ahft"
      }
    },
    {
      "cell_type": "markdown",
      "source": [
        "We continue to check the weekly trend."
      ],
      "metadata": {
        "id": "JzC_JtS8lRI_"
      }
    },
    {
      "cell_type": "code",
      "source": [
        "# Do the similar thing above but change daily into weekly\n",
        "train_weekly_groupby = df.groupby([pd.Grouper(key='DateOfIncident', freq='W-MON')]).sum().reset_index()\n",
        "train_weekly_groupby"
      ],
      "metadata": {
        "colab": {
          "base_uri": "https://localhost:8080/",
          "height": 458
        },
        "id": "B1zUDyPcq6dY",
        "outputId": "f8ab12a7-23f4-4df9-e816-22439ed7d445"
      },
      "execution_count": null,
      "outputs": [
        {
          "output_type": "execute_result",
          "data": {
            "text/plain": [
              "   DateOfIncident  ReportedFraud  SeverityOfIncident  IncidentAddress  \\\n",
              "0      2015-01-05            383                3797          2346565   \n",
              "1      2015-01-12           1187               11531          6246631   \n",
              "2      2015-01-19           1239               11710          6706176   \n",
              "3      2015-01-26            963                9417          5501314   \n",
              "4      2015-02-02            633                5491          3168191   \n",
              "5      2015-02-09           1115                9842          5441680   \n",
              "6      2015-02-16            989               10555          5713718   \n",
              "7      2015-02-23            856               11178          6292330   \n",
              "8      2015-03-02            406                5487          3154203   \n",
              "9      2015-03-09             11                 205           106373   \n",
              "10     2015-03-16              3                  19             8769   \n",
              "\n",
              "    IncidentTime  NumberOfVehicles  BodilyInjuries  AmountOfTotalClaim  \\\n",
              "0          16959              2502            1493            73128049   \n",
              "1          50157              7365            4246           228217528   \n",
              "2          51384              7793            4083           222395358   \n",
              "3          39411              5974            3681           183567385   \n",
              "4          24213              3910            1727           102858208   \n",
              "5          41372              6459            3705           185981758   \n",
              "6          44518              7258            3626           203019548   \n",
              "7          45981              7558            3890           206255403   \n",
              "8          23722              3528            1893            95960540   \n",
              "9            883               212              73             4038080   \n",
              "10           109                15               9              331933   \n",
              "\n",
              "    AmountOfInjuryClaim  AmountOfPropertyClaim  AmountOfVehicleDamage  \\\n",
              "0              10372138               10293844               52613282   \n",
              "1              31323729               32919924              164589894   \n",
              "2              31562854               31204534              160089633   \n",
              "3              25953977               27608511              130211820   \n",
              "4              14381092               14856377               73896643   \n",
              "5              26273294               25300539              134469335   \n",
              "6              27229063               27326445              148717008   \n",
              "7              30474310               26810636              149449498   \n",
              "8              13363862               13097989               69596647   \n",
              "9                586102                 583655                2868323   \n",
              "10                52726                  35227                 243980   \n",
              "\n",
              "    InsuredAge  InsuredZipCode  InsuredGender  CapitalGains  CapitalLoss  \\\n",
              "0        59872       756286192          700.0      36425400    -32803800   \n",
              "1       161659      2050239146         2258.0      97733700   -100306600   \n",
              "2       167131      2145498906         2358.0      98884700   -112332700   \n",
              "3       132797      1753070810         1893.0      77410400    -91024300   \n",
              "4        79937      1017029698         1156.0      45393700    -53404700   \n",
              "5       137236      1795126102         1949.0      78491900    -90060400   \n",
              "6       145266      1889002130         2017.0      88282800    -90321700   \n",
              "7       154975      2035664568         2196.0      88023600   -100251100   \n",
              "8        77311      1009980713         1063.0      52328000    -47128200   \n",
              "9         2866        33527574           48.0       2070300     -1436700   \n",
              "10         230         2835355            6.0        103100      -117300   \n",
              "\n",
              "    CustomerLoyaltyPeriod  InsurancePolicyState  Policy_Deductible  \\\n",
              "0                  324788                  3065            1752733   \n",
              "1                  874258                  8219            4719222   \n",
              "2                  890884                  8756            4910126   \n",
              "3                  681462                  6743            3717664   \n",
              "4                  423989                  3826            2294150   \n",
              "5                  703996                  7088            3994667   \n",
              "6                  747427                  7581            4082482   \n",
              "7                  797271                  8321            4420323   \n",
              "8                  395521                  4348            2152253   \n",
              "9                   14889                   142              78629   \n",
              "10                   1180                    13               9202   \n",
              "\n",
              "    PolicyAnnualPremium  UmbrellaLimit  VehicleID  VehicleYOM  \n",
              "0            1830593.07     1137789252   30414389     3006548  \n",
              "1            5134052.21     5002284067   84422412     8178185  \n",
              "2            5423996.09     4035459952   88367381     8525917  \n",
              "3            4399780.26     2836536003   72036557     6967012  \n",
              "4            2541183.25     1954460951   41375745     4076731  \n",
              "5            4525046.43     3243112337   74453180     7215050  \n",
              "6            4648920.89     3769491428   77425392     7529274  \n",
              "7            5125329.21     4413444240   84348938     8125729  \n",
              "8            2481847.97     1957655889   41188143     4036284  \n",
              "9              86086.98       14817322    1341480      146117  \n",
              "10              7580.07              0     123644       12018  "
            ],
            "text/html": [
              "\n",
              "  <div id=\"df-d4ba4747-3e45-4fc8-8b51-610b4a677e88\">\n",
              "    <div class=\"colab-df-container\">\n",
              "      <div>\n",
              "<style scoped>\n",
              "    .dataframe tbody tr th:only-of-type {\n",
              "        vertical-align: middle;\n",
              "    }\n",
              "\n",
              "    .dataframe tbody tr th {\n",
              "        vertical-align: top;\n",
              "    }\n",
              "\n",
              "    .dataframe thead th {\n",
              "        text-align: right;\n",
              "    }\n",
              "</style>\n",
              "<table border=\"1\" class=\"dataframe\">\n",
              "  <thead>\n",
              "    <tr style=\"text-align: right;\">\n",
              "      <th></th>\n",
              "      <th>DateOfIncident</th>\n",
              "      <th>ReportedFraud</th>\n",
              "      <th>SeverityOfIncident</th>\n",
              "      <th>IncidentAddress</th>\n",
              "      <th>IncidentTime</th>\n",
              "      <th>NumberOfVehicles</th>\n",
              "      <th>BodilyInjuries</th>\n",
              "      <th>AmountOfTotalClaim</th>\n",
              "      <th>AmountOfInjuryClaim</th>\n",
              "      <th>AmountOfPropertyClaim</th>\n",
              "      <th>AmountOfVehicleDamage</th>\n",
              "      <th>InsuredAge</th>\n",
              "      <th>InsuredZipCode</th>\n",
              "      <th>InsuredGender</th>\n",
              "      <th>CapitalGains</th>\n",
              "      <th>CapitalLoss</th>\n",
              "      <th>CustomerLoyaltyPeriod</th>\n",
              "      <th>InsurancePolicyState</th>\n",
              "      <th>Policy_Deductible</th>\n",
              "      <th>PolicyAnnualPremium</th>\n",
              "      <th>UmbrellaLimit</th>\n",
              "      <th>VehicleID</th>\n",
              "      <th>VehicleYOM</th>\n",
              "    </tr>\n",
              "  </thead>\n",
              "  <tbody>\n",
              "    <tr>\n",
              "      <th>0</th>\n",
              "      <td>2015-01-05</td>\n",
              "      <td>383</td>\n",
              "      <td>3797</td>\n",
              "      <td>2346565</td>\n",
              "      <td>16959</td>\n",
              "      <td>2502</td>\n",
              "      <td>1493</td>\n",
              "      <td>73128049</td>\n",
              "      <td>10372138</td>\n",
              "      <td>10293844</td>\n",
              "      <td>52613282</td>\n",
              "      <td>59872</td>\n",
              "      <td>756286192</td>\n",
              "      <td>700.0</td>\n",
              "      <td>36425400</td>\n",
              "      <td>-32803800</td>\n",
              "      <td>324788</td>\n",
              "      <td>3065</td>\n",
              "      <td>1752733</td>\n",
              "      <td>1830593.07</td>\n",
              "      <td>1137789252</td>\n",
              "      <td>30414389</td>\n",
              "      <td>3006548</td>\n",
              "    </tr>\n",
              "    <tr>\n",
              "      <th>1</th>\n",
              "      <td>2015-01-12</td>\n",
              "      <td>1187</td>\n",
              "      <td>11531</td>\n",
              "      <td>6246631</td>\n",
              "      <td>50157</td>\n",
              "      <td>7365</td>\n",
              "      <td>4246</td>\n",
              "      <td>228217528</td>\n",
              "      <td>31323729</td>\n",
              "      <td>32919924</td>\n",
              "      <td>164589894</td>\n",
              "      <td>161659</td>\n",
              "      <td>2050239146</td>\n",
              "      <td>2258.0</td>\n",
              "      <td>97733700</td>\n",
              "      <td>-100306600</td>\n",
              "      <td>874258</td>\n",
              "      <td>8219</td>\n",
              "      <td>4719222</td>\n",
              "      <td>5134052.21</td>\n",
              "      <td>5002284067</td>\n",
              "      <td>84422412</td>\n",
              "      <td>8178185</td>\n",
              "    </tr>\n",
              "    <tr>\n",
              "      <th>2</th>\n",
              "      <td>2015-01-19</td>\n",
              "      <td>1239</td>\n",
              "      <td>11710</td>\n",
              "      <td>6706176</td>\n",
              "      <td>51384</td>\n",
              "      <td>7793</td>\n",
              "      <td>4083</td>\n",
              "      <td>222395358</td>\n",
              "      <td>31562854</td>\n",
              "      <td>31204534</td>\n",
              "      <td>160089633</td>\n",
              "      <td>167131</td>\n",
              "      <td>2145498906</td>\n",
              "      <td>2358.0</td>\n",
              "      <td>98884700</td>\n",
              "      <td>-112332700</td>\n",
              "      <td>890884</td>\n",
              "      <td>8756</td>\n",
              "      <td>4910126</td>\n",
              "      <td>5423996.09</td>\n",
              "      <td>4035459952</td>\n",
              "      <td>88367381</td>\n",
              "      <td>8525917</td>\n",
              "    </tr>\n",
              "    <tr>\n",
              "      <th>3</th>\n",
              "      <td>2015-01-26</td>\n",
              "      <td>963</td>\n",
              "      <td>9417</td>\n",
              "      <td>5501314</td>\n",
              "      <td>39411</td>\n",
              "      <td>5974</td>\n",
              "      <td>3681</td>\n",
              "      <td>183567385</td>\n",
              "      <td>25953977</td>\n",
              "      <td>27608511</td>\n",
              "      <td>130211820</td>\n",
              "      <td>132797</td>\n",
              "      <td>1753070810</td>\n",
              "      <td>1893.0</td>\n",
              "      <td>77410400</td>\n",
              "      <td>-91024300</td>\n",
              "      <td>681462</td>\n",
              "      <td>6743</td>\n",
              "      <td>3717664</td>\n",
              "      <td>4399780.26</td>\n",
              "      <td>2836536003</td>\n",
              "      <td>72036557</td>\n",
              "      <td>6967012</td>\n",
              "    </tr>\n",
              "    <tr>\n",
              "      <th>4</th>\n",
              "      <td>2015-02-02</td>\n",
              "      <td>633</td>\n",
              "      <td>5491</td>\n",
              "      <td>3168191</td>\n",
              "      <td>24213</td>\n",
              "      <td>3910</td>\n",
              "      <td>1727</td>\n",
              "      <td>102858208</td>\n",
              "      <td>14381092</td>\n",
              "      <td>14856377</td>\n",
              "      <td>73896643</td>\n",
              "      <td>79937</td>\n",
              "      <td>1017029698</td>\n",
              "      <td>1156.0</td>\n",
              "      <td>45393700</td>\n",
              "      <td>-53404700</td>\n",
              "      <td>423989</td>\n",
              "      <td>3826</td>\n",
              "      <td>2294150</td>\n",
              "      <td>2541183.25</td>\n",
              "      <td>1954460951</td>\n",
              "      <td>41375745</td>\n",
              "      <td>4076731</td>\n",
              "    </tr>\n",
              "    <tr>\n",
              "      <th>5</th>\n",
              "      <td>2015-02-09</td>\n",
              "      <td>1115</td>\n",
              "      <td>9842</td>\n",
              "      <td>5441680</td>\n",
              "      <td>41372</td>\n",
              "      <td>6459</td>\n",
              "      <td>3705</td>\n",
              "      <td>185981758</td>\n",
              "      <td>26273294</td>\n",
              "      <td>25300539</td>\n",
              "      <td>134469335</td>\n",
              "      <td>137236</td>\n",
              "      <td>1795126102</td>\n",
              "      <td>1949.0</td>\n",
              "      <td>78491900</td>\n",
              "      <td>-90060400</td>\n",
              "      <td>703996</td>\n",
              "      <td>7088</td>\n",
              "      <td>3994667</td>\n",
              "      <td>4525046.43</td>\n",
              "      <td>3243112337</td>\n",
              "      <td>74453180</td>\n",
              "      <td>7215050</td>\n",
              "    </tr>\n",
              "    <tr>\n",
              "      <th>6</th>\n",
              "      <td>2015-02-16</td>\n",
              "      <td>989</td>\n",
              "      <td>10555</td>\n",
              "      <td>5713718</td>\n",
              "      <td>44518</td>\n",
              "      <td>7258</td>\n",
              "      <td>3626</td>\n",
              "      <td>203019548</td>\n",
              "      <td>27229063</td>\n",
              "      <td>27326445</td>\n",
              "      <td>148717008</td>\n",
              "      <td>145266</td>\n",
              "      <td>1889002130</td>\n",
              "      <td>2017.0</td>\n",
              "      <td>88282800</td>\n",
              "      <td>-90321700</td>\n",
              "      <td>747427</td>\n",
              "      <td>7581</td>\n",
              "      <td>4082482</td>\n",
              "      <td>4648920.89</td>\n",
              "      <td>3769491428</td>\n",
              "      <td>77425392</td>\n",
              "      <td>7529274</td>\n",
              "    </tr>\n",
              "    <tr>\n",
              "      <th>7</th>\n",
              "      <td>2015-02-23</td>\n",
              "      <td>856</td>\n",
              "      <td>11178</td>\n",
              "      <td>6292330</td>\n",
              "      <td>45981</td>\n",
              "      <td>7558</td>\n",
              "      <td>3890</td>\n",
              "      <td>206255403</td>\n",
              "      <td>30474310</td>\n",
              "      <td>26810636</td>\n",
              "      <td>149449498</td>\n",
              "      <td>154975</td>\n",
              "      <td>2035664568</td>\n",
              "      <td>2196.0</td>\n",
              "      <td>88023600</td>\n",
              "      <td>-100251100</td>\n",
              "      <td>797271</td>\n",
              "      <td>8321</td>\n",
              "      <td>4420323</td>\n",
              "      <td>5125329.21</td>\n",
              "      <td>4413444240</td>\n",
              "      <td>84348938</td>\n",
              "      <td>8125729</td>\n",
              "    </tr>\n",
              "    <tr>\n",
              "      <th>8</th>\n",
              "      <td>2015-03-02</td>\n",
              "      <td>406</td>\n",
              "      <td>5487</td>\n",
              "      <td>3154203</td>\n",
              "      <td>23722</td>\n",
              "      <td>3528</td>\n",
              "      <td>1893</td>\n",
              "      <td>95960540</td>\n",
              "      <td>13363862</td>\n",
              "      <td>13097989</td>\n",
              "      <td>69596647</td>\n",
              "      <td>77311</td>\n",
              "      <td>1009980713</td>\n",
              "      <td>1063.0</td>\n",
              "      <td>52328000</td>\n",
              "      <td>-47128200</td>\n",
              "      <td>395521</td>\n",
              "      <td>4348</td>\n",
              "      <td>2152253</td>\n",
              "      <td>2481847.97</td>\n",
              "      <td>1957655889</td>\n",
              "      <td>41188143</td>\n",
              "      <td>4036284</td>\n",
              "    </tr>\n",
              "    <tr>\n",
              "      <th>9</th>\n",
              "      <td>2015-03-09</td>\n",
              "      <td>11</td>\n",
              "      <td>205</td>\n",
              "      <td>106373</td>\n",
              "      <td>883</td>\n",
              "      <td>212</td>\n",
              "      <td>73</td>\n",
              "      <td>4038080</td>\n",
              "      <td>586102</td>\n",
              "      <td>583655</td>\n",
              "      <td>2868323</td>\n",
              "      <td>2866</td>\n",
              "      <td>33527574</td>\n",
              "      <td>48.0</td>\n",
              "      <td>2070300</td>\n",
              "      <td>-1436700</td>\n",
              "      <td>14889</td>\n",
              "      <td>142</td>\n",
              "      <td>78629</td>\n",
              "      <td>86086.98</td>\n",
              "      <td>14817322</td>\n",
              "      <td>1341480</td>\n",
              "      <td>146117</td>\n",
              "    </tr>\n",
              "    <tr>\n",
              "      <th>10</th>\n",
              "      <td>2015-03-16</td>\n",
              "      <td>3</td>\n",
              "      <td>19</td>\n",
              "      <td>8769</td>\n",
              "      <td>109</td>\n",
              "      <td>15</td>\n",
              "      <td>9</td>\n",
              "      <td>331933</td>\n",
              "      <td>52726</td>\n",
              "      <td>35227</td>\n",
              "      <td>243980</td>\n",
              "      <td>230</td>\n",
              "      <td>2835355</td>\n",
              "      <td>6.0</td>\n",
              "      <td>103100</td>\n",
              "      <td>-117300</td>\n",
              "      <td>1180</td>\n",
              "      <td>13</td>\n",
              "      <td>9202</td>\n",
              "      <td>7580.07</td>\n",
              "      <td>0</td>\n",
              "      <td>123644</td>\n",
              "      <td>12018</td>\n",
              "    </tr>\n",
              "  </tbody>\n",
              "</table>\n",
              "</div>\n",
              "      <button class=\"colab-df-convert\" onclick=\"convertToInteractive('df-d4ba4747-3e45-4fc8-8b51-610b4a677e88')\"\n",
              "              title=\"Convert this dataframe to an interactive table.\"\n",
              "              style=\"display:none;\">\n",
              "        \n",
              "  <svg xmlns=\"http://www.w3.org/2000/svg\" height=\"24px\"viewBox=\"0 0 24 24\"\n",
              "       width=\"24px\">\n",
              "    <path d=\"M0 0h24v24H0V0z\" fill=\"none\"/>\n",
              "    <path d=\"M18.56 5.44l.94 2.06.94-2.06 2.06-.94-2.06-.94-.94-2.06-.94 2.06-2.06.94zm-11 1L8.5 8.5l.94-2.06 2.06-.94-2.06-.94L8.5 2.5l-.94 2.06-2.06.94zm10 10l.94 2.06.94-2.06 2.06-.94-2.06-.94-.94-2.06-.94 2.06-2.06.94z\"/><path d=\"M17.41 7.96l-1.37-1.37c-.4-.4-.92-.59-1.43-.59-.52 0-1.04.2-1.43.59L10.3 9.45l-7.72 7.72c-.78.78-.78 2.05 0 2.83L4 21.41c.39.39.9.59 1.41.59.51 0 1.02-.2 1.41-.59l7.78-7.78 2.81-2.81c.8-.78.8-2.07 0-2.86zM5.41 20L4 18.59l7.72-7.72 1.47 1.35L5.41 20z\"/>\n",
              "  </svg>\n",
              "      </button>\n",
              "      \n",
              "  <style>\n",
              "    .colab-df-container {\n",
              "      display:flex;\n",
              "      flex-wrap:wrap;\n",
              "      gap: 12px;\n",
              "    }\n",
              "\n",
              "    .colab-df-convert {\n",
              "      background-color: #E8F0FE;\n",
              "      border: none;\n",
              "      border-radius: 50%;\n",
              "      cursor: pointer;\n",
              "      display: none;\n",
              "      fill: #1967D2;\n",
              "      height: 32px;\n",
              "      padding: 0 0 0 0;\n",
              "      width: 32px;\n",
              "    }\n",
              "\n",
              "    .colab-df-convert:hover {\n",
              "      background-color: #E2EBFA;\n",
              "      box-shadow: 0px 1px 2px rgba(60, 64, 67, 0.3), 0px 1px 3px 1px rgba(60, 64, 67, 0.15);\n",
              "      fill: #174EA6;\n",
              "    }\n",
              "\n",
              "    [theme=dark] .colab-df-convert {\n",
              "      background-color: #3B4455;\n",
              "      fill: #D2E3FC;\n",
              "    }\n",
              "\n",
              "    [theme=dark] .colab-df-convert:hover {\n",
              "      background-color: #434B5C;\n",
              "      box-shadow: 0px 1px 3px 1px rgba(0, 0, 0, 0.15);\n",
              "      filter: drop-shadow(0px 1px 2px rgba(0, 0, 0, 0.3));\n",
              "      fill: #FFFFFF;\n",
              "    }\n",
              "  </style>\n",
              "\n",
              "      <script>\n",
              "        const buttonEl =\n",
              "          document.querySelector('#df-d4ba4747-3e45-4fc8-8b51-610b4a677e88 button.colab-df-convert');\n",
              "        buttonEl.style.display =\n",
              "          google.colab.kernel.accessAllowed ? 'block' : 'none';\n",
              "\n",
              "        async function convertToInteractive(key) {\n",
              "          const element = document.querySelector('#df-d4ba4747-3e45-4fc8-8b51-610b4a677e88');\n",
              "          const dataTable =\n",
              "            await google.colab.kernel.invokeFunction('convertToInteractive',\n",
              "                                                     [key], {});\n",
              "          if (!dataTable) return;\n",
              "\n",
              "          const docLinkHtml = 'Like what you see? Visit the ' +\n",
              "            '<a target=\"_blank\" href=https://colab.research.google.com/notebooks/data_table.ipynb>data table notebook</a>'\n",
              "            + ' to learn more about interactive tables.';\n",
              "          element.innerHTML = '';\n",
              "          dataTable['output_type'] = 'display_data';\n",
              "          await google.colab.output.renderOutput(dataTable, element);\n",
              "          const docLink = document.createElement('div');\n",
              "          docLink.innerHTML = docLinkHtml;\n",
              "          element.appendChild(docLink);\n",
              "        }\n",
              "      </script>\n",
              "    </div>\n",
              "  </div>\n",
              "  "
            ]
          },
          "metadata": {},
          "execution_count": 43
        }
      ]
    },
    {
      "cell_type": "code",
      "source": [
        "# weekly trend of Reported Fraud\n",
        "plt.rcParams[\"figure.figsize\"] = (10,8)\n",
        "ax = train_weekly_groupby.plot(x=\"DateOfIncident\", y=\"ReportedFraud\", label='Reported Fraud', legend=False)\n",
        "ax2 = ax.twinx()\n",
        "train_weekly_groupby.plot(x=\"DateOfIncident\", y=\"SeverityOfIncident\", ax=ax2, label='Severity Of Incident', legend=False, color=\"r\")\n",
        "ax.figure.legend(loc='best')\n",
        "ax.set_ylabel('number of Reported Fraud')\n",
        "ax2.set_ylabel('sum of Severity Of Incident')\n",
        "plt.title('Reported Fraud VS Severity Of Incident (weekly)')\n",
        "plt.show()"
      ],
      "metadata": {
        "colab": {
          "base_uri": "https://localhost:8080/",
          "height": 653
        },
        "id": "Imt3wnEowdRn",
        "outputId": "c6ccfeb5-bee3-477c-8b73-0ed2316b10e4"
      },
      "execution_count": null,
      "outputs": [
        {
          "output_type": "stream",
          "name": "stderr",
          "text": [
            "<ipython-input-45-118bf6d10820>:6: MatplotlibDeprecationWarning: Automatic legend placement (loc='best') not implemented for figure legend. Falling back on 'upper right'. This will raise an exception in 3.3.\n",
            "  ax.figure.legend(loc='best')\n"
          ]
        },
        {
          "output_type": "display_data",
          "data": {
            "text/plain": [
              "<Figure size 720x576 with 2 Axes>"
            ],
            "image/png": "[encoded data removed]"
          },
          "metadata": {
            "needs_background": "light"
          }
        }
      ]
    },
    {
      "cell_type": "code",
      "source": [
        "plt.figure(figsize=(10, 8))\n",
        "sns.heatmap(train_weekly_groupby.corr(),cmap='RdBu', vmin=-1, vmax=1)"
      ],
      "metadata": {
        "id": "2yqirKjAyUc1",
        "colab": {
          "base_uri": "https://localhost:8080/",
          "height": 623
        },
        "outputId": "693e19a4-eea9-43aa-f994-acf02d5c81d9"
      },
      "execution_count": null,
      "outputs": [
        {
          "output_type": "execute_result",
          "data": {
            "text/plain": [
              "<matplotlib.axes._subplots.AxesSubplot at 0x7f4d89f39400>"
            ]
          },
          "metadata": {},
          "execution_count": 95
        },
        {
          "output_type": "display_data",
          "data": {
            "text/plain": [
              "<Figure size 720x576 with 2 Axes>"
            ],
            "image/png": "[encoded data removed]"
          },
          "metadata": {
            "needs_background": "light"
          }
        }
      ]
    },
    {
      "cell_type": "markdown",
      "source": [
        "We have similar results with daily trends analysis."
      ],
      "metadata": {
        "id": "xN6eHnTTa7_M"
      }
    },
    {
      "cell_type": "markdown",
      "source": [
        "### Feature Engineering"
      ],
      "metadata": {
        "id": "D6XZx2521pCH"
      }
    },
    {
      "cell_type": "markdown",
      "source": [
        "This is the last step before we fit a model. Now we have a nice dataframe df for all the information, we want to divide them into parts that can be feed directly into the models. First, We split our data feature and label columns. After that, we continue to split them into into train and test sets. We also want to seperate the numerical columns and the categorical columns, because we want to utilize one hot encoding on the latter. "
      ],
      "metadata": {
        "id": "u9inYOhDhtU9"
      }
    },
    {
      "cell_type": "markdown",
      "source": [
        "#### Data grouping"
      ],
      "metadata": {
        "id": "wlKXQfgDTQdL"
      }
    },
    {
      "cell_type": "code",
      "source": [
        "# Split into Features and Label\n",
        "X = df.drop(['ReportedFraud'],axis=1)\n",
        "y = df['ReportedFraud']"
      ],
      "metadata": {
        "id": "ESRYG7xi7QTX"
      },
      "execution_count": null,
      "outputs": []
    },
    {
      "cell_type": "code",
      "source": [
        "# Form train and test dataframes with percentage 30% and 70%\n",
        "from sklearn.model_selection import train_test_split\n",
        "X_train,X_test,y_train,y_test = train_test_split(X,y,test_size=0.30, random_state = 100)\n",
        "print(X_train.shape)\n",
        "print(X_test.shape)\n",
        "print(y_train.shape)\n",
        "print(y_test.shape)"
      ],
      "metadata": {
        "colab": {
          "base_uri": "https://localhost:8080/"
        },
        "id": "P6rlmOvd7dle",
        "outputId": "96db611e-de9d-4b8b-c1fa-1b4e653fc59b"
      },
      "execution_count": null,
      "outputs": [
        {
          "output_type": "stream",
          "name": "stdout",
          "text": [
            "(20185, 37)\n",
            "(8651, 37)\n",
            "(20185,)\n",
            "(8651,)\n"
          ]
        }
      ]
    },
    {
      "cell_type": "code",
      "source": [
        "# Group categorical columns\n",
        "cat_cols = ['TypeOfIncident', 'AuthoritiesContacted', 'InsuredEducationLevel', 'InsuredOccupation', \n",
        "            'Policy_CombinedSingleLimit', 'InsuredRelationship', 'VehicleMake']"
      ],
      "metadata": {
        "id": "lxs6mrJQ550z"
      },
      "execution_count": null,
      "outputs": []
    },
    {
      "cell_type": "code",
      "source": [
        "# Group numerical columns\n",
        "num_cols = ['DateOfIncident', 'InsuredGender', 'InsurancePolicyState','IncidentTime', 'NumberOfVehicles', \n",
        "            'BodilyInjuries', 'IncidentAddress','AmountOfInjuryClaim', 'AmountOfPropertyClaim', 'Witnesses',\n",
        "            'AmountOfVehicleDamage', 'InsuredAge', 'AmountOfTotalClaim', 'SeverityOfIncident',\n",
        "            'InsuredZipCode','CapitalGains', 'CapitalLoss', 'CustomerLoyaltyPeriod',\n",
        "            'DateOfPolicyCoverage','Policy_Deductible', 'PolicyAnnualPremium', 'UmbrellaLimit', 'VehicleID',\n",
        "            'IncidentState', 'IncidentCity', 'VehicleYOM']"
      ],
      "metadata": {
        "id": "cT27pJJj5_da"
      },
      "execution_count": null,
      "outputs": []
    },
    {
      "cell_type": "code",
      "source": [
        "df_cat_train = X_train[cat_cols]\n",
        "df_cat_test = X_test[cat_cols]\n",
        "print(df_cat_train.shape)\n",
        "print(df_cat_test.shape)\n",
        "\n",
        "df_num_train = X_train[num_cols]\n",
        "df_num_test = X_test[num_cols]\n",
        "print(df_num_train.shape)\n",
        "print(df_num_test.shape)"
      ],
      "metadata": {
        "colab": {
          "base_uri": "https://localhost:8080/"
        },
        "id": "dlQyCF9v7o2Z",
        "outputId": "ff67d7a0-77d1-4fed-d2b7-caad6051a84e"
      },
      "execution_count": null,
      "outputs": [
        {
          "output_type": "stream",
          "name": "stdout",
          "text": [
            "(20185, 7)\n",
            "(8651, 7)\n",
            "(20185, 26)\n",
            "(8651, 26)\n"
          ]
        }
      ]
    },
    {
      "cell_type": "code",
      "source": [
        "df_cat_train"
      ],
      "metadata": {
        "colab": {
          "base_uri": "https://localhost:8080/",
          "height": 424
        },
        "id": "Cj5h_d8f-CBk",
        "outputId": "f3c49ee5-dd44-4766-c941-07ac7696a27e"
      },
      "execution_count": null,
      "outputs": [
        {
          "output_type": "execute_result",
          "data": {
            "text/plain": [
              "                 TypeOfIncident AuthoritiesContacted InsuredEducationLevel  \\\n",
              "5161    Multi-vehicle Collision            Ambulance                    JD   \n",
              "4330                 Parked Car               Police                   PhD   \n",
              "14155   Multi-vehicle Collision                 Fire             Associate   \n",
              "12691   Multi-vehicle Collision                 Fire             Associate   \n",
              "12725                Parked Car                 None           High School   \n",
              "...                         ...                  ...                   ...   \n",
              "12119                Parked Car               Police             Associate   \n",
              "24423   Multi-vehicle Collision                 Fire                    JD   \n",
              "14147   Multi-vehicle Collision            Ambulance           High School   \n",
              "23320  Single Vehicle Collision            Ambulance             Associate   \n",
              "5640   Single Vehicle Collision            Ambulance                    MD   \n",
              "\n",
              "       InsuredOccupation Policy_CombinedSingleLimit InsuredRelationship  \\\n",
              "5161   machine-op-inspct                    100/300       not-in-family   \n",
              "4330     exec-managerial                   500/1000       not-in-family   \n",
              "14155    exec-managerial                    250/500             husband   \n",
              "12691    exec-managerial                    100/300      other-relative   \n",
              "12725      other-service                   500/1000             husband   \n",
              "...                  ...                        ...                 ...   \n",
              "12119       armed-forces                    250/500           unmarried   \n",
              "24423     prof-specialty                   500/1000      other-relative   \n",
              "14147     prof-specialty                    100/300             husband   \n",
              "23320     prof-specialty                   500/1000       not-in-family   \n",
              "5640   machine-op-inspct                    500/500                wife   \n",
              "\n",
              "      VehicleMake  \n",
              "5161     Mercedes  \n",
              "4330       Toyota  \n",
              "14155      Accura  \n",
              "12691      Nissan  \n",
              "12725       Honda  \n",
              "...           ...  \n",
              "12119        Saab  \n",
              "24423      Suburu  \n",
              "14147        Saab  \n",
              "23320      Nissan  \n",
              "5640         Saab  \n",
              "\n",
              "[20185 rows x 7 columns]"
            ],
            "text/html": [
              "\n",
              "  <div id=\"df-138d32f6-c10b-4eb9-ae3c-52aadc94c1ae\">\n",
              "    <div class=\"colab-df-container\">\n",
              "      <div>\n",
              "<style scoped>\n",
              "    .dataframe tbody tr th:only-of-type {\n",
              "        vertical-align: middle;\n",
              "    }\n",
              "\n",
              "    .dataframe tbody tr th {\n",
              "        vertical-align: top;\n",
              "    }\n",
              "\n",
              "    .dataframe thead th {\n",
              "        text-align: right;\n",
              "    }\n",
              "</style>\n",
              "<table border=\"1\" class=\"dataframe\">\n",
              "  <thead>\n",
              "    <tr style=\"text-align: right;\">\n",
              "      <th></th>\n",
              "      <th>TypeOfIncident</th>\n",
              "      <th>AuthoritiesContacted</th>\n",
              "      <th>InsuredEducationLevel</th>\n",
              "      <th>InsuredOccupation</th>\n",
              "      <th>Policy_CombinedSingleLimit</th>\n",
              "      <th>InsuredRelationship</th>\n",
              "      <th>VehicleMake</th>\n",
              "    </tr>\n",
              "  </thead>\n",
              "  <tbody>\n",
              "    <tr>\n",
              "      <th>5161</th>\n",
              "      <td>Multi-vehicle Collision</td>\n",
              "      <td>Ambulance</td>\n",
              "      <td>JD</td>\n",
              "      <td>machine-op-inspct</td>\n",
              "      <td>100/300</td>\n",
              "      <td>not-in-family</td>\n",
              "      <td>Mercedes</td>\n",
              "    </tr>\n",
              "    <tr>\n",
              "      <th>4330</th>\n",
              "      <td>Parked Car</td>\n",
              "      <td>Police</td>\n",
              "      <td>PhD</td>\n",
              "      <td>exec-managerial</td>\n",
              "      <td>500/1000</td>\n",
              "      <td>not-in-family</td>\n",
              "      <td>Toyota</td>\n",
              "    </tr>\n",
              "    <tr>\n",
              "      <th>14155</th>\n",
              "      <td>Multi-vehicle Collision</td>\n",
              "      <td>Fire</td>\n",
              "      <td>Associate</td>\n",
              "      <td>exec-managerial</td>\n",
              "      <td>250/500</td>\n",
              "      <td>husband</td>\n",
              "      <td>Accura</td>\n",
              "    </tr>\n",
              "    <tr>\n",
              "      <th>12691</th>\n",
              "      <td>Multi-vehicle Collision</td>\n",
              "      <td>Fire</td>\n",
              "      <td>Associate</td>\n",
              "      <td>exec-managerial</td>\n",
              "      <td>100/300</td>\n",
              "      <td>other-relative</td>\n",
              "      <td>Nissan</td>\n",
              "    </tr>\n",
              "    <tr>\n",
              "      <th>12725</th>\n",
              "      <td>Parked Car</td>\n",
              "      <td>None</td>\n",
              "      <td>High School</td>\n",
              "      <td>other-service</td>\n",
              "      <td>500/1000</td>\n",
              "      <td>husband</td>\n",
              "      <td>Honda</td>\n",
              "    </tr>\n",
              "    <tr>\n",
              "      <th>...</th>\n",
              "      <td>...</td>\n",
              "      <td>...</td>\n",
              "      <td>...</td>\n",
              "      <td>...</td>\n",
              "      <td>...</td>\n",
              "      <td>...</td>\n",
              "      <td>...</td>\n",
              "    </tr>\n",
              "    <tr>\n",
              "      <th>12119</th>\n",
              "      <td>Parked Car</td>\n",
              "      <td>Police</td>\n",
              "      <td>Associate</td>\n",
              "      <td>armed-forces</td>\n",
              "      <td>250/500</td>\n",
              "      <td>unmarried</td>\n",
              "      <td>Saab</td>\n",
              "    </tr>\n",
              "    <tr>\n",
              "      <th>24423</th>\n",
              "      <td>Multi-vehicle Collision</td>\n",
              "      <td>Fire</td>\n",
              "      <td>JD</td>\n",
              "      <td>prof-specialty</td>\n",
              "      <td>500/1000</td>\n",
              "      <td>other-relative</td>\n",
              "      <td>Suburu</td>\n",
              "    </tr>\n",
              "    <tr>\n",
              "      <th>14147</th>\n",
              "      <td>Multi-vehicle Collision</td>\n",
              "      <td>Ambulance</td>\n",
              "      <td>High School</td>\n",
              "      <td>prof-specialty</td>\n",
              "      <td>100/300</td>\n",
              "      <td>husband</td>\n",
              "      <td>Saab</td>\n",
              "    </tr>\n",
              "    <tr>\n",
              "      <th>23320</th>\n",
              "      <td>Single Vehicle Collision</td>\n",
              "      <td>Ambulance</td>\n",
              "      <td>Associate</td>\n",
              "      <td>prof-specialty</td>\n",
              "      <td>500/1000</td>\n",
              "      <td>not-in-family</td>\n",
              "      <td>Nissan</td>\n",
              "    </tr>\n",
              "    <tr>\n",
              "      <th>5640</th>\n",
              "      <td>Single Vehicle Collision</td>\n",
              "      <td>Ambulance</td>\n",
              "      <td>MD</td>\n",
              "      <td>machine-op-inspct</td>\n",
              "      <td>500/500</td>\n",
              "      <td>wife</td>\n",
              "      <td>Saab</td>\n",
              "    </tr>\n",
              "  </tbody>\n",
              "</table>\n",
              "<p>20185 rows × 7 columns</p>\n",
              "</div>\n",
              "      <button class=\"colab-df-convert\" onclick=\"convertToInteractive('df-138d32f6-c10b-4eb9-ae3c-52aadc94c1ae')\"\n",
              "              title=\"Convert this dataframe to an interactive table.\"\n",
              "              style=\"display:none;\">\n",
              "        \n",
              "  <svg xmlns=\"http://www.w3.org/2000/svg\" height=\"24px\"viewBox=\"0 0 24 24\"\n",
              "       width=\"24px\">\n",
              "    <path d=\"M0 0h24v24H0V0z\" fill=\"none\"/>\n",
              "    <path d=\"M18.56 5.44l.94 2.06.94-2.06 2.06-.94-2.06-.94-.94-2.06-.94 2.06-2.06.94zm-11 1L8.5 8.5l.94-2.06 2.06-.94-2.06-.94L8.5 2.5l-.94 2.06-2.06.94zm10 10l.94 2.06.94-2.06 2.06-.94-2.06-.94-.94-2.06-.94 2.06-2.06.94z\"/><path d=\"M17.41 7.96l-1.37-1.37c-.4-.4-.92-.59-1.43-.59-.52 0-1.04.2-1.43.59L10.3 9.45l-7.72 7.72c-.78.78-.78 2.05 0 2.83L4 21.41c.39.39.9.59 1.41.59.51 0 1.02-.2 1.41-.59l7.78-7.78 2.81-2.81c.8-.78.8-2.07 0-2.86zM5.41 20L4 18.59l7.72-7.72 1.47 1.35L5.41 20z\"/>\n",
              "  </svg>\n",
              "      </button>\n",
              "      \n",
              "  <style>\n",
              "    .colab-df-container {\n",
              "      display:flex;\n",
              "      flex-wrap:wrap;\n",
              "      gap: 12px;\n",
              "    }\n",
              "\n",
              "    .colab-df-convert {\n",
              "      background-color: #E8F0FE;\n",
              "      border: none;\n",
              "      border-radius: 50%;\n",
              "      cursor: pointer;\n",
              "      display: none;\n",
              "      fill: #1967D2;\n",
              "      height: 32px;\n",
              "      padding: 0 0 0 0;\n",
              "      width: 32px;\n",
              "    }\n",
              "\n",
              "    .colab-df-convert:hover {\n",
              "      background-color: #E2EBFA;\n",
              "      box-shadow: 0px 1px 2px rgba(60, 64, 67, 0.3), 0px 1px 3px 1px rgba(60, 64, 67, 0.15);\n",
              "      fill: #174EA6;\n",
              "    }\n",
              "\n",
              "    [theme=dark] .colab-df-convert {\n",
              "      background-color: #3B4455;\n",
              "      fill: #D2E3FC;\n",
              "    }\n",
              "\n",
              "    [theme=dark] .colab-df-convert:hover {\n",
              "      background-color: #434B5C;\n",
              "      box-shadow: 0px 1px 3px 1px rgba(0, 0, 0, 0.15);\n",
              "      filter: drop-shadow(0px 1px 2px rgba(0, 0, 0, 0.3));\n",
              "      fill: #FFFFFF;\n",
              "    }\n",
              "  </style>\n",
              "\n",
              "      <script>\n",
              "        const buttonEl =\n",
              "          document.querySelector('#df-138d32f6-c10b-4eb9-ae3c-52aadc94c1ae button.colab-df-convert');\n",
              "        buttonEl.style.display =\n",
              "          google.colab.kernel.accessAllowed ? 'block' : 'none';\n",
              "\n",
              "        async function convertToInteractive(key) {\n",
              "          const element = document.querySelector('#df-138d32f6-c10b-4eb9-ae3c-52aadc94c1ae');\n",
              "          const dataTable =\n",
              "            await google.colab.kernel.invokeFunction('convertToInteractive',\n",
              "                                                     [key], {});\n",
              "          if (!dataTable) return;\n",
              "\n",
              "          const docLinkHtml = 'Like what you see? Visit the ' +\n",
              "            '<a target=\"_blank\" href=https://colab.research.google.com/notebooks/data_table.ipynb>data table notebook</a>'\n",
              "            + ' to learn more about interactive tables.';\n",
              "          element.innerHTML = '';\n",
              "          dataTable['output_type'] = 'display_data';\n",
              "          await google.colab.output.renderOutput(dataTable, element);\n",
              "          const docLink = document.createElement('div');\n",
              "          docLink.innerHTML = docLinkHtml;\n",
              "          element.appendChild(docLink);\n",
              "        }\n",
              "      </script>\n",
              "    </div>\n",
              "  </div>\n",
              "  "
            ]
          },
          "metadata": {},
          "execution_count": 51
        }
      ]
    },
    {
      "cell_type": "markdown",
      "source": [
        "#### OneHotEncoder\n",
        "\n",
        "One hot encoding creates a binary representation of the categorical data, where each category is represented by a binary vector with a length equal to the number of possible categories."
      ],
      "metadata": {
        "id": "NBrUYyqpmmr1"
      }
    },
    {
      "cell_type": "code",
      "source": [
        "# We use OneHotEncoder to process categorical columns\n",
        "from sklearn.preprocessing import OneHotEncoder\n",
        "ohe = OneHotEncoder(handle_unknown='ignore')\n",
        "ohe.fit(df_cat_train)\n",
        "\n",
        "df_cat_train_ohe = ohe.transform(df_cat_train).toarray()\n",
        "df_cat_test_ohe = ohe.transform(df_cat_test).toarray()"
      ],
      "metadata": {
        "id": "3SmdWOz5926N"
      },
      "execution_count": null,
      "outputs": []
    },
    {
      "cell_type": "code",
      "source": [
        "print(df_cat_train_ohe.shape)\n",
        "print(df_cat_test_ohe.shape)"
      ],
      "metadata": {
        "colab": {
          "base_uri": "https://localhost:8080/"
        },
        "id": "Rp1uQosB89r6",
        "outputId": "5c8f464a-2293-4dde-dd41-ccc57a40e093"
      },
      "execution_count": null,
      "outputs": [
        {
          "output_type": "stream",
          "name": "stdout",
          "text": [
            "(20185, 60)\n",
            "(8651, 60)\n"
          ]
        }
      ]
    },
    {
      "cell_type": "markdown",
      "source": [
        "#### Standard scaler\n",
        "\n",
        "Standard scaling is used to transform numeric data by subtracting the mean of the data and dividing by the standard deviation, so that the transformed data has a mean of 0 and a standard deviation of 1. This is useful because many machine learning algorithms use the assumption that the data is normally distributed with a mean of 0 and a standard deviation of 1, and applying standard scaling can help to ensure that the data meets this assumption."
      ],
      "metadata": {
        "id": "A1sBJD_cT89O"
      }
    },
    {
      "cell_type": "code",
      "source": [
        "from sklearn.preprocessing import StandardScaler\n",
        "scaler = StandardScaler()\n",
        "scaler.fit(df_cat_train_ohe)\n",
        "\n",
        "df_num_train_ss = scaler.transform(df_cat_train_ohe)\n",
        "df_num_test_ss = scaler.transform(df_cat_test_ohe)"
      ],
      "metadata": {
        "id": "eU_L0fl29bqO"
      },
      "execution_count": null,
      "outputs": []
    },
    {
      "cell_type": "code",
      "source": [
        "X_train_con = np.concatenate([df_cat_train_ohe, df_num_train_ss], axis=1)\n",
        "X_test_con = np.concatenate([df_cat_test_ohe, df_num_test_ss], axis=1)"
      ],
      "metadata": {
        "id": "pj9HgTvG9hfQ"
      },
      "execution_count": null,
      "outputs": []
    },
    {
      "cell_type": "markdown",
      "source": [
        "#### Fix imbalanced data"
      ],
      "metadata": {
        "id": "ysaRdj_2QnPF"
      }
    },
    {
      "cell_type": "markdown",
      "source": [
        "When analyzing data, we realized the unbalanced distribution of reported frauds and normal incidents. Hence, we conduct random sampling to keep the proportions the same. "
      ],
      "metadata": {
        "id": "iS-z7CZNi1qA"
      }
    },
    {
      "cell_type": "code",
      "source": [
        "sns.countplot(y_train).set(title = 'Distribution of Reported Fraud in y_train')"
      ],
      "metadata": {
        "colab": {
          "base_uri": "https://localhost:8080/",
          "height": 588
        },
        "id": "A2qobjOY1oir",
        "outputId": "76bdc11a-2467-4dfd-bd0c-a85a9b78968d"
      },
      "execution_count": null,
      "outputs": [
        {
          "output_type": "stream",
          "name": "stderr",
          "text": [
            "/usr/local/lib/python3.8/dist-packages/seaborn/_decorators.py:36: FutureWarning: Pass the following variable as a keyword arg: x. From version 0.12, the only valid positional argument will be `data`, and passing other arguments without an explicit keyword will result in an error or misinterpretation.\n",
            "  warnings.warn(\n"
          ]
        },
        {
          "output_type": "execute_result",
          "data": {
            "text/plain": [
              "[Text(0.5, 1.0, 'Distribution of Reported Fraud in y_train')]"
            ]
          },
          "metadata": {},
          "execution_count": 65
        },
        {
          "output_type": "display_data",
          "data": {
            "text/plain": [
              "<Figure size 720x576 with 1 Axes>"
            ],
            "image/png": "[encoded data removed]"
          },
          "metadata": {
            "needs_background": "light"
          }
        }
      ]
    },
    {
      "cell_type": "code",
      "source": [
        "percentage = sum(y_train)/len(y_train)\n",
        "print('data reported fraud count for',percentage,'%')"
      ],
      "metadata": {
        "id": "ualXEFHp1usr",
        "colab": {
          "base_uri": "https://localhost:8080/"
        },
        "outputId": "f47d0323-377a-4cd6-db78-c04f0ad36c07"
      },
      "execution_count": null,
      "outputs": [
        {
          "output_type": "stream",
          "name": "stdout",
          "text": [
            "data reported fraud count for 0.2694079762199653 %\n"
          ]
        }
      ]
    },
    {
      "cell_type": "code",
      "source": [
        "from imblearn.over_sampling import RandomOverSampler\n",
        "ros = RandomOverSampler(random_state=0)\n",
        "X_resampled, y_resampled = ros.fit_resample(X_train_con, y_train)"
      ],
      "metadata": {
        "id": "GjO7ceZoC5gB"
      },
      "execution_count": null,
      "outputs": []
    },
    {
      "cell_type": "code",
      "source": [
        "from collections import Counter\n",
        "print(sorted(Counter(y_resampled).items()))"
      ],
      "metadata": {
        "id": "cp3pj6QJDOEW",
        "outputId": "08514247-5358-46e9-d2ca-649be2f5a1d2",
        "colab": {
          "base_uri": "https://localhost:8080/"
        }
      },
      "execution_count": null,
      "outputs": [
        {
          "output_type": "stream",
          "name": "stdout",
          "text": [
            "[(0, 14747), (1, 14747)]\n"
          ]
        }
      ]
    },
    {
      "cell_type": "markdown",
      "source": [
        "This is the end of Data processing section. We now have clean and balanced dataset, which can be feed into our models."
      ],
      "metadata": {
        "id": "sHaOS7WlnKpz"
      }
    },
    {
      "cell_type": "markdown",
      "source": [
        "# Model Construuction\n"
      ],
      "metadata": {
        "id": "fTd-eZRFinsm"
      }
    },
    {
      "cell_type": "markdown",
      "source": [
        "## Logistic Regression"
      ],
      "metadata": {
        "id": "qNgXi-7UjJe3"
      }
    },
    {
      "cell_type": "markdown",
      "source": [
        "In this part, we first use Logistic Regreesion to fit the model. Logistic Regression is a classical classification model, which is easy to implement and highly efficient. Although it may not be that accurate, we want to use the model as a baseline, and compare it with other models built in the following parts. "
      ],
      "metadata": {
        "id": "RJkD6qst7xif"
      }
    },
    {
      "cell_type": "code",
      "source": [
        "from sklearn.linear_model import LogisticRegression\n",
        "lr = LogisticRegression()\n",
        "lr.fit(X_resampled,y_resampled)"
      ],
      "metadata": {
        "colab": {
          "base_uri": "https://localhost:8080/"
        },
        "id": "TWh9ZZSbitee",
        "outputId": "c448ed85-f759-4b47-c17a-79f91f61c61f"
      },
      "execution_count": null,
      "outputs": [
        {
          "output_type": "execute_result",
          "data": {
            "text/plain": [
              "LogisticRegression()"
            ]
          },
          "metadata": {},
          "execution_count": 112
        }
      ]
    },
    {
      "cell_type": "code",
      "source": [
        "lr_train_preds_score = lr.score(X_resampled,y_resampled)\n",
        "lr_train_preds_score"
      ],
      "metadata": {
        "colab": {
          "base_uri": "https://localhost:8080/"
        },
        "id": "gaH-WbccinLQ",
        "outputId": "8253ab54-65ad-4f10-a4d3-cdca24bfc325"
      },
      "execution_count": null,
      "outputs": [
        {
          "output_type": "execute_result",
          "data": {
            "text/plain": [
              "0.6229063538346783"
            ]
          },
          "metadata": {},
          "execution_count": 113
        }
      ]
    },
    {
      "cell_type": "code",
      "source": [
        "lr_test_preds_score = lr.score(X_test_con,y_test)\n",
        "lr_test_preds_score"
      ],
      "metadata": {
        "colab": {
          "base_uri": "https://localhost:8080/"
        },
        "id": "f-WKaYoonJAv",
        "outputId": "03033397-4242-48ff-a9c3-f00f9efce16e"
      },
      "execution_count": null,
      "outputs": [
        {
          "output_type": "execute_result",
          "data": {
            "text/plain": [
              "0.5934574037683504"
            ]
          },
          "metadata": {},
          "execution_count": 114
        }
      ]
    },
    {
      "cell_type": "markdown",
      "source": [
        "The training accuuracy is 62.29%, and the testing accuracy is 59.34%. The accuracy is fair as we supposed. "
      ],
      "metadata": {
        "id": "zJBfRx2F8spx"
      }
    },
    {
      "cell_type": "code",
      "source": [
        "from sklearn import metrics\n",
        "lr_test_preds = lr.predict(X_test_con)\n",
        "cm = metrics.confusion_matrix(y_test, lr_test_preds)\n",
        "cm_display = metrics.ConfusionMatrixDisplay(confusion_matrix = cm, display_labels = [False, True])\n",
        "cm_display.plot()\n",
        "plt.show()"
      ],
      "metadata": {
        "colab": {
          "base_uri": "https://localhost:8080/",
          "height": 279
        },
        "id": "NXfb_hDejv3K",
        "outputId": "97947258-1575-4d0a-b994-59edfa4e80ad"
      },
      "execution_count": null,
      "outputs": [
        {
          "output_type": "display_data",
          "data": {
            "text/plain": [
              "<Figure size 432x288 with 2 Axes>"
            ],
            "image/png": "[encoded data removed]"
          },
          "metadata": {
            "needs_background": "light"
          }
        }
      ]
    },
    {
      "cell_type": "markdown",
      "source": [
        "We plot the confusion matrix here. The confussion matrix can help us identify whether the model can classify both the true labels and false labels correctly. That is, we do not want the model to be abble to classify the true labels but not the false labels. It is specially important for the imblanced dataset like what we use here. \n",
        "\n",
        "From the confusion matrix plotted here, the model does not show the difference between identifying the true labels and the false labels. "
      ],
      "metadata": {
        "id": "0qEbzD1a-ekd"
      }
    },
    {
      "cell_type": "code",
      "source": [
        "metrics.plot_roc_curve(lr, X_test_con, y_test)"
      ],
      "metadata": {
        "id": "LC3myhrtlGht",
        "colab": {
          "base_uri": "https://localhost:8080/",
          "height": 354
        },
        "outputId": "61e1e7da-e8b6-41bf-9ab8-935f0f934deb"
      },
      "execution_count": null,
      "outputs": [
        {
          "output_type": "stream",
          "name": "stderr",
          "text": [
            "/usr/local/lib/python3.8/dist-packages/sklearn/utils/deprecation.py:87: FutureWarning: Function plot_roc_curve is deprecated; Function :func:`plot_roc_curve` is deprecated in 1.0 and will be removed in 1.2. Use one of the class methods: :meth:`sklearn.metric.RocCurveDisplay.from_predictions` or :meth:`sklearn.metric.RocCurveDisplay.from_estimator`.\n",
            "  warnings.warn(msg, category=FutureWarning)\n"
          ]
        },
        {
          "output_type": "execute_result",
          "data": {
            "text/plain": [
              "<sklearn.metrics._plot.roc_curve.RocCurveDisplay at 0x7f4d87c989a0>"
            ]
          },
          "metadata": {},
          "execution_count": 116
        },
        {
          "output_type": "display_data",
          "data": {
            "text/plain": [
              "<Figure size 432x288 with 1 Axes>"
            ],
            "image/png": "[encoded data removed]"
          },
          "metadata": {
            "needs_background": "light"
          }
        }
      ]
    },
    {
      "cell_type": "markdown",
      "source": [
        "The ROC-AUC curve is plotted above. The x-axis is false positive rate, and the y-axis is true positive rate. The model can classify both the true labels and false labels, although the accuracy is not that high."
      ],
      "metadata": {
        "id": "Mn6Y9_YZBmBw"
      }
    },
    {
      "cell_type": "markdown",
      "source": [
        "## Decision Tree Classifier"
      ],
      "metadata": {
        "id": "XVH8NZdJnZO_"
      }
    },
    {
      "cell_type": "markdown",
      "source": [
        "We use the decision tree classifier as the second model. Decision tree is easy to implement and explain. The method is also intuitive. The disadvantage of this model is that it may not be robust enough to handle the small changes in some data."
      ],
      "metadata": {
        "id": "eBxPWNmfLCDs"
      }
    },
    {
      "cell_type": "code",
      "source": [
        "from sklearn.tree import DecisionTreeClassifier\n",
        "dtc = DecisionTreeClassifier()"
      ],
      "metadata": {
        "id": "qswQU6T9neQ9"
      },
      "execution_count": null,
      "outputs": []
    },
    {
      "cell_type": "code",
      "source": [
        "from sklearn.model_selection import GridSearchCV\n",
        "para = {'criterion': ('entropy', 'gini'), 'max_depth': [50, 100]}\n",
        "clf = GridSearchCV(dtc, para)\n",
        "clf.fit(X_resampled, y_resampled)\n",
        "clf.best_params_"
      ],
      "metadata": {
        "id": "OFFGduBJosCf",
        "colab": {
          "base_uri": "https://localhost:8080/"
        },
        "outputId": "1002b654-097b-4e6e-90cd-2ca99bc36863"
      },
      "execution_count": null,
      "outputs": [
        {
          "output_type": "execute_result",
          "data": {
            "text/plain": [
              "{'criterion': 'gini', 'max_depth': 50}"
            ]
          },
          "metadata": {},
          "execution_count": 118
        }
      ]
    },
    {
      "cell_type": "code",
      "source": [
        "dtc = DecisionTreeClassifier(criterion = 'gini', max_depth = 100)\n",
        "dtc.fit(X_resampled, y_resampled)"
      ],
      "metadata": {
        "id": "3-4Nj_4opzLm",
        "colab": {
          "base_uri": "https://localhost:8080/"
        },
        "outputId": "15b4182e-a56e-434a-f0a4-7a6be25b2cc6"
      },
      "execution_count": null,
      "outputs": [
        {
          "output_type": "execute_result",
          "data": {
            "text/plain": [
              "DecisionTreeClassifier(max_depth=100)"
            ]
          },
          "metadata": {},
          "execution_count": 119
        }
      ]
    },
    {
      "cell_type": "code",
      "source": [
        "dtc_train_preds_score = dtc.score(X_resampled,y_resampled)\n",
        "dtc_train_preds_score"
      ],
      "metadata": {
        "id": "8T6B38j_neTz",
        "colab": {
          "base_uri": "https://localhost:8080/"
        },
        "outputId": "5ed1f128-70c0-4ccc-c98a-142fd35f47c5"
      },
      "execution_count": null,
      "outputs": [
        {
          "output_type": "execute_result",
          "data": {
            "text/plain": [
              "0.9728080287516105"
            ]
          },
          "metadata": {},
          "execution_count": 120
        }
      ]
    },
    {
      "cell_type": "code",
      "source": [
        "dtc_test_preds_score = dtc.score(X_test_con,y_test)\n",
        "dtc_test_preds_score"
      ],
      "metadata": {
        "id": "GzX_Ujbgnn99",
        "colab": {
          "base_uri": "https://localhost:8080/"
        },
        "outputId": "530a6d27-1b94-41e4-d77f-3c1d86641e60"
      },
      "execution_count": null,
      "outputs": [
        {
          "output_type": "execute_result",
          "data": {
            "text/plain": [
              "0.78869494856086"
            ]
          },
          "metadata": {},
          "execution_count": 121
        }
      ]
    },
    {
      "cell_type": "markdown",
      "source": [
        "The training accuracy is 97.28%, and the testing accuracy is 78.87%. Decision tree has overfitted here. "
      ],
      "metadata": {
        "id": "RhHWkRALL4gj"
      }
    },
    {
      "cell_type": "code",
      "source": [
        "from sklearn import metrics\n",
        "dtc_test_preds = dtc.predict(X_test_con)\n",
        "cm = metrics.confusion_matrix(y_test, dtc_test_preds)\n",
        "cm_display = metrics.ConfusionMatrixDisplay(confusion_matrix = cm, display_labels = [False, True])\n",
        "cm_display.plot()\n",
        "plt.show()"
      ],
      "metadata": {
        "id": "Ae2hgZsznulR",
        "colab": {
          "base_uri": "https://localhost:8080/",
          "height": 279
        },
        "outputId": "1b620614-6b4f-492f-aab1-dec929eab33f"
      },
      "execution_count": null,
      "outputs": [
        {
          "output_type": "display_data",
          "data": {
            "text/plain": [
              "<Figure size 432x288 with 2 Axes>"
            ],
            "image/png": "[encoded data removed]"
          },
          "metadata": {
            "needs_background": "light"
          }
        }
      ]
    },
    {
      "cell_type": "markdown",
      "source": [
        "According to the confusion matrix here, the model performs better in predicting the false labels correctly. It is also shown in the ROC-AUC curve plotted below. "
      ],
      "metadata": {
        "id": "ZuDxx86OQSjL"
      }
    },
    {
      "cell_type": "code",
      "source": [
        "metrics.plot_roc_curve(dtc, X_test_con, y_test)"
      ],
      "metadata": {
        "id": "UKD3E_0cnyKx",
        "colab": {
          "base_uri": "https://localhost:8080/",
          "height": 354
        },
        "outputId": "d33376d9-b88d-4da6-aca6-08527a76af3b"
      },
      "execution_count": null,
      "outputs": [
        {
          "output_type": "stream",
          "name": "stderr",
          "text": [
            "/usr/local/lib/python3.8/dist-packages/sklearn/utils/deprecation.py:87: FutureWarning: Function plot_roc_curve is deprecated; Function :func:`plot_roc_curve` is deprecated in 1.0 and will be removed in 1.2. Use one of the class methods: :meth:`sklearn.metric.RocCurveDisplay.from_predictions` or :meth:`sklearn.metric.RocCurveDisplay.from_estimator`.\n",
            "  warnings.warn(msg, category=FutureWarning)\n"
          ]
        },
        {
          "output_type": "execute_result",
          "data": {
            "text/plain": [
              "<sklearn.metrics._plot.roc_curve.RocCurveDisplay at 0x7f4d87a86250>"
            ]
          },
          "metadata": {},
          "execution_count": 123
        },
        {
          "output_type": "display_data",
          "data": {
            "text/plain": [
              "<Figure size 432x288 with 1 Axes>"
            ],
            "image/png": "[encoded data removed]"
          },
          "metadata": {
            "needs_background": "light"
          }
        }
      ]
    },
    {
      "cell_type": "markdown",
      "source": [
        "## Random Forest Classifier"
      ],
      "metadata": {
        "id": "qgQdM1fQk1Eu"
      }
    },
    {
      "cell_type": "markdown",
      "source": [
        "Random Forest Classifier is tried here. It is a collection of decision trees. With many decision trees, the robustness can be guaranteed for random forest. It is also easy to explain and intuitive as the decision tree. "
      ],
      "metadata": {
        "id": "WO5uSDAJUz2_"
      }
    },
    {
      "cell_type": "code",
      "source": [
        "from sklearn.ensemble import RandomForestClassifier\n",
        "rfc = RandomForestClassifier()\n",
        "rfc.fit(X_resampled,y_resampled)"
      ],
      "metadata": {
        "id": "A-BgYlrOkMzA",
        "colab": {
          "base_uri": "https://localhost:8080/"
        },
        "outputId": "5a6466d4-4592-43fd-d043-e9e032f38668"
      },
      "execution_count": null,
      "outputs": [
        {
          "output_type": "execute_result",
          "data": {
            "text/plain": [
              "RandomForestClassifier()"
            ]
          },
          "metadata": {},
          "execution_count": 124
        }
      ]
    },
    {
      "cell_type": "code",
      "source": [
        "from sklearn.model_selection import GridSearchCV\n",
        "para = {'max_depth': [50, 100], 'n_estimators': [60, 80, 100, 120]}\n",
        "clf = GridSearchCV(rfc, para)\n",
        "clf.fit(X_resampled, y_resampled)\n",
        "clf.best_params_"
      ],
      "metadata": {
        "id": "iFeYCVhkqbeE",
        "colab": {
          "base_uri": "https://localhost:8080/"
        },
        "outputId": "564efe91-c982-4693-db9c-cc6817414f81"
      },
      "execution_count": null,
      "outputs": [
        {
          "output_type": "execute_result",
          "data": {
            "text/plain": [
              "{'max_depth': 50, 'n_estimators': 120}"
            ]
          },
          "metadata": {},
          "execution_count": 125
        }
      ]
    },
    {
      "cell_type": "code",
      "source": [
        "rfc = RandomForestClassifier(n_estimators = 120, max_depth = 50)\n",
        "rfc.fit(X_resampled,y_resampled)"
      ],
      "metadata": {
        "id": "sWrF8oqRq0JV",
        "colab": {
          "base_uri": "https://localhost:8080/"
        },
        "outputId": "056a35ef-8671-42aa-b47c-6089d46abf1c"
      },
      "execution_count": null,
      "outputs": [
        {
          "output_type": "execute_result",
          "data": {
            "text/plain": [
              "RandomForestClassifier(max_depth=50, n_estimators=120)"
            ]
          },
          "metadata": {},
          "execution_count": 126
        }
      ]
    },
    {
      "cell_type": "code",
      "source": [
        "rfc_train_preds_score = rfc.score(X_resampled,y_resampled)\n",
        "rfc_train_preds_score"
      ],
      "metadata": {
        "id": "WLR1lLVqj5q7",
        "colab": {
          "base_uri": "https://localhost:8080/"
        },
        "outputId": "db110e29-0366-4822-cb50-0ab66571c4f1"
      },
      "execution_count": null,
      "outputs": [
        {
          "output_type": "execute_result",
          "data": {
            "text/plain": [
              "0.9728080287516105"
            ]
          },
          "metadata": {},
          "execution_count": 127
        }
      ]
    },
    {
      "cell_type": "code",
      "source": [
        "rfc_test_preds_score = rfc.score(X_test_con,y_test)\n",
        "rfc_test_preds_score"
      ],
      "metadata": {
        "id": "ollYR-4UnQOk",
        "colab": {
          "base_uri": "https://localhost:8080/"
        },
        "outputId": "e8f512f4-fdcd-49e8-c82e-84a2f222c790"
      },
      "execution_count": null,
      "outputs": [
        {
          "output_type": "execute_result",
          "data": {
            "text/plain": [
              "0.8394405271066928"
            ]
          },
          "metadata": {},
          "execution_count": 128
        }
      ]
    },
    {
      "cell_type": "markdown",
      "source": [
        "The training accuracy is 97.28%, and the testing accuracy is 83.94%. The testing accuracy has been highly improved compared with the decision tree classifier. The model may have overfitted here. We have tuned the parameters, and we use 120 trees to construct the random forest models. This may be the reason why the model has overfitted."
      ],
      "metadata": {
        "id": "A4Ykg0qjVdRL"
      }
    },
    {
      "cell_type": "code",
      "source": [
        "from sklearn import metrics\n",
        "rfc_test_preds = rfc.predict(X_test_con)\n",
        "cm = metrics.confusion_matrix(y_test, rfc_test_preds)\n",
        "cm_display = metrics.ConfusionMatrixDisplay(confusion_matrix = cm, display_labels = [False, True])\n",
        "cm_display.plot()\n",
        "plt.show()"
      ],
      "metadata": {
        "id": "Ne_fKsMWmx0Q",
        "colab": {
          "base_uri": "https://localhost:8080/",
          "height": 279
        },
        "outputId": "8ee1e637-3093-43c3-8f17-07ef135c9e4f"
      },
      "execution_count": null,
      "outputs": [
        {
          "output_type": "display_data",
          "data": {
            "text/plain": [
              "<Figure size 432x288 with 2 Axes>"
            ],
            "image/png": "[encoded data removed]"
          },
          "metadata": {
            "needs_background": "light"
          }
        }
      ]
    },
    {
      "cell_type": "markdown",
      "source": [
        "The random forest classifier shows equally great performance in identifying the true labels and false labels. The same result can be concluded from the ROC-AUC curve plotted below. The overall performance of the random forest classifier is great. "
      ],
      "metadata": {
        "id": "ytvrcxSMYR8f"
      }
    },
    {
      "cell_type": "code",
      "source": [
        "metrics.plot_roc_curve(rfc, X_test_con, y_test)"
      ],
      "metadata": {
        "id": "bUgvcCe3m2un",
        "colab": {
          "base_uri": "https://localhost:8080/",
          "height": 354
        },
        "outputId": "03d8e1e7-226c-44e8-e9e2-d1f2f3c5487d"
      },
      "execution_count": null,
      "outputs": [
        {
          "output_type": "stream",
          "name": "stderr",
          "text": [
            "/usr/local/lib/python3.8/dist-packages/sklearn/utils/deprecation.py:87: FutureWarning: Function plot_roc_curve is deprecated; Function :func:`plot_roc_curve` is deprecated in 1.0 and will be removed in 1.2. Use one of the class methods: :meth:`sklearn.metric.RocCurveDisplay.from_predictions` or :meth:`sklearn.metric.RocCurveDisplay.from_estimator`.\n",
            "  warnings.warn(msg, category=FutureWarning)\n"
          ]
        },
        {
          "output_type": "execute_result",
          "data": {
            "text/plain": [
              "<sklearn.metrics._plot.roc_curve.RocCurveDisplay at 0x7f4d87a57520>"
            ]
          },
          "metadata": {},
          "execution_count": 130
        },
        {
          "output_type": "display_data",
          "data": {
            "text/plain": [
              "<Figure size 432x288 with 1 Axes>"
            ],
            "image/png": "[encoded data removed]"
          },
          "metadata": {
            "needs_background": "light"
          }
        }
      ]
    },
    {
      "cell_type": "markdown",
      "source": [
        "## AdaBoost Classifier"
      ],
      "metadata": {
        "id": "-5WWww7jm6Dd"
      }
    },
    {
      "cell_type": "markdown",
      "source": [
        "AdaBoost is a series of decision trees. During the training process, it uses the boosting and the additive models. That is, it will build a series of decision trees with more weights puting into instances that are difficult to classify. We hope this model can help us identify successfully all the samples, especially for the samples that are difficult to classify.  "
      ],
      "metadata": {
        "id": "d9apTepeZZFB"
      }
    },
    {
      "cell_type": "code",
      "source": [
        "from sklearn.ensemble import AdaBoostClassifier\n",
        "adc = AdaBoostClassifier()"
      ],
      "metadata": {
        "id": "TJnJcwl6m5Bf"
      },
      "execution_count": null,
      "outputs": []
    },
    {
      "cell_type": "code",
      "source": [
        "from sklearn.model_selection import GridSearchCV\n",
        "para = {'n_estimators': [80, 100, 120]}\n",
        "clf = GridSearchCV(rfc, para)\n",
        "clf.fit(X_resampled, y_resampled)\n",
        "clf.best_params_"
      ],
      "metadata": {
        "id": "Cp1UCJvSq_uG",
        "colab": {
          "base_uri": "https://localhost:8080/"
        },
        "outputId": "9826bfe4-97bf-45a2-849e-be564c1eeb28"
      },
      "execution_count": null,
      "outputs": [
        {
          "output_type": "execute_result",
          "data": {
            "text/plain": [
              "{'n_estimators': 120}"
            ]
          },
          "metadata": {},
          "execution_count": 132
        }
      ]
    },
    {
      "cell_type": "code",
      "source": [
        "adc = AdaBoostClassifier(n_estimators = 100)\n",
        "adc.fit(X_resampled,y_resampled)"
      ],
      "metadata": {
        "id": "WMIYTEIYr89u",
        "colab": {
          "base_uri": "https://localhost:8080/"
        },
        "outputId": "59277bf5-35ce-4cda-ec1a-16a7bd443498"
      },
      "execution_count": null,
      "outputs": [
        {
          "output_type": "execute_result",
          "data": {
            "text/plain": [
              "AdaBoostClassifier(n_estimators=100)"
            ]
          },
          "metadata": {},
          "execution_count": 133
        }
      ]
    },
    {
      "cell_type": "code",
      "source": [
        "adc_train_preds_score = adc.score(X_resampled,y_resampled)\n",
        "adc_train_preds_score"
      ],
      "metadata": {
        "id": "_ULkbyE7sDJZ",
        "colab": {
          "base_uri": "https://localhost:8080/"
        },
        "outputId": "5008e917-b245-49ea-a9b5-decac0082fcf"
      },
      "execution_count": null,
      "outputs": [
        {
          "output_type": "execute_result",
          "data": {
            "text/plain": [
              "0.6224316810198685"
            ]
          },
          "metadata": {},
          "execution_count": 134
        }
      ]
    },
    {
      "cell_type": "code",
      "source": [
        "adc_test_preds_score = adc.score(X_test_con,y_test)\n",
        "adc_test_preds_score"
      ],
      "metadata": {
        "id": "Q3Cox4TcsG-A",
        "colab": {
          "base_uri": "https://localhost:8080/"
        },
        "outputId": "90d83a0b-6e96-404b-9946-297d732c05ec"
      },
      "execution_count": null,
      "outputs": [
        {
          "output_type": "execute_result",
          "data": {
            "text/plain": [
              "0.590567564443417"
            ]
          },
          "metadata": {},
          "execution_count": 135
        }
      ]
    },
    {
      "cell_type": "markdown",
      "source": [
        "The training accuracy is 62.24%, and the testing accuracy is 59.06%. It is surprising that the AdaBoost does not show a great performance. We can see the confusion matrix below to dive into the possible reasons. It seems that AdaBoost cannot identify the false labels correctly. It may be related to the feature of AdaBoost. That is, the model may pay too much attention on classifying the true labels correctly."
      ],
      "metadata": {
        "id": "BTSL-YrwaLQA"
      }
    },
    {
      "cell_type": "code",
      "source": [
        "from sklearn import metrics\n",
        "adc_test_preds = adc.predict(X_test_con)\n",
        "cm = metrics.confusion_matrix(y_test, adc_test_preds)\n",
        "cm_display = metrics.ConfusionMatrixDisplay(confusion_matrix = cm, display_labels = [False, True])\n",
        "cm_display.plot()\n",
        "plt.show()"
      ],
      "metadata": {
        "id": "P1NUEiA0sLuf",
        "colab": {
          "base_uri": "https://localhost:8080/",
          "height": 279
        },
        "outputId": "4447cfc3-d0ec-4c91-acd0-77b3218229fc"
      },
      "execution_count": null,
      "outputs": [
        {
          "output_type": "display_data",
          "data": {
            "text/plain": [
              "<Figure size 432x288 with 2 Axes>"
            ],
            "image/png": "[encoded data removed]"
          },
          "metadata": {
            "needs_background": "light"
          }
        }
      ]
    },
    {
      "cell_type": "code",
      "source": [
        "metrics.plot_roc_curve(adc, X_test_con, y_test)"
      ],
      "metadata": {
        "id": "X3ISzN-jsURv",
        "colab": {
          "base_uri": "https://localhost:8080/",
          "height": 354
        },
        "outputId": "52218470-465a-4a75-e87b-f9c32c46e9ca"
      },
      "execution_count": null,
      "outputs": [
        {
          "output_type": "stream",
          "name": "stderr",
          "text": [
            "/usr/local/lib/python3.8/dist-packages/sklearn/utils/deprecation.py:87: FutureWarning: Function plot_roc_curve is deprecated; Function :func:`plot_roc_curve` is deprecated in 1.0 and will be removed in 1.2. Use one of the class methods: :meth:`sklearn.metric.RocCurveDisplay.from_predictions` or :meth:`sklearn.metric.RocCurveDisplay.from_estimator`.\n",
            "  warnings.warn(msg, category=FutureWarning)\n"
          ]
        },
        {
          "output_type": "execute_result",
          "data": {
            "text/plain": [
              "<sklearn.metrics._plot.roc_curve.RocCurveDisplay at 0x7f4d87b76160>"
            ]
          },
          "metadata": {},
          "execution_count": 137
        },
        {
          "output_type": "display_data",
          "data": {
            "text/plain": [
              "<Figure size 432x288 with 1 Axes>"
            ],
            "image/png": "[encoded data removed]"
          },
          "metadata": {
            "needs_background": "light"
          }
        }
      ]
    },
    {
      "cell_type": "markdown",
      "source": [
        "## Neural Networks"
      ],
      "metadata": {
        "id": "UNIwirOQsXg0"
      }
    },
    {
      "cell_type": "markdown",
      "source": [
        "Neural Networks are popular models nowadays. Here, we also implement a simple version by sklearn, that is the multi-layer perceptron classifier. The solver for weight optimization is in the family of quasi-Newton methods, and the L2 regularization term is 1e-5. We want to compare the perfomance of different models, so we do not intend to use complex structure of layers here."
      ],
      "metadata": {
        "id": "oWVu0kU5G04Y"
      }
    },
    {
      "cell_type": "code",
      "source": [
        "from sklearn.neural_network import MLPClassifier\n",
        "nn = MLPClassifier(solver = 'lbfgs', alpha = 1e-5, hidden_layer_sizes=(16, 64, 32))\n",
        "nn.fit(X_resampled,y_resampled)"
      ],
      "metadata": {
        "id": "KRll7nOWsaIM",
        "colab": {
          "base_uri": "https://localhost:8080/"
        },
        "outputId": "f28e793f-070b-4ce0-8872-4b13c4828246"
      },
      "execution_count": null,
      "outputs": [
        {
          "output_type": "stream",
          "name": "stderr",
          "text": [
            "/usr/local/lib/python3.8/dist-packages/sklearn/neural_network/_multilayer_perceptron.py:549: ConvergenceWarning: lbfgs failed to converge (status=1):\n",
            "STOP: TOTAL NO. of ITERATIONS REACHED LIMIT.\n",
            "\n",
            "Increase the number of iterations (max_iter) or scale the data as shown in:\n",
            "    https://scikit-learn.org/stable/modules/preprocessing.html\n",
            "  self.n_iter_ = _check_optimize_result(\"lbfgs\", opt_res, self.max_iter)\n"
          ]
        },
        {
          "output_type": "execute_result",
          "data": {
            "text/plain": [
              "MLPClassifier(alpha=1e-05, hidden_layer_sizes=(16, 64, 32), solver='lbfgs')"
            ]
          },
          "metadata": {},
          "execution_count": 138
        }
      ]
    },
    {
      "cell_type": "code",
      "source": [
        "nn_train_preds_score = nn.score(X_resampled,y_resampled)\n",
        "nn_train_preds_score"
      ],
      "metadata": {
        "id": "8iyhgc3Rs3LI",
        "colab": {
          "base_uri": "https://localhost:8080/"
        },
        "outputId": "9de8f92b-b584-40b4-9a53-1dcd9dfd1e7d"
      },
      "execution_count": null,
      "outputs": [
        {
          "output_type": "execute_result",
          "data": {
            "text/plain": [
              "0.8565470943242693"
            ]
          },
          "metadata": {},
          "execution_count": 139
        }
      ]
    },
    {
      "cell_type": "code",
      "source": [
        "nn_test_preds_score = nn.score(X_test_con,y_test)\n",
        "nn_test_preds_score"
      ],
      "metadata": {
        "id": "m9TCBm5Zs6FS",
        "colab": {
          "base_uri": "https://localhost:8080/"
        },
        "outputId": "02746a55-40cb-46f7-8c68-44e868bb2b50"
      },
      "execution_count": null,
      "outputs": [
        {
          "output_type": "execute_result",
          "data": {
            "text/plain": [
              "0.759912148884522"
            ]
          },
          "metadata": {},
          "execution_count": 140
        }
      ]
    },
    {
      "cell_type": "markdown",
      "source": [
        "The training accuracy is 85.65%, and the testing accuracy is 75.99%. "
      ],
      "metadata": {
        "id": "LgquK5QkHlu-"
      }
    },
    {
      "cell_type": "code",
      "source": [
        "from sklearn import metrics\n",
        "nn_test_preds = nn.predict(X_test_con)\n",
        "cm = metrics.confusion_matrix(y_test, nn_test_preds)\n",
        "cm_display = metrics.ConfusionMatrixDisplay(confusion_matrix = cm, display_labels = [False, True])\n",
        "cm_display.plot()\n",
        "plt.show()"
      ],
      "metadata": {
        "id": "z9gK6xndtApM",
        "colab": {
          "base_uri": "https://localhost:8080/",
          "height": 281
        },
        "outputId": "dbe24a13-4436-41d1-d110-403ab2361518"
      },
      "execution_count": null,
      "outputs": [
        {
          "output_type": "display_data",
          "data": {
            "text/plain": [
              "<Figure size 432x288 with 2 Axes>"
            ],
            "image/png": "[encoded data removed]"
          },
          "metadata": {
            "needs_background": "light"
          }
        }
      ]
    },
    {
      "cell_type": "markdown",
      "source": [
        "Neural Networks show the similar ability to classify the true labels and false labels in this project. "
      ],
      "metadata": {
        "id": "J7dhmohmHuxw"
      }
    },
    {
      "cell_type": "code",
      "source": [
        "metrics.plot_roc_curve(nn, X_test_con, y_test)"
      ],
      "metadata": {
        "id": "8gDOB4ostGjp",
        "colab": {
          "base_uri": "https://localhost:8080/",
          "height": 354
        },
        "outputId": "b7c771b6-ff08-4b97-f35b-ced8ae17bc6e"
      },
      "execution_count": null,
      "outputs": [
        {
          "output_type": "stream",
          "name": "stderr",
          "text": [
            "/usr/local/lib/python3.8/dist-packages/sklearn/utils/deprecation.py:87: FutureWarning: Function plot_roc_curve is deprecated; Function :func:`plot_roc_curve` is deprecated in 1.0 and will be removed in 1.2. Use one of the class methods: :meth:`sklearn.metric.RocCurveDisplay.from_predictions` or :meth:`sklearn.metric.RocCurveDisplay.from_estimator`.\n",
            "  warnings.warn(msg, category=FutureWarning)\n"
          ]
        },
        {
          "output_type": "execute_result",
          "data": {
            "text/plain": [
              "<sklearn.metrics._plot.roc_curve.RocCurveDisplay at 0x7f4d8780cac0>"
            ]
          },
          "metadata": {},
          "execution_count": 142
        },
        {
          "output_type": "display_data",
          "data": {
            "text/plain": [
              "<Figure size 432x288 with 1 Axes>"
            ],
            "image/png": "[encoded data removed]"
          },
          "metadata": {
            "needs_background": "light"
          }
        }
      ]
    },
    {
      "cell_type": "markdown",
      "source": [
        "# Model Comparision and Conclusion"
      ],
      "metadata": {
        "id": "jyqSanyQvSKk"
      }
    },
    {
      "cell_type": "markdown",
      "source": [
        "After sucessfully constructing 5 different models to fit our data, we want to compare the performance of each model and choose a best one in terms of test accuracy."
      ],
      "metadata": {
        "id": "oJXv9VtYjeSX"
      }
    },
    {
      "cell_type": "code",
      "source": [
        "models=['Logistic Regression', 'Decision Tree', 'Random Forest', 'AdaBoost', 'Neural Networks']\n",
        "scores=[lr_test_preds_score, dtc_test_preds_score, rfc_test_preds_score, adc_test_preds_score, nn_test_preds_score]"
      ],
      "metadata": {
        "id": "naR5y5gTvRiR"
      },
      "execution_count": null,
      "outputs": []
    },
    {
      "cell_type": "code",
      "source": [
        "plt.bar(models, scores, width=0.8, bottom=None, align='center')\n",
        "plt.title('Accuracies of Different Models')\n",
        "plt.xlabel('Model')\n",
        "plt.ylabel('Accuracy')\n",
        "plt.xticks(rotation=15)\n",
        "plt.show()"
      ],
      "metadata": {
        "id": "OvoMTEeLv1SU",
        "colab": {
          "base_uri": "https://localhost:8080/",
          "height": 320
        },
        "outputId": "3dfcc7d0-6a99-4f3c-b421-8a13aff35a0f"
      },
      "execution_count": null,
      "outputs": [
        {
          "output_type": "display_data",
          "data": {
            "text/plain": [
              "<Figure size 432x288 with 1 Axes>"
            ],
            "image/png": "[encoded data removed]"
          },
          "metadata": {
            "needs_background": "light"
          }
        }
      ]
    },
    {
      "cell_type": "markdown",
      "source": [
        "We can tell from the plot that the Random Forest model has the highest accuracy among all 5 models."
      ],
      "metadata": {
        "id": "KZm75LqH2cqC"
      }
    },
    {
      "cell_type": "markdown",
      "source": [
        "To conclude with all the information we presented above, we successfully build a random forest predictive model that has achieved training accuracy of 97.28% and test accuracy of 83.94%. Althoguh we still have room to grow, this accruacy is satisfying and can contribute in fraud detection, helping insurance company recognize potential fraud in the early steps and they can continue to look at each potential fraud more carefully and detailedly if they wish.  "
      ],
      "metadata": {
        "id": "vj50DgEboIQo"
      }
    },
    {
      "cell_type": "markdown",
      "source": [
        "# Obstacles & Challenges"
      ],
      "metadata": {
        "id": "Jw7qmqMZqoAY"
      }
    },
    {
      "cell_type": "markdown",
      "source": [
        "Challenge: There are some missing values and missing data we need to handle before modeling.\n",
        "\n",
        "Solution: After checking the null value percentage, we conclude that the missing value only counts for a small amount of rows. Instead of data imputation, we directely drop nans.\n"
      ],
      "metadata": {
        "id": "7km0CPiGrNaJ"
      }
    },
    {
      "cell_type": "markdown",
      "source": [
        "Challenge: The dataset is highly unbalanced because there is less fraud than normal claims. \n",
        "\n",
        "Solution: The ratio of fraud and non-fraud data is 1:4 that is hignly unbalanced. We upsampled the reported fraud data into the same amount (14747) as reported not fraud.\n"
      ],
      "metadata": {
        "id": "AFjG5EytsJPQ"
      }
    },
    {
      "cell_type": "markdown",
      "source": [
        "# Potential Next Steps"
      ],
      "metadata": {
        "id": "rGGP2i9Vkeuz"
      }
    },
    {
      "cell_type": "markdown",
      "source": [
        "The sparse data generated by one-hot encoding may have influenced the model performance negatively. There are 7 categorical features in the original dataset, and we transform them into 34 variables. 60 input variables may be too many for the models to show great performance. The possible solution can be that we can investigate into these features, and try to only fit the models with the important features instead of the unrelated features."
      ],
      "metadata": {
        "id": "bcYHdaBakjxb"
      }
    },
    {
      "cell_type": "markdown",
      "source": [
        "One potential positive additive to the project is that we can try downsampling to handle the imbalanced dataset. In this project, we have used the method of upsampling. The models may show different perfomances with downsampling. Then, we may choose the model with best performance."
      ],
      "metadata": {
        "id": "nuux-sTkIYaP"
      }
    },
    {
      "cell_type": "markdown",
      "source": [
        "Another possible step is that we can explore more different kinds of model to fit to our data. For example, we could fit k neighbor classification model or other types of neural networks. If the model achieves higher accuracy, this could alter our choice of model and improve performance of our project. "
      ],
      "metadata": {
        "id": "Bsz37q4JJbia"
      }
    }
  ]
}